{
  "nbformat": 4,
  "nbformat_minor": 0,
  "metadata": {
    "colab": {
      "provenance": []
    },
    "kernelspec": {
      "name": "python3",
      "display_name": "Python 3"
    },
    "language_info": {
      "name": "python"
    }
  },
  "cells": [
    {
      "cell_type": "markdown",
      "source": [
        "---\n",
        "\n",
        "<center>\n",
        "\n",
        "# **Python for Data Science**\n",
        "\n",
        "### *Loops in python*\n",
        "\n",
        "</center>\n",
        "\n",
        "---"
      ],
      "metadata": {
        "id": "6RFxq2-E5sGr"
      }
    },
    {
      "cell_type": "markdown",
      "source": [
        "In programming, it is very common to repeat the same lines of code multiple times.  \n",
        "Instead of copying and pasting, it’s more efficient to use **loops**, which execute a set of instructions as many times as necessary.\n",
        "\n",
        "In Python, there are two main keywords for loops: **for** and **while**."
      ],
      "metadata": {
        "id": "-rePX7vNu-SS"
      }
    },
    {
      "cell_type": "markdown",
      "source": [
        "---\n",
        "\n",
        "<center>\n",
        "\n",
        "## **📖 The `for` loop**\n",
        "\n",
        "</center>\n",
        "\n",
        "---\n"
      ],
      "metadata": {
        "id": "TzgKMM-87GR7"
      }
    },
    {
      "cell_type": "markdown",
      "source": [
        "A `for` loop repeats a block of instructions in a controlled way.\n",
        "\n",
        "It is very explicit about the variable that changes during each iteration, and the number of iterations is always finite.\n",
        "\n",
        "For example, to print each letter of the word `\"loop\"` one by one:\n",
        "\n",
        "```python\n",
        "for letter in \"loop\":\n",
        "    print(letter)\n",
        ">>> l\n",
        ">>> o\n",
        ">>> o\n",
        ">>> p\n",
        "```\n",
        "### **General structure of a for loop**:\n",
        "\n",
        "```python\n",
        "for item in sequence:\n",
        "    instruction1\n",
        "    ...\n",
        "    instructionN\n",
        "\n",
        "other_instruction\n",
        "```\n",
        "The `for` loop executes the block of instructions once for each element in the sequence.\n",
        "\n",
        "Lines outside the indented block are not part of the loop and run **only once** after the loop ends.\n",
        "\n",
        "### **Execution steps** :\n",
        "\n",
        "- The variable `item` takes the value of the first element in `sequence`.\n",
        "- The block of instructions is executed.\n",
        "- The variable `item` takes the value of the second element in `sequence`.\n",
        "- The block of instructions is executed again.\n",
        "- This continues until the last element in the sequence is processed.\n",
        "- After the loop finishes, `other_instruction` is executed.\n",
        "\n",
        "The sequence can be any **iterable object**: a list, tuple, string, etc.\n",
        "Inside a for loop, you don’t need to manually update `item` — Python does it automatically.\n",
        "Be careful not to forget the in keyword and the `:` symbol, as they are required in the syntax.\n",
        "\n",
        "\n",
        "\n",
        "\n"
      ],
      "metadata": {
        "id": "40MxNQCc7KYz"
      }
    },
    {
      "cell_type": "markdown",
      "source": [
        "---\n",
        "\n",
        "<center>\n",
        "\n",
        "### **🔍 Example : working with for loop**\n",
        "\n",
        "</center>\n",
        "\n",
        "---\n",
        "\n",
        "A teacher has underestimated students’ grades and wants to raise them so that the class average exceeds 10/20.\n",
        "\n",
        "The students’ current grades are stored in the list:\n",
        "\n",
        "```python\n",
        "low_scores = [0, 2, 3, 3, 3, 3, 4, 5, 5, 5, 6, 6, 6, 6, 6, 7, 7, 8, 8, 8, 8, 8, 8, 9, 10, 10, 10, 11, 12, 14]\n",
        "```\n",
        "\n",
        "Using for loops:\n",
        "\n",
        "- (a) Calculate and display the current class average (there are 30 students).\n",
        "- (b) Create a new list `improved_scores` where each grade is increased by 4 points. You can start with an empty list and append the updated grades one by one.\n",
        "- (c) Check that the new class average is above 10."
      ],
      "metadata": {
        "id": "nP3CNMWl7nCS"
      }
    },
    {
      "cell_type": "code",
      "execution_count": null,
      "metadata": {
        "id": "e2PdHI-p5NOA"
      },
      "outputs": [],
      "source": [
        "# TODO"
      ]
    },
    {
      "cell_type": "markdown",
      "source": [
        "---\n",
        "\n",
        "<center>\n",
        "\n",
        "### **🔍 Example : min and max**\n",
        "\n",
        "</center>\n",
        "\n",
        "---\n",
        "\n",
        "Determine the maximum and minimum values of the list numbers containing the elements [2, 3, 8, 1, 4] using a for` loop."
      ],
      "metadata": {
        "id": "mTLUDq2CyYd9"
      }
    },
    {
      "cell_type": "code",
      "source": [
        "# TODO"
      ],
      "metadata": {
        "id": "yNM_ybyTyiaM"
      },
      "execution_count": null,
      "outputs": []
    },
    {
      "cell_type": "markdown",
      "source": [
        "You could also directly use Python’s built-in functions min() and max() which work with lists, as shown below:"
      ],
      "metadata": {
        "id": "cqlaGJ2RyvFG"
      }
    },
    {
      "cell_type": "code",
      "source": [
        "numbers = [2, 3, 8, 1, 4]\n",
        "\n",
        "minimum = min(numbers)\n",
        "maximum = max(numbers)\n",
        "\n",
        "print(\"Minimum value:\", minimum)\n",
        "print(\"Maximum value:\", maximum)"
      ],
      "metadata": {
        "colab": {
          "base_uri": "https://localhost:8080/"
        },
        "id": "F20-ZWJIy4Ri",
        "outputId": "a1ab5f3d-c32a-4415-d0c9-cca6f35d469d"
      },
      "execution_count": null,
      "outputs": [
        {
          "output_type": "stream",
          "name": "stdout",
          "text": [
            "Minimum value: 1\n",
            "Maximum value: 8\n"
          ]
        }
      ]
    },
    {
      "cell_type": "markdown",
      "source": [
        "Often, when iterating over all elements in a data structure, you may want to exit the loop early. This is where the keyword **`break`** comes in handy. It allows you to immediately stop the execution of a loop and continue with the next statement outside the loop. You can use it in both for and while loops when a specific condition is met, as shown in the example below:\n",
        "\n",
        "\n",
        "```python\n",
        "for number in [25, 7, -3, 18]:\n",
        "    print(number)\n",
        "    if number < 0:\n",
        "        print(\"There is at least one negative number in the list.\")\n",
        "        break  # Exit the loop as soon as a negative number is found\n",
        "```\n",
        "\n",
        "In this example, the for loop goes through the list looking for negative numbers. As soon as it finds one, it stops immediately. Here, the variable `number` takes only the values 25 and -3 because when `number` becomes -3, the `break` statement terminates the loop."
      ],
      "metadata": {
        "id": "pvlD5QNTzU1O"
      }
    },
    {
      "cell_type": "markdown",
      "source": [
        "---\n",
        "\n",
        "<center>\n",
        "\n",
        "### **🔍 Example : break key word**\n",
        "\n",
        "</center>\n",
        "\n",
        "---\n",
        "\n",
        "\n",
        "Create the list `numbers` with the elements: [2, 3, 4, 5, 6, 4].  \n",
        "Use a `for` loop and the `break` keyword to print the message **\"The number 4 is present\"** as soon as the number 4 is detected in the list.  \n",
        "This message should be printed only once."
      ],
      "metadata": {
        "id": "lPmb81re0GBv"
      }
    },
    {
      "cell_type": "code",
      "source": [
        "# TODO"
      ],
      "metadata": {
        "id": "uitNqN_n0ORI"
      },
      "execution_count": null,
      "outputs": []
    },
    {
      "cell_type": "markdown",
      "source": [
        "---\n",
        "\n",
        "<center>\n",
        "\n",
        "## **📖 The while Loop**\n",
        "\n",
        "</center>\n",
        "\n",
        "---"
      ],
      "metadata": {
        "id": "A4qNr6uq83AE"
      }
    },
    {
      "cell_type": "markdown",
      "source": [
        "The keyword **while** means \"as long as\" in English. The **while** loop allows you to repeat a block of instructions as long as a condition is true (or until it becomes false).\n",
        "\n",
        "For example, to find the index of the word \"`found`\" in a list of words, you can iterate through all indices until the word \"`found`\" is located:\n",
        "\n",
        "```python\n",
        "# The list of words in which we want to find the word \"found\".\n",
        "sentence = ['The', 'while', 'loop', 'goes', 'through', 'all', 'the', 'elements',\n",
        "            'of', 'the', 'list', 'until', 'it', 'has', 'found',\n",
        "            'what', 'it', 'is', 'looking', 'for', '.']\n",
        "\n",
        "# The variable i will store the current index\n",
        "i = 0\n",
        "\n",
        "# While the word at index i is not \"found\"\n",
        "while sentence[i] != 'found':\n",
        "    # Increment i by 1 to check the next index\n",
        "    i += 1\n",
        "\n",
        "# The loop stops once we have found the word\n",
        "print(\"The word 'found' is at index\", i)\n",
        ">>> The word 'found' is at index 14\n",
        "```\n",
        "\n",
        "### **General structure of a while loop:**\n",
        "\n",
        "```python\n",
        "while condition:\n",
        "    instruction1\n",
        "    ...\n",
        "    instructionN\n",
        "\n",
        "other_instruction\n",
        "```\n",
        "\n",
        "- At each iteration, the condition is evaluated.\n",
        "- If the condition is true, the block of instructions is executed.\n",
        "- Otherwise, the loop ends.\n",
        "- Instructions outside the block run only once after the loop finishes.\n",
        "- If the condition is false from the start, the block never runs.\n",
        "- If the condition remains true forever, the loop runs indefinitely.\n",
        "\n",
        "Make sure the loop will eventually terminate before running it!"
      ],
      "metadata": {
        "id": "w1H2tJHe9ZPx"
      }
    },
    {
      "cell_type": "markdown",
      "source": [
        "---\n",
        "\n",
        "<center>\n",
        "\n",
        "### **🔍 Example : Print the first 10 natural numbers using a while loop**\n",
        "\n",
        "</center>\n",
        "\n",
        "---\n",
        "\n",
        "- (a) Initialize a variable i with the value 1.\n",
        "- (b) Using a while loop, print the first 10 natural numbers.\n"
      ],
      "metadata": {
        "id": "NqDgQLlI91HF"
      }
    },
    {
      "cell_type": "code",
      "source": [
        "# TODO"
      ],
      "metadata": {
        "id": "CdC4d4jO8jJK"
      },
      "execution_count": null,
      "outputs": []
    },
    {
      "cell_type": "markdown",
      "source": [
        "---\n",
        "\n",
        "<center>\n",
        "\n",
        "### **🔍 Example : Counting Athletes with Times Under 10 Seconds**\n",
        "\n",
        "</center>\n",
        "\n",
        "---\n",
        "\n",
        "We have a list containing the times achieved by athletes in a 100m race.\n",
        "The results are sorted in ascending order.\n",
        "\n",
        "Using a **while** loop, determine how many athletes ran the race in less than 10 seconds.\n",
        "\n",
        "Use the Python function `len()` which returns the length of a list, dictionary, or set.\n",
        "For example, for a list `my_list` with 3 elements, `len(my_list)` returns 3.\n",
        "\n",
        "```python\n",
        "times = [9.58, 9.63, 9.69, 10.01, 9.72, 9.74, 10.05, 9.79, 9.80]\n",
        "```\n"
      ],
      "metadata": {
        "id": "81M7XaAV2zck"
      }
    },
    {
      "cell_type": "code",
      "source": [
        "# TODO"
      ],
      "metadata": {
        "id": "nlhJMMpo3Is4"
      },
      "execution_count": null,
      "outputs": []
    },
    {
      "cell_type": "markdown",
      "source": [
        "### **For loop or While loop: Which one to use?**\n",
        "\n",
        "Both for and while loops allow repeating a block of code multiple times. Usually, either can be used to solve a task, but they are better suited for different scenarios depending on the nature of the iteration:\n",
        "\n",
        "- Use a for loop when iterating over a sequence or when the number of iterations is known.\n",
        "- Use a while loop when the number of iterations is unknown and depends on a condition being met."
      ],
      "metadata": {
        "id": "WFqrU4-j4YRs"
      }
    },
    {
      "cell_type": "markdown",
      "source": [
        "---\n",
        "\n",
        "<center>\n",
        "\n",
        "### **🔍 Example : Divisible Numbers and Smallest Multiples**\n",
        "\n",
        "</center>\n",
        "\n",
        "---\n",
        "\n",
        "Given the list:\n",
        "\n",
        "```python\n",
        "numbers = [24, 44, 46, 47, 66, 68, 74, 90, 94, 98]\n",
        "```\n",
        "\n",
        "- (a) How many numbers in the list are divisible by 7?\n",
        "- (b) Find the two smallest positive numbers divisible by both 2 and 3.\n",
        "\n",
        "`Recall: a number x is divisible by y if x % y == 0.`"
      ],
      "metadata": {
        "id": "WOUK08MX4k21"
      }
    },
    {
      "cell_type": "code",
      "source": [
        "# TODO"
      ],
      "metadata": {
        "id": "5MJeBj_S5LFA"
      },
      "execution_count": null,
      "outputs": []
    },
    {
      "cell_type": "markdown",
      "source": [
        "---\n",
        "\n",
        "<center>\n",
        "\n",
        "## **📖 The `range` Function**\n",
        "\n",
        "</center>\n",
        "\n",
        "---"
      ],
      "metadata": {
        "id": "29x4k3fsA3pM"
      }
    },
    {
      "cell_type": "markdown",
      "source": [
        "The `range` function is commonly used together with for `loops`.\n",
        "- It accepts up to three parameters: a **start value**, an **end value**, and a **step**.\n",
        "- It generates a sequence of numbers beginning at the start value (inclusive) and ending before **the end value (exclusive)**, incrementing by the step.\n",
        "\n",
        "By default, the start value is 0 and the step is 1.\n",
        "\n",
        "Examples:\n",
        "- `range(5)` produces the numbers 0 through 4.\n",
        "- `range(1, 10)` produces the numbers 1 through 9.\n",
        "- `range(1, 10, 3)` produces the numbers 1, 4, and 7.\n",
        "- `range(10, -1, -1)` produces the numbers 10 down to 0, decreasing by 1 each step."
      ],
      "metadata": {
        "id": "1WxcNdmRBKSD"
      }
    },
    {
      "cell_type": "markdown",
      "source": [
        "<center>\n",
        "\n",
        "### **🔍 Example : Sum Calculation with range**\n",
        "\n",
        "</center>\n",
        "\n",
        "---\n",
        "\n",
        "Calculate the sum of:\n",
        "\n",
        "- all integers between 1 and 100 (inclusive).\n",
        "- all even integers between 1 and 100 (inclusive)."
      ],
      "metadata": {
        "id": "vUCQPYVFtosm"
      }
    },
    {
      "cell_type": "code",
      "source": [
        "# TODO"
      ],
      "metadata": {
        "id": "U4NCeqOwAair"
      },
      "execution_count": null,
      "outputs": []
    },
    {
      "cell_type": "markdown",
      "source": [
        "<center>\n",
        "\n",
        "### **🔍 Example : Calculating Land Area Growth**\n",
        "\n",
        "</center>\n",
        "\n",
        "---\n",
        "\n",
        "A piece of land has an initial area of 2000 square meters. Each year, its area doubles. Calculate the area of the land after 10 years using a for loop."
      ],
      "metadata": {
        "id": "YIy1m91ruTWG"
      }
    },
    {
      "cell_type": "code",
      "source": [
        "# TODO"
      ],
      "metadata": {
        "id": "OVDRZ_qVud47"
      },
      "execution_count": null,
      "outputs": []
    },
    {
      "cell_type": "markdown",
      "source": [
        "Calculate the land area after 10 years using a while loop."
      ],
      "metadata": {
        "id": "Bnwj1vuKu6gG"
      }
    },
    {
      "cell_type": "code",
      "source": [
        "# TODO"
      ],
      "metadata": {
        "id": "t_v4WHpMu-B4"
      },
      "execution_count": null,
      "outputs": []
    },
    {
      "cell_type": "markdown",
      "source": [
        "<center>\n",
        "\n",
        "### **🔍 Example : Fibonacci Sequence**\n",
        "\n",
        "</center>\n",
        "\n",
        "---\n",
        "\n",
        "\n",
        "The Fibonacci sequence is a series of integers where each term is the sum of the two preceding terms.\n",
        "\n",
        "The first two terms are fixed:\n",
        "\n",
        "`u_0 = 0`\n",
        "\n",
        "`u_1 = 1`\n",
        "\n",
        "For `i ≥ 2`, the terms `u_i​ `are calculated using the formula::\n",
        "\n",
        "`u_i = u_{i-1} + u_{i-2}`"
      ],
      "metadata": {
        "id": "sJIsf9u5vXsz"
      }
    },
    {
      "cell_type": "code",
      "source": [
        "# TODO"
      ],
      "metadata": {
        "id": "lfVVCFqbwv3v"
      },
      "execution_count": null,
      "outputs": []
    },
    {
      "cell_type": "markdown",
      "source": [
        "---\n",
        "\n",
        "<center>\n",
        "\n",
        "## **📖 List Comprehension**\n",
        "\n",
        "</center>\n",
        "\n",
        "---"
      ],
      "metadata": {
        "id": "CcQYHauq3ulT"
      }
    },
    {
      "cell_type": "markdown",
      "source": [
        "List comprehension is a powerful and concise feature in Python that helps simplify code and boost productivity.\n",
        "\n",
        "Instead of building a list step-by-step using a for loop, list comprehension allows you to create a list in a single, elegant line.\n",
        "\n",
        "For example, if you want to store the squares of the first 10 integers, you could do it like this:\n",
        "\n",
        "```python\n",
        "my_list = []\n",
        "# For i from 0 to 9\n",
        "for i in range(10):\n",
        "    my_list.append(i**2)\n",
        "```\n",
        "\n",
        "But Python lets you shorten this to:\n",
        "\n",
        "```python\n",
        "my_list = [i**2 for i in range(10)]\n",
        "```\n",
        "Both approaches give the exact same result.\n",
        "\n",
        "Similarly, in one of the previous exercises where we increased all grades by 4 points, we could have written:\n",
        "\n",
        "```python\n",
        "good_marks = [mark + 4 for mark in bad_marks]\n",
        "```\n",
        "\n",
        "his shows how list comprehension can make your code more readable and compact."
      ],
      "metadata": {
        "id": "ChRaho984S-u"
      }
    },
    {
      "cell_type": "markdown",
      "source": [
        "<center>\n",
        "\n",
        "### **🔍 Example : List Comprehension Practice**\n",
        "\n",
        "</center>\n",
        "\n",
        "---\n",
        "\n",
        "- (a) Create a list named `powers_of_three` containing the first 10 powers of 3.\n",
        "- (b) Given a list `number_list`, create a new list `double_list` that contains each element of `number_list` multiplied by 2.\n",
        "- (c) Using the same `number_list`, create a list `parity_list` where each element is \"`even`\" if the corresponding number is even, and \"`odd`\" otherwise. You can test parity using the modulo operator %.\n",
        "\n",
        "Recall the syntax for conditional assignment:\n",
        "\n",
        "```python\n",
        "# A student repeats the year if their average is less than 10\n",
        "repeat = True if average < 10 else False\n",
        "```\n"
      ],
      "metadata": {
        "id": "VYdGgg_iA0Zk"
      }
    },
    {
      "cell_type": "code",
      "source": [
        "# TODO"
      ],
      "metadata": {
        "id": "8CJAiPseCWht"
      },
      "execution_count": null,
      "outputs": []
    },
    {
      "cell_type": "markdown",
      "source": [
        "---\n",
        "\n",
        "<center>\n",
        "\n",
        "## **📖 The enumerate Function**\n",
        "\n",
        "</center>\n",
        "\n",
        "---\n"
      ],
      "metadata": {
        "id": "qCre9V1iCNI1"
      }
    },
    {
      "cell_type": "markdown",
      "source": [
        "Sometimes, it is useful to have access to the index of an element in a sequence. To do this, you can use the `enumerate` function inside a for `loop`:\n",
        "\n",
        "```python\n",
        "for index, element in enumerate(sequence):\n",
        "    ...\n",
        "    ...\n",
        "```\n",
        "\n",
        "For example, if we want to print the positions of the word \"the\" in a list of words:\n",
        "\n",
        "```python\n",
        "text = [\"the\", \"word\", \"the\", \"is\", \"the\", \"word\", \"we\", \"are\", \"looking\", \"for\", \"the\", \"position\"]\n",
        "\n",
        "# For each word in the text\n",
        "for position, word in enumerate(text):\n",
        "    # If the word is \"the\"\n",
        "    if word == \"the\":\n",
        "        # Print its position\n",
        "        print(position)\n",
        ">>> 0\n",
        ">>> 2\n",
        ">>> 4\n",
        ">>> 10\n",
        "```"
      ],
      "metadata": {
        "id": "yHtBwhVuCRrs"
      }
    },
    {
      "cell_type": "markdown",
      "source": [
        "<center>\n",
        "\n",
        "### **🔍 Example : inding the Index of the Maximum Element with `enumerate`**\n",
        "\n",
        "</center>\n",
        "\n",
        "---\n",
        "\n",
        "- (a) Use the `enumerate` function to find the index of the maximum element in the list L. To do this, keep track of the largest element seen while iterating through the list.\n",
        "- (b) Print the index of the maximum element."
      ],
      "metadata": {
        "id": "jAJT_4NMDTks"
      }
    },
    {
      "cell_type": "code",
      "source": [
        "# TODO"
      ],
      "metadata": {
        "id": "gEmELvJ6DnSt"
      },
      "execution_count": null,
      "outputs": []
    },
    {
      "cell_type": "markdown",
      "source": [
        "---\n",
        "\n",
        "<center>\n",
        "\n",
        "## **📖 The zip Function**\n",
        "\n",
        "</center>\n",
        "\n",
        "---\n",
        "\n",
        "The `zip` function allows you to iterate over multiple sequences of the same length in parallel within a single for `loop`.\n",
        "\n",
        "The syntax is as follows:\n",
        "\n",
        "```python\n",
        "# At each iteration, take one element from the first sequence and one from the second\n",
        "for element1, element2 in zip(sequence1, sequence2):\n",
        "    ...\n",
        "    ...\n",
        "\n",
        "```\n",
        "\n",
        "This syntax can be extended to work with any number of sequences."
      ],
      "metadata": {
        "id": "uEFHqFmmED2i"
      }
    },
    {
      "cell_type": "markdown",
      "source": [
        "<center>\n",
        "\n",
        "### **🔍 Example : Calculating Savings with `zip`**\n",
        "\n",
        "</center>\n",
        "\n",
        "---\n",
        "\n",
        "We have two lists representing the monthly incomes and expenses of individuals. Each individual corresponds to the same index in both lists.\n",
        "\n",
        "- By subtracting each individual’s expenses from their income, create a list that contains the savings they made during the month.\n",
        "\n"
      ],
      "metadata": {
        "id": "GpKByD1wE2aN"
      }
    },
    {
      "cell_type": "code",
      "source": [
        "# TODO"
      ],
      "metadata": {
        "id": "zkIUf0HAGnUm"
      },
      "execution_count": null,
      "outputs": []
    },
    {
      "cell_type": "markdown",
      "source": [
        "---\n",
        "\n",
        "<center>\n",
        "\n",
        "## **📖 Conclusion and Summary**\n",
        "\n",
        "</center>\n",
        "\n",
        "---"
      ],
      "metadata": {
        "id": "POlpSGB86vsn"
      }
    },
    {
      "cell_type": "markdown",
      "source": [
        "Loops are essential tools in programming. They allow you to repeat instructions in a controlled way.\n",
        "\n",
        "In this notebook, you have learned how to:\n",
        "- Define a `while loop` that runs as long as its condition remains true.\n",
        "- Define a `for loop` to iterate over sequences.\n",
        "- Create lists using `list comprehensions`, one of Python’s most elegant features.\n",
        "- Use the `range` function to iterate over integer sequences.\n",
        "- Use the break keyword to exit a `loop` when a specific condition is met.\n",
        "- Use slicing [::-1] to reverse the order of a sequence.\n",
        "- Use the `enumerate` function to loop over both the indices and the values of a sequence.\n",
        "- Use the `zip` function to loop over multiple lists simultaneously with a single loop."
      ],
      "metadata": {
        "id": "zszrvumI6z8R"
      }
    }
  ]
}