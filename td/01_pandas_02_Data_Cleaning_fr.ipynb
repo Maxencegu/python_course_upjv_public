{
  "nbformat": 4,
  "nbformat_minor": 0,
  "metadata": {
    "colab": {
      "provenance": []
    },
    "kernelspec": {
      "name": "python3",
      "display_name": "Python 3"
    },
    "language_info": {
      "name": "python"
    }
  },
  "cells": [
    {
      "cell_type": "markdown",
      "source": [
        "---\n",
        "\n",
        "<center>\n",
        "\n",
        "# **Python pour la Data Science**\n",
        "\n",
        "### *Nettoyage des données : Gestion des valeurs manquantes (NA) et nettoyage des jeux de données*\n",
        "\n",
        "</center>\n"
      ],
      "metadata": {
        "id": "6UqIO5ZN7hD8"
      }
    },
    {
      "cell_type": "markdown",
      "source": [
        "---\n",
        "\n",
        "<center>\n",
        "\n",
        "## **📖 Introduction**\n",
        "\n",
        "</center>\n",
        "\n",
        "---\n"
      ],
      "metadata": {
        "id": "8QLZXk-K9WUm"
      }
    },
    {
      "cell_type": "markdown",
      "source": [
        "Le nettoyage des données et la gestion correcte des valeurs manquantes (appelées aussi **NaN** ou **NA**) sont deux étapes essentielles avant de réaliser toute analyse sur un jeu de données.  \n",
        "\n",
        "L’objectif de ce notebook est de passer étape par étape à travers ces opérations de nettoyage afin d’obtenir un **DataFrame propre et fiable**.  \n",
        "En effet, les jeux de données réels contiennent souvent des problèmes tels que des valeurs manquantes, des doublons ou des entrées incohérentes.  \n",
        "\n",
        "Pour ce cours, nous continuerons à travailler avec le **DataFrame `transactions`** que nous avons importé dans l’exercice précédent."
      ],
      "metadata": {
        "id": "PXA6UO-w8G2M"
      }
    },
    {
      "cell_type": "markdown",
      "source": [
        "<center>\n",
        "\n",
        "### **🔍 Exemple : Chargement et inspection du jeu de données**\n",
        "\n",
        "</center>\n",
        "\n",
        "---\n",
        "\n",
        "- (a) Importez le module `pandas` sous le nom `pd` et chargez le fichier **`transactions.csv`** dans un DataFrame nommé `transactions`.  \n",
        "Le fichier utilise des points-virgules (`;`) comme séparateurs, et la colonne contenant les identifiants est `'transaction_id'`.  \n",
        "\n",
        "- (b) Affichez les 10 premières lignes du DataFrame avec la méthode `.head()`."
      ],
      "metadata": {
        "id": "cxueXsjV-SWS"
      }
    },
    {
      "cell_type": "code",
      "source": [
        "# TODO"
      ],
      "metadata": {
        "id": "vi-bKN4e-c70"
      },
      "execution_count": null,
      "outputs": []
    },
    {
      "cell_type": "markdown",
      "source": [
        "---\n",
        "\n",
        "<center>\n",
        "\n",
        "## **📖 Nettoyage d’un jeu de données**\n",
        "\n",
        "</center>\n",
        "\n",
        "---"
      ],
      "metadata": {
        "id": "Wx72rTsmSgJ8"
      }
    },
    {
      "cell_type": "markdown",
      "source": [
        "Dans cette section, nous présentons les principales **méthodes de DataFrame** utiles pour nettoyer un jeu de données.  \n",
        "Ces méthodes peuvent être regroupées en trois grandes catégories :\n",
        "\n",
        "1. **Gestion des doublons**  \n",
        "   - `duplicated` → détecte les lignes en double.  \n",
        "   - `drop_duplicates` → supprime les lignes en double.  \n",
        "\n",
        "2. **Modification des éléments d’un DataFrame**  \n",
        "   - `replace` → remplace des valeurs spécifiques.  \n",
        "   - `rename` → renomme des colonnes ou des index.  \n",
        "   - `astype` → change le type de données des colonnes.  \n",
        "\n",
        "3. **Opérations sur les valeurs d’un DataFrame**  \n",
        "   - `apply` → applique une fonction aux lignes ou aux colonnes.  \n",
        "   - `lambda` → permet d’écrire de petites fonctions anonymes pour les transformations."
      ],
      "metadata": {
        "id": "BVuC1fzDTLFl"
      }
    },
    {
      "cell_type": "markdown",
      "source": [
        "## Gestion des doublons (méthodes `duplicated` et `drop_duplicates`)\n",
        "\n",
        "Les doublons sont des lignes identiques qui apparaissent plusieurs fois dans un jeu de données.  \n",
        "\n",
        "👉 Lorsqu’on travaille avec de nouvelles données, il est très important de **vérifier les doublons dès le départ**.  \n",
        "La présence de doublons peut générer des erreurs dans les calculs statistiques ou lors de la création de graphiques.  \n",
        "\n",
        "---\n",
        "\n",
        "📊 Exemple de DataFrame :\n",
        "\n",
        "| Nom    | Âge | Sexe | Taille |\n",
        "|--------|-----|------|--------|\n",
        "| Robert | 56  | M    | 174    |\n",
        "| Mark   | 23  | M    | 182    |\n",
        "| Alina  | 32  | F    | 169    |\n",
        "| Mark   | 23  | M    | 182    |\n",
        "\n",
        "---\n",
        "\n",
        "✅ Pour vérifier la présence de doublons, nous utilisons la méthode **`duplicated`** :\n",
        "\n",
        "```python\n",
        "import pandas as pd\n",
        "\n",
        "# Example DataFrame\n",
        "df = pd.DataFrame({\n",
        "    \"Name\": [\"Robert\", \"Mark\", \"Alina\", \"Mark\"],\n",
        "    \"Age\": [56, 23, 32, 23],\n",
        "    \"Gender\": [\"M\", \"M\", \"F\", \"M\"],\n",
        "    \"Height\": [174, 182, 169, 182]\n",
        "})\n",
        "\n",
        "# Check for duplicates\n",
        "df.duplicated()\n",
        ">>>\n",
        "False\n",
        "False\n",
        "False\n",
        "True\n",
        "```\n",
        "\n",
        "## 📌 Understanding the `duplicated()` method\n",
        "\n",
        "The **`duplicated()`** method returns a **Pandas Series** (similar to a column of a DataFrame).  \n",
        "It tells us for each row whether it is a duplicate (`True`) or not (`False`).  \n",
        "\n",
        "👉 In our example, the result of `duplicated()` indicates that row with index **3** is a duplicate,  \n",
        "meaning it is an exact copy of a previous row (in this case, row **1**).\n",
        "\n",
        "---\n",
        "\n",
        "Since `duplicated()` returns a **Series**, we can apply the **`.sum()`** method to count the total number of duplicates.\n",
        "\n",
        "```python\n",
        "# Identify duplicates\n",
        "print(df.duplicated())\n",
        "\n",
        "# Count total number of duplicates\n",
        "print(\"Number of duplicates:\", df.duplicated().sum())\n",
        ">>> 1\n",
        "```\n",
        "\n",
        "## 🧹 Suppression des doublons avec `drop_duplicates()`\n",
        "\n",
        "La méthode d’un DataFrame utilisée pour **supprimer les doublons** est `drop_duplicates`.\n",
        "\n",
        "Sa syntaxe est la suivante :\n",
        "\n",
        "```python\n",
        "DataFrame.drop_duplicates(subset=None, keep='first', inplace=False)\n",
        "```\n",
        "- **subset** : nom de colonne ou séquence de noms de colonnes  \n",
        "  → Permet de spécifier quelles colonnes doivent être vérifiées pour les doublons.  \n",
        "  → Par défaut, toutes les colonnes sont considérées.  \n",
        "\n",
        "- **keep** : {'first', 'last', False}, par défaut `'first'`  \n",
        "  → `'first'` : conserve la première occurrence et supprime les autres.  \n",
        "  → `'last'` : conserve la dernière occurrence et supprime les autres.  \n",
        "  → `False` : supprime *tous* les doublons.  \n",
        "\n",
        "- **inplace** : booléen, par défaut `False`  \n",
        "  → Si `True`, modifie directement le DataFrame sans en retourner un nouveau.  \n",
        "  → Si `False`, retourne un nouveau DataFrame avec les doublons supprimés.\n",
        "\n",
        "⚠️ **Attention** : soyez très prudent lors de l’utilisation du paramètre `inplace`.  \n",
        "\n",
        "Une **bonne pratique** est d’**éviter** d’utiliser `inplace=True` et d’assigner plutôt le DataFrame retourné par la méthode à une nouvelle variable.  \n",
        "De cette manière, vous ne risquez pas d’écraser vos données originales et vous gardez un meilleur contrôle sur vos transformations."
      ],
      "metadata": {
        "id": "_G2W2T_0aPEJ"
      }
    },
    {
      "cell_type": "markdown",
      "source": [
        "<center>\n",
        "\n",
        "### **🔍 Exemple : Création d’un DataFrame à partir d’un dictionnaire**\n",
        "\n",
        "</center>\n",
        "\n",
        "---\n",
        "\n",
        "- (a) Combien de doublons y a-t-il dans le DataFrame `transactions` ?  \n",
        "- (b) Supprimez les doublons du jeu de données en conservant uniquement la **première occurrence**.  \n",
        "- (c) En utilisant les paramètres `subset` et `keep` de la méthode `drop_duplicates` sur `transactions`, affichez la transaction la plus récente pour chaque `prod_cat_code`."
      ],
      "metadata": {
        "id": "4qiOIluRpzcq"
      }
    },
    {
      "cell_type": "code",
      "source": [
        "# TODO"
      ],
      "metadata": {
        "id": "jI47fLYZq2qi"
      },
      "execution_count": null,
      "outputs": []
    },
    {
      "cell_type": "markdown",
      "source": [
        "## Modification des éléments d’un DataFrame (méthodes `replace`, `rename` et `astype`)\n",
        "\n",
        "La méthode `replace` permet de substituer une ou plusieurs valeurs dans une colonne d’un DataFrame.\n",
        "\n",
        "Signature de la méthode :\n",
        "\n",
        "```python\n",
        "replace(to_replace, value, ...)\n",
        "```\n",
        "\n",
        "- `to_replace` : La valeur ou la liste de valeurs à remplacer.  \n",
        "→ Peut être des entiers, des chaînes de caractères, des booléens, etc.\n",
        "\n",
        "- `value` : La valeur de remplacement ou la liste de valeurs.  \n",
        "→ Peut également être des entiers, des chaînes de caractères, des booléens, etc.\n",
        "\n",
        "💡 Cette méthode est très utile lorsque vous devez nettoyer ou standardiser les variables catégorielles de votre jeu de données.\n",
        "\n",
        "**df**\n",
        "\n",
        "| Nom      | Pays      | Âge |\n",
        "|----------|-----------|-----|\n",
        "| 'Brown'  | Australia | 33  |\n",
        "| 'Dupont' | France    | 25  |\n",
        "| 'Anna'   | Japan     | 54  |\n",
        "\n",
        "**df_new**\n",
        "\n",
        "| Nom      | Pays | Âge |\n",
        "|----------|------|-----|\n",
        "| 'Brown'  | AUS  | 33  |\n",
        "| 'Dupont' | FRA  | 25  |\n",
        "| 'Anna'   | JPN  | 54  |\n",
        "\n",
        "```python\n",
        "df_new = df.replace(to_replace=['Australia','France','Japan'], value=['AUS','FRA','JPN'])\n",
        "```\n",
        "\n",
        "## Renommer les colonnes d’un DataFrame\n",
        "\n",
        "En plus de modifier les éléments d’un DataFrame, vous pouvez également renommer ses colonnes.\n",
        "\n",
        "Cela se fait à l’aide de la méthode `rename`, qui prend un dictionnaire en argument : les clés sont les anciens noms de colonnes et les valeurs sont les nouveaux noms de colonnes.\n",
        "\n",
        "Il est également nécessaire de spécifier `axis=1` (ou `columns=`) pour indiquer que vous renommez des colonnes et non des lignes.\n",
        "\n",
        "```python\n",
        "# Example DataFrame\n",
        "import pandas as pd\n",
        "\n",
        "df = pd.DataFrame({\n",
        "    'Name': ['Brown', 'Dupont', 'Anna'],\n",
        "    'Country': ['Australia', 'France', 'Japan'],\n",
        "    'Age': [33, 25, 54]\n",
        "})\n",
        "\n",
        "# Renaming columns\n",
        "df_renamed = df.rename(columns={'Name': 'Full_Name', 'Country': 'Nation', 'Age': 'Years'})\n",
        "\n",
        "df_renamed\n",
        "```\n",
        "\n",
        "## Changer le type des colonnes avec `astype`\n",
        "\n",
        "Parfois, il est nécessaire de changer non seulement le nom d’une colonne, mais aussi son type.\n",
        "\n",
        "Par exemple, lors de l’importation d’un jeu de données, une variable peut être interprétée comme une chaîne de caractères (`str`) alors qu’elle est en réalité numérique. Cela peut arriver même si une seule entrée est mal lue.\n",
        "\n",
        "Dans pandas, vous pouvez changer le type des colonnes avec la méthode `astype`.\n",
        "\n",
        "Types courants que vous utiliserez :\n",
        "\n",
        "- `str` : Chaîne de caractères ('Bonjour')  \n",
        "- `float` : Nombre à virgule flottante (1.0, 3.1415)  \n",
        "- `int` : Entier (1, 1234)  \n",
        "\n",
        "`astype` peut prendre un dictionnaire dont les clés sont les noms de colonnes et les valeurs sont les nouveaux types. Ceci est pratique pour changer plusieurs colonnes en une seule opération.\n",
        "\n",
        "La plupart du temps, vous sélectionnerez une seule colonne et la remplacerez par sa nouvelle version typée :\n",
        "\n",
        "```python\n",
        "# Method 1: Create a dictionary and apply astype to the entire DataFrame\n",
        "type_dict = {'col_1': 'int',\n",
        "             'col_2': 'float'}\n",
        "df = df.astype(type_dict)\n",
        "\n",
        "# Method 2: Select a single column and apply astype to the Series\n",
        "df['col_1'] = df['col_1'].astype('int')\n",
        "```\n",
        "\n",
        "✅ Explication :\n",
        "\n",
        "- La méthode 1 est utile lorsque vous souhaitez changer le type de plusieurs colonnes en une seule opération.  \n",
        "- La méthode 2 est pratique lorsque vous devez changer le type d’une seule colonne.  \n",
        "\n",
        "Les deux méthodes garantissent que la ou les colonnes ont le type correct pour les calculs ou pour d’autres manipulations de données."
      ],
      "metadata": {
        "id": "8g08UEmMtixT"
      }
    },
    {
      "cell_type": "code",
      "source": [
        "import pandas as pd\n",
        "\n",
        "# Importer le jeu de données\n",
        "transactions = pd.read_csv(\"transactions.csv\", sep=',', index_col=\"transaction_id\")\n",
        "\n",
        "# Supprimer les doublons\n",
        "transactions = transactions.drop_duplicates(keep='first')"
      ],
      "metadata": {
        "id": "vprzTzCkd2Vp"
      },
      "execution_count": null,
      "outputs": []
    },
    {
      "cell_type": "markdown",
      "source": [
        "<center>\n",
        "\n",
        "### **🔍 Exemple : Nettoyage et modification des colonnes**\n",
        "\n",
        "</center>\n",
        "\n",
        "---\n",
        "\n",
        "- (a) Importez le module `numpy` sous le nom `np`.\n",
        "\n",
        "- (b) Remplacez les valeurs ['e-Shop', 'TeleShop', 'MBR', 'Flagship store', np.nan] dans la colonne `Store_type` par [1, 2, 3, 4, 0]. En même temps, remplacez les valeurs manquantes (`np.nan`) dans la colonne `prod_subcat_code` par 0.\n",
        "\n",
        "- (c) Convertissez les colonnes `Store_type` et `prod_subcat_code` en type `int`.\n",
        "\n",
        "- (d) Renommez les colonnes `Store_type`, `Qty`, `Rate` et `Tax` en `store_type`, `qty`, `rate` et `tax`."
      ],
      "metadata": {
        "id": "g2x6ouM--3wN"
      }
    },
    {
      "cell_type": "code",
      "source": [
        "# TODO"
      ],
      "metadata": {
        "id": "uYpP_pvf_U9I"
      },
      "execution_count": null,
      "outputs": []
    },
    {
      "cell_type": "markdown",
      "source": [
        "## Opérations sur les valeurs d’un DataFrame (méthode `apply` et fonctions `lambda`)\n",
        "\n",
        "Il est souvent utile de modifier ou d’agréger les informations contenues dans les colonnes d’un DataFrame à l’aide d’une opération ou d’une fonction.\n",
        "\n",
        "Ces opérations peuvent être n’importe quel type de fonction prenant une colonne en entrée.  \n",
        "\n",
        "La méthode utilisée pour appliquer une opération sur une colonne est la méthode **`apply`** d’un DataFrame, dont l’en-tête est :\n",
        "\n",
        "```python\n",
        "apply(func, axis, ...)\n",
        "```\n",
        "### Où :\n",
        "\n",
        "- **func** est la fonction à appliquer sur la colonne.  \n",
        "- **axis** spécifie la dimension sur laquelle l’opération doit être appliquée.  \n",
        "\n",
        "### Exemple : `apply` avec `np.sum`\n",
        "\n",
        "Supposons que nous souhaitions calculer la **somme de toutes les lignes** pour chaque colonne numérique.  \n",
        "La fonction `sum` de NumPy effectue cette opération, ce qui la rend parfaite pour être utilisée avec la méthode `apply`.  \n",
        "\n",
        "Puisque l’opération doit être effectuée **sur les lignes**, nous devons spécifier l’argument `axis=0` dans la méthode `apply`.\n",
        "\n",
        "```python\n",
        "import numpy as np\n",
        "import pandas as pd\n",
        "\n",
        "# Example DataFrame\n",
        "df = pd.DataFrame({\n",
        "    \"A\": [1, 2, 3],\n",
        "    \"B\": [10, 20, 30],\n",
        "    \"C\": [100, 200, 300]\n",
        "})\n",
        "\n",
        "# Apply np.sum on each column\n",
        "df_columns = df.apply(np.sum, axis=0)\n",
        ">>>\n",
        "```\n",
        "Résultat :\n",
        "|     |     |\n",
        "|-----|-----|\n",
        "| 'A' | 6   |\n",
        "| 'B' | 60  |\n",
        "| 'C' | 600 |\n",
        "\n",
        "```python\n",
        "import numpy as np\n",
        "import pandas as pd\n",
        "\n",
        "# Example DataFrame\n",
        "df = pd.DataFrame({\n",
        "    \"A\": [1, 2, 3],\n",
        "    \"B\": [10, 20, 30],\n",
        "    \"C\": [100, 200, 300]\n",
        "})\n",
        "\n",
        "# Apply np.sum on each column\n",
        "df_columns = df.apply(np.sum, axis=1)\n",
        ">>>\n",
        "```\n",
        "Résultat :\n",
        "|     |     |\n",
        "|-----|-----|\n",
        "| 'A' | 111 |\n",
        "| 'B' | 222 |\n",
        "| 'C' | 333 |"
      ],
      "metadata": {
        "id": "z9zyLQNgBq-A"
      }
    },
    {
      "cell_type": "markdown",
      "source": [
        "La colonne `tran_date` du DataFrame `transactions` contient les dates des transactions au format jour/mois/année (ex. : '28/02/2014').\n",
        "\n",
        "Actuellement, ces dates sont stockées sous forme de chaînes de caractères, ce qui signifie que nous ne pouvons pas effectuer directement des calculs ou des opérations statistiques dessus.\n",
        "\n",
        "👉 Une meilleure approche serait de séparer cette information en trois colonnes distinctes : jour, mois et année.  \n",
        "Cela permettrait, par exemple, d’analyser les tendances saisonnières ou de détecter les changements de comportement des clients dans le temps.\n",
        "\n",
        "Par exemple, la chaîne de caractères '28/02/2014' est séparée par le caractère `/` :\n",
        "\n",
        "```python\n",
        "date = '28/02/2014'\n",
        "date.split('/')\n",
        ">>> ['28', '02', '2014']\n",
        "```\n",
        "\n",
        "La méthode `split` renvoie une liste contenant les parties de la chaîne de caractères séparées par le caractère choisi.\n",
        "\n",
        "Ainsi :  \n",
        "- Le jour est le premier élément (`parts[0]`)  \n",
        "- Le mois est le deuxième élément (`parts[1]`)  \n",
        "- L’année est le troisième élément (`parts[2]`)"
      ],
      "metadata": {
        "id": "4coecifyschh"
      }
    },
    {
      "cell_type": "markdown",
      "source": [
        "<center>\n",
        "\n",
        "### **🔍 Exemple : Séparer les dates en jour, mois et année**\n",
        "\n",
        "</center>\n",
        "\n",
        "---\n",
        "- (a) Définissez une fonction `get_day` qui prend une chaîne de caractères en entrée et renvoie le premier élément après l’avoir séparée avec `/`.\n",
        "\n",
        "- (b) Définissez les fonctions `get_month` et `get_year` qui renvoient respectivement le deuxième et le troisième élément de la chaîne séparée.\n",
        "\n",
        "- (c) Stockez les résultats de l’application de ces fonctions sur la colonne `tran_date` dans trois variables : `days`, `months` et `years`. Comme ces fonctions fonctionnent élément par élément, vous n’avez pas besoin de préciser l’argument `axis` dans la méthode `apply`.\n",
        "\n",
        "- (d) Créez les colonnes `'day'`, `'month'` et `'year'` dans le DataFrame et assignez-leur les valeurs de `days`, `months` et `years`. Une nouvelle colonne peut être créée simplement en la déclarant."
      ],
      "metadata": {
        "id": "Li4tVZ-NuUvW"
      }
    },
    {
      "cell_type": "code",
      "source": [
        "# TODO"
      ],
      "metadata": {
        "id": "JIxT_b5wr9OD"
      },
      "execution_count": null,
      "outputs": []
    },
    {
      "cell_type": "markdown",
      "source": [
        "La méthode `apply` devient encore plus puissante lorsqu’elle est combinée avec une fonction `lambda`.\n",
        "\n",
        "En Python, le mot-clé `lambda` est utilisé pour définir une fonction anonyme — c’est-à-dire une fonction sans nom.\n",
        "\n",
        "Une fonction `lambda` peut prendre n’importe quel nombre d’arguments, mais elle ne doit contenir qu’une seule expression.\n",
        "\n",
        "La syntaxe :\n",
        "\n",
        "```python\n",
        "lambda arguments: expression\n",
        "```\n",
        "Les fonctions `lambda` nous permettent de définir des opérations avec une syntaxe très compacte.\n",
        "\n",
        "Elles sont particulièrement utiles lorsque l’opération est simple et que l’on ne souhaite pas définir une fonction séparée avec `def`.\n",
        "\n",
        "```python\n",
        "# Standard function\n",
        "def square(x):\n",
        "    return x**2\n",
        "\n",
        "# Equivalent with lambda\n",
        "square_lambda = lambda x: x**2\n",
        "\n",
        "print(square(4))        # Output: 16\n",
        "print(square_lambda(4)) # Output: 16\n",
        "```\n",
        "Ainsi, l’exercice précédent (extraction du jour, du mois et de l’année à partir de `tran_date`) peut être écrit de manière beaucoup plus compacte en utilisant des fonctions `lambda` à l’intérieur de `apply`.\n",
        "\n",
        "```python\n",
        "# Extract day, month, year using lambda inside apply\n",
        "transactions['day'] = transactions['tran_date'].apply(lambda x: x.split('/')[0])\n",
        "transactions['month'] = transactions['tran_date'].apply(lambda x: x.split('/')[1])\n",
        "transactions['year'] = transactions['tran_date'].apply(lambda x: x.split('/')[2])\n",
        "\n",
        "# Display the updated DataFrame\n",
        "transactions[['tran_date', 'day', 'month', 'year']].head()\n",
        "```\n",
        "---\n",
        "La colonne `prod_subcat_code` dans `transactions` dépend de la colonne `prod_cat_code` puisqu’elle représente une sous-catégorie d’un produit.\n",
        "\n",
        "Il serait plus logique de combiner à la fois la catégorie et la sous-catégorie en une seule variable.\n",
        "\n",
        "Étapes :  \n",
        "- Convertir les deux colonnes en chaînes de caractères avec la méthode `astype(str)`.  \n",
        "- Les concaténer pour créer un code unique représentant à la fois la catégorie et la sous-catégorie.\n",
        "\n",
        "📌 Exemple avec la concaténation de chaînes :\n",
        "\n",
        "```python\n",
        "string1 = \"I think\"\n",
        "string2 = \"therefore I am.\"\n",
        "\n",
        "# Concatenate the two strings with a space\n",
        "print(string1 + \" \" + string2)\n",
        "# >>> I think therefore I am.\n",
        "```\n",
        "\n",
        "Pour appliquer une fonction ligne par ligne, il faut définir `axis = 1` dans la méthode `apply`.\n",
        "\n",
        "À l’intérieur de la fonction elle-même, chaque colonne peut être accédée comme une clé dans une ligne du DataFrame.\n",
        "\n",
        "👉 Exemple : calcul du prix unitaire d’un produit :\n",
        "\n",
        "```python\n",
        "transactions.apply(lambda row: row['total_amt'] / row['qty'], axis=1)\n",
        "```"
      ],
      "metadata": {
        "id": "T5MPOomswu0T"
      }
    },
    {
      "cell_type": "markdown",
      "source": [
        "<center>\n",
        "\n",
        "### **🔍 Exemple : Séparer les dates en jour, mois et année**\n",
        "\n",
        "</center>\n",
        "\n",
        "---\n",
        "\n",
        "- (a) En utilisant une **fonction lambda** appliquée sur le DataFrame **transactions**, créez une nouvelle colonne `prod_cat` contenant la concaténation de `prod_cat_code` et `prod_subcat_code` séparés par un tiret `'-'`.  \n",
        "Assurez-vous de **convertir les deux valeurs** en chaînes de caractères avant la concaténation."
      ],
      "metadata": {
        "id": "0ax47Mrs03Zx"
      }
    },
    {
      "cell_type": "code",
      "source": [
        "# TODO"
      ],
      "metadata": {
        "id": "Xy1NfKZXyEMi"
      },
      "execution_count": null,
      "outputs": []
    },
    {
      "cell_type": "markdown",
      "source": [
        "---\n",
        "\n",
        "<center>\n",
        "\n",
        "## **📖 Gestion des valeurs manquantes**\n",
        "\n",
        "</center>\n",
        "\n",
        "---\n"
      ],
      "metadata": {
        "id": "oNUj8PTAHotf"
      }
    },
    {
      "cell_type": "markdown",
      "source": [
        "Une **valeur manquante** peut être :\n",
        "\n",
        "- Une valeur qui n’a pas été fournie.  \n",
        "- Une valeur qui n’existe pas, souvent résultant d’opérations mathématiques sans solution (ex. : division par zéro).  \n",
        "\n",
        "Dans un DataFrame, les valeurs manquantes apparaissent comme **NaN** (\"Not a Number\").  \n",
        "\n",
        "Dans cette section, nous allons explorer plusieurs méthodes pour :\n",
        "\n",
        "- **Détecter les valeurs manquantes** avec `isna` et `any`.  \n",
        "- **Remplacer les valeurs manquantes** avec `fillna`.  \n",
        "- **Supprimer les valeurs manquantes** avec `dropna`.  \n",
        "\n",
        "Dans un exercice précédent, nous avons utilisé la méthode `replace` sur `transactions` pour remplacer les valeurs manquantes par `0`.  \n",
        "Cette approche n’est **pas rigoureuse** et doit généralement être évitée en pratique.  \n",
        "\n",
        "Pour cette raison, nous allons réimporter la version brute du DataFrame `transactions` afin d’annuler les transformations appliquées dans les exercices précédents."
      ],
      "metadata": {
        "id": "BbaGq1ZmCAb2"
      }
    },
    {
      "cell_type": "markdown",
      "source": [
        "<center>\n",
        "\n",
        "### **🔍 Exemple : Réimporter et nettoyer les données des transactions**\n",
        "\n",
        "</center>\n",
        "\n",
        "---\n",
        "\n",
        "- (a) Exécutez la cellule suivante pour **réimporter** le jeu de données `transactions`, **supprimer les doublons** et **renommer les colonnes** :\n"
      ],
      "metadata": {
        "id": "d6Vk7-ORCdk8"
      }
    },
    {
      "cell_type": "code",
      "source": [
        "# Importer le jeu de données\n",
        "transactions = pd.read_csv(\"transactions.csv\", sep=',', index_col=\"transaction_id\")\n",
        "\n",
        "# Supprimer les lignes dupliquées\n",
        "transactions = transactions.drop_duplicates(keep='first')\n",
        "\n",
        "# Renommer les colonnes\n",
        "nouveaux_noms = {\n",
        "    'Store_type': 'store_type',\n",
        "    'Qty': 'qty',\n",
        "    'Rate': 'rate',\n",
        "    'Tax': 'tax'\n",
        "}\n",
        "\n",
        "transactions = transactions.rename(nouveaux_noms, axis=1)\n",
        "\n",
        "# Afficher les premières lignes du jeu de données\n",
        "transactions.head()"
      ],
      "metadata": {
        "id": "Ti06ZVLJEZkO"
      },
      "execution_count": null,
      "outputs": []
    },
    {
      "cell_type": "markdown",
      "source": [
        "## Détecter les valeurs manquantes (méthodes `isna` et `any`)\n",
        "\n",
        "La méthode `isna` d’un DataFrame détecte les valeurs manquantes. Cette méthode ne prend aucun argument.\n",
        "\n",
        "Elle renvoie un DataFrame de la même forme avec :\n",
        "\n",
        "- `True` si la cellule contient une valeur manquante (`np.nan`).  \n",
        "- `False` sinon.  \n",
        "\n",
        "Puisque `isna` renvoie un DataFrame, nous pouvons la combiner avec d’autres méthodes de DataFrame pour obtenir des informations plus détaillées :\n",
        "\n",
        "- La méthode `any` avec l’argument `axis` permet de déterminer quelles **colonnes** (`axis=0`) ou **lignes** (`axis=1`) contiennent au moins une valeur manquante.  \n",
        "- La méthode `sum` compte le nombre de valeurs manquantes par colonne ou par ligne (en utilisant l’argument `axis`). D’autres méthodes statistiques comme `mean`, `max`, `argmax`, etc., peuvent également être appliquées.\n",
        "\n",
        "Exemple avec le DataFrame précédent `df` :\n",
        "\n",
        "| Nom      | Pays       | Âge |\n",
        "|----------|------------|-----|\n",
        "| NaN      | Australia  | NaN |\n",
        "| Duchamp  | France     | 25  |\n",
        "| Hana     | Japan      | 54  |\n",
        "\n",
        "Exécuter `df.isna()` renvoie :\n",
        "\n",
        "| Nom   | Pays    | Âge   |\n",
        "|-------|---------|-------|\n",
        "| True  | False   | True  |\n",
        "| False | False   | False |\n",
        "| False | False   | False |\n",
        "\n",
        "```python\n",
        "# Example: Detecting missing values in a DataFrame\n",
        "\n",
        "# Detect COLUMNS that contain at least one missing value\n",
        "df.isna().any(axis=0)\n",
        "\n",
        "# Output:\n",
        "# Nom      True\n",
        "# Pays     False\n",
        "# Age      True\n",
        "\n",
        "# Detect ROWS that contain at least one missing value\n",
        "df.isna().any(axis=1)\n",
        "\n",
        "# Output:\n",
        "# 0     True\n",
        "# 1    False\n",
        "# 2    False\n",
        "\n",
        "# Use conditional indexing to display rows with at least one missing value\n",
        "df[df.isna().any(axis=1)]\n",
        ">>>\n",
        "```\n",
        "| Nom   | Pays      | Âge   |\n",
        "|-------|-----------|-------|\n",
        "| NaN   | Australia | NaN   |\n",
        "\n",
        "```python\n",
        "# Count missing values per COLUMN\n",
        "df.isnull().sum(axis=0)  # isnull and isna are equivalent\n",
        ">>>\n",
        "Name    1\n",
        "Country 0\n",
        "Age     1\n",
        "\n",
        "# Count missing values per ROW\n",
        "df.isnull().sum(axis=1)\n",
        ">>>\n",
        "0  2\n",
        "1  0\n",
        "2  0\n",
        "```\n"
      ],
      "metadata": {
        "id": "NuqzaCOY4RKh"
      }
    },
    {
      "cell_type": "markdown",
      "source": [
        "<center>\n",
        "\n",
        "### **🔍 Exemple : Gestion des valeurs manquantes dans un DataFrame**\n",
        "\n",
        "</center>\n",
        "\n",
        "---\n",
        "\n",
        "- (a) Combien de colonnes dans le DataFrame `transactions` contiennent des valeurs manquantes ?  \n",
        "- (b) Combien de lignes dans `transactions` contiennent au moins une valeur manquante ? Vous pouvez utiliser la méthode `any` combinée avec `sum`.  \n",
        "- (c) Quelle colonne de `transactions` a le plus grand nombre de valeurs manquantes ?  \n",
        "- (d) Affichez les lignes de `transactions` qui ont au moins une valeur manquante dans les colonnes `'rate'`, `'tax'` et `'total_amt'`. Qu’observez-vous ?"
      ],
      "metadata": {
        "id": "y3DGgDABFG6O"
      }
    },
    {
      "cell_type": "code",
      "source": [
        "# TODO"
      ],
      "metadata": {
        "id": "U8_dgQI8FYkg"
      },
      "execution_count": null,
      "outputs": []
    },
    {
      "cell_type": "markdown",
      "source": [
        "## Remplacement des valeurs manquantes (méthode `fillna`)\n",
        "\n",
        "La méthode `fillna` permet de remplacer les valeurs manquantes (NaN) dans un DataFrame par une valeur de votre choix. Ceci est utile pour nettoyer le jeu de données avant une analyse ou des calculs statistiques.\n",
        "\n",
        "Par exemple, nous pouvons remplacer les valeurs manquantes d’une colonne numérique par 0, ou dans une colonne catégorielle par une catégorie par défaut.\n",
        "\n",
        "```python\n",
        "# Replace all NaN values in the DataFrame with zeros\n",
        "df.fillna(0)\n",
        "\n",
        "# Replace NaN values in each numeric column with the column mean\n",
        "df.fillna(df.mean())  # df.mean() can be replaced by any other statistical method\n",
        "```\n",
        "\n",
        "Il est courant de remplacer les valeurs manquantes dans une colonne numérique par des statistiques telles que :\n",
        "\n",
        "- Moyenne : `mean`  \n",
        "- Médiane : `median`  \n",
        "- Minimum/Maximum : `min`/`max`  \n",
        "\n",
        "Pour les colonnes catégorielles, les valeurs manquantes sont généralement remplacées par :\n",
        "\n",
        "- La modalité, c’est-à-dire la catégorie la plus fréquente : `mode`  \n",
        "- Une valeur constante ou arbitraire : 0, -1  \n",
        "\n",
        "Pour éviter les erreurs lors du remplacement des valeurs manquantes, il est fortement recommandé de sélectionner les bonnes colonnes avant d’utiliser `fillna`.\n",
        "\n",
        "Si vous faites des erreurs dans l’exercice suivant, vous pouvez réimporter le DataFrame `transactions` en utilisant la cellule suivante."
      ],
      "metadata": {
        "id": "eWuV8fzCGqUz"
      }
    },
    {
      "cell_type": "code",
      "source": [
        "# Importer le jeu de données\n",
        "transactions = pd.read_csv(\"transactions.csv\", sep=',', index_col=\"transaction_id\")\n",
        "\n",
        "# Supprimer les lignes dupliquées\n",
        "transactions = transactions.drop_duplicates(keep='first')\n",
        "\n",
        "# Renommer les colonnes\n",
        "nouveaux_noms = {\n",
        "    'Store_type': 'store_type',\n",
        "    'Qty': 'qty',\n",
        "    'Rate': 'rate',\n",
        "    'Tax': 'tax'\n",
        "}\n",
        "\n",
        "transactions = transactions.rename(nouveaux_noms, axis=1)"
      ],
      "metadata": {
        "id": "0cLKrkXiHUOs"
      },
      "execution_count": null,
      "outputs": []
    },
    {
      "cell_type": "markdown",
      "source": [
        "<center>\n",
        "\n",
        "### **🔍 Exemple : Remplacement des valeurs manquantes dans un DataFrame**\n",
        "\n",
        "</center>\n",
        "\n",
        "---\n",
        "- (a) Remplacez les valeurs manquantes dans la colonne `prod_subcat_code` de `transactions` par -1.\n",
        "\n",
        "- (b) Déterminez la catégorie la plus fréquente (mode) de la colonne `store_type` dans `transactions`.\n",
        "\n",
        "- (c) Remplacez les valeurs manquantes de la colonne `store_type` par ce mode. Vous pouvez accéder à la valeur du mode à l’index 0 de la Series retournée par `mode`.\n",
        "\n",
        "- (d) Vérifiez que les colonnes `prod_subcat_code` et `store_type` dans `transactions` ne contiennent plus de valeurs manquantes."
      ],
      "metadata": {
        "id": "j8R-Cx2VCf-O"
      }
    },
    {
      "cell_type": "code",
      "source": [
        "# TODO"
      ],
      "metadata": {
        "id": "tEpAID8ECZln"
      },
      "execution_count": null,
      "outputs": []
    },
    {
      "cell_type": "markdown",
      "source": [
        "## Suppression des valeurs manquantes (méthode `dropna`)¶\n",
        "\n",
        "La méthode `dropna` permet de supprimer les lignes ou les colonnes contenant des valeurs manquantes.\n",
        "\n",
        "La signature de la méthode est la suivante : `dropna(axis, how, subset, ..)`\n",
        "\n",
        "- **axis** spécifie s’il faut supprimer des lignes ou des colonnes (0 pour les lignes, 1 pour les colonnes).\n",
        "\n",
        "- **how** spécifie la condition de suppression :  \n",
        "    - `how='any'` : supprimer la ligne (ou colonne) si elle contient au moins une valeur manquante.  \n",
        "    - `how='all'` : supprimer la ligne (ou colonne) seulement si toutes les valeurs sont manquantes.\n",
        "\n",
        "- **subset** spécifie quelles colonnes/lignes considérer lors de la vérification des valeurs manquantes.\n",
        "\n",
        "```python\n",
        "# Remove all rows that contain at least one missing value\n",
        "df = df.dropna(axis=0, how='any')\n",
        "\n",
        "# Remove columns that are completely empty\n",
        "df = df.dropna(axis=1, how='all')\n",
        "\n",
        "# Remove rows where all values are missing in the specific columns 'col2', 'col3', and 'col4'\n",
        "df = df.dropna(axis=0, how='all', subset=['col2','col3','col4'])\n",
        "```\n"
      ],
      "metadata": {
        "id": "z8edxml2jROA"
      }
    },
    {
      "cell_type": "markdown",
      "source": [
        "<center>\n",
        "\n",
        "### **🔍 Exemple : Suppression des valeurs manquantes**\n",
        "\n",
        "</center>\n",
        "\n",
        "---\n",
        "Certaines transactions pour lesquelles le montant de la transaction n’est pas renseigné ne sont pas pertinentes. Pour cette raison :\n",
        "\n",
        "- (a) Supprimez les entrées du DataFrame `transactions` où les colonnes `rate`, `tax` et `total_amt` sont simultanément vides.\n",
        "\n",
        "- (b) Vérifiez que les colonnes de `transactions` ne contiennent plus de valeurs manquantes."
      ],
      "metadata": {
        "id": "_hjhWsFrCcXE"
      }
    },
    {
      "cell_type": "code",
      "source": [
        "# TODO"
      ],
      "metadata": {
        "id": "iBR2LerGESka"
      },
      "execution_count": null,
      "outputs": []
    },
    {
      "cell_type": "markdown",
      "source": [
        "---\n",
        "\n",
        "<center>\n",
        "\n",
        "## **📖 Conclusion et résumé**\n",
        "\n",
        "</center>\n",
        "\n",
        "---\n"
      ],
      "metadata": {
        "id": "haPfgDjdcQxE"
      }
    },
    {
      "cell_type": "markdown",
      "source": [
        "Dans ce chapitre, nous avons couvert les méthodes essentielles de `pandas` pour nettoyer un jeu de données et gérer les valeurs manquantes (`NaN`).\n",
        "\n",
        "La préparation d’un jeu de données est toujours la première étape de tout projet de données.\n",
        "\n",
        "- **Nettoyage des données** :  \n",
        "  - Détecter et supprimer les doublons dans un `DataFrame` avec `duplicated` et `drop_duplicates`.  \n",
        "  - Modifier les valeurs d’un DataFrame et leurs types avec `replace`, `rename` et `astype`.  \n",
        "  - Appliquer une fonction à un DataFrame avec `apply` et les expressions `lambda`.  \n",
        "\n",
        "- **Gestion des valeurs manquantes** :  \n",
        "  - Les détecter avec `isna()` combiné à `any()` et `sum()`.  \n",
        "  - Les remplacer avec `fillna()` et des fonctions statistiques.  \n",
        "  - Les supprimer avec `dropna()`.  \n",
        "\n",
        "Dans le prochain notebook, vous explorerez des manipulations plus avancées des `DataFrame` pour une analyse de données plus approfondie.\n",
        "\n",
        "En pratique, les jeux de données sont rarement parfaitement propres : valeurs manquantes, doublons ou entrées incohérentes sont fréquents.  \n",
        "Dans la section suivante, nous apprendrons comment nettoyer et prétraiter les jeux de données avec pandas, une étape cruciale avant toute analyse significative."
      ],
      "metadata": {
        "id": "-2FIhAlWcMNw"
      }
    },
    {
      "cell_type": "code",
      "source": [],
      "metadata": {
        "id": "yvPOnXghLEag"
      },
      "execution_count": null,
      "outputs": []
    }
  ]
}