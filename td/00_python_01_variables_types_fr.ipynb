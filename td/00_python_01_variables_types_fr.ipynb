{
  "nbformat": 4,
  "nbformat_minor": 0,
  "metadata": {
    "colab": {
      "provenance": []
    },
    "kernelspec": {
      "name": "python3",
      "display_name": "Python 3"
    },
    "language_info": {
      "name": "python"
    }
  },
  "cells": [
    {
      "cell_type": "markdown",
      "source": [
        "---\n",
        "\n",
        "<center>\n",
        "\n",
        "# **Python pour la Data Science**\n",
        "\n",
        "### *Introduction : Variables et Types*\n",
        "\n",
        "</center>\n"
      ],
      "metadata": {
        "id": "6UqIO5ZN7hD8"
      }
    },
    {
      "cell_type": "markdown",
      "source": [
        "---\n",
        "\n",
        "<center>\n",
        "\n",
        "## **📖 Introduction**\n",
        "\n",
        "</center>\n",
        "\n",
        "---\n"
      ],
      "metadata": {
        "id": "8QLZXk-K9WUm"
      }
    },
    {
      "cell_type": "markdown",
      "source": [
        "Python est un langage de programmation reconnu pour sa syntaxe **lisible**, **efficace** et **facile à apprendre**.  \n",
        "Il est devenu l’un des langages les plus utilisés en **Data Science** grâce à de puissantes bibliothèques telles que :\n",
        "\n",
        "- [**Numpy**](https://numpy.org/) pour le calcul scientifique  \n",
        "- [**Pandas**](https://pandas.pydata.org/) pour le traitement et l’analyse de données  \n",
        "- [**Matplotlib**](https://matplotlib.org/) pour créer des graphiques et visualisations  \n",
        "- [**Scikit-learn**](https://scikit-learn.org/stable/) pour entraîner des modèles de machine learning  \n",
        "- *Et bien d’autres encore !*\n",
        "\n",
        "---\n",
        "\n",
        "Python ne se limite pas à la data science : il offre aussi des fonctionnalités essentielles pour l’intégration en entreprise, en s’intégrant parfaitement avec les **services web** et les **bases de données**.\n",
        "\n",
        "---\n",
        "\n",
        "Dans cette leçon, vous découvrirez les bases de la manière de **stocker et structurer des données** en Python :\n",
        "\n",
        "- **Variables**  \n",
        "- **Listes**  \n",
        "- **Tuples**  \n",
        "- **Dictionnaires**\n",
        "\n",
        "---\n"
      ],
      "metadata": {
        "id": "PXA6UO-w8G2M"
      }
    },
    {
      "cell_type": "markdown",
      "source": [
        "---\n",
        "\n",
        "<center>\n",
        "\n",
        "## **📖 Variables**\n",
        "\n",
        "</center>\n",
        "\n",
        "---\n"
      ],
      "metadata": {
        "id": "Wx72rTsmSgJ8"
      }
    },
    {
      "cell_type": "markdown",
      "source": [
        "En Python, une variable est comme une **boîte nommée** qui contient une information que l’on souhaite utiliser ou modifier plus tard dans notre programme.\n",
        "\n",
        "Pour créer une variable et y stocker une valeur, il suffit d’écrire :\n",
        "\n",
        "```python\n",
        "my_variable = some_value\n",
        "```\n",
        "\n",
        "Ici, `my_variable` est le nom que nous avons choisi, et il contient désormais la valeur `some_value`.\n",
        "\n",
        "Les variables peuvent stocker de nombreux types de données différents, comme des nombres et du texte :\n",
        "\n",
        "```python\n",
        "# Store an integer\n",
        "stars_count = 100\n",
        "\n",
        "# Create another variable based on the first one\n",
        "double_stars = stars_count * 2\n",
        "\n",
        "# Store a string instead\n",
        "stars_count = \"A hundred stars\"\n",
        "```\n",
        "Chaque fois que nous utilisons l’opérateur `=`, l’ancienne valeur contenue dans la variable est remplacée par la nouvelle.\n",
        "\n",
        "Pour voir la valeur qu’une variable contient actuellement, nous pouvons utiliser la fonction intégrée `print` :\n",
        "\n",
        "```python\n",
        "# Create some variables\n",
        "speed_of_light = 299_792_458  # in meters per second\n",
        "half_speed = speed_of_light / 2\n",
        "\n",
        "# Display them\n",
        "print(speed_of_light)\n",
        ">>> 299792458\n",
        "print(half_speed)\n",
        ">>> 149896229.0\n",
        "```\n"
      ],
      "metadata": {
        "id": "BVuC1fzDTLFl"
      }
    },
    {
      "cell_type": "markdown",
      "source": [
        "<center>\n",
        "\n",
        "### **🔍 Exemple : Travailler avec les Variables**\n",
        "\n",
        "</center>\n",
        "\n",
        "---\n",
        "\n",
        "Un vaisseau spatial planifie une mission vers Mars. La distance entre la Terre et Mars est de 225 000 000 km, et le voyage devrait durer 300 jours.  \n",
        "Écrivez un programme Python qui :\n",
        "\n",
        "- (a) Stocke le nom de la planète, la distance et le temps de trajet estimé dans des variables.  \n",
        "- (b) Calcule la vitesse moyenne requise en kilomètres par jour.  \n",
        "- (c) Affiche toutes les informations de manière claire."
      ],
      "metadata": {
        "id": "R3nlEZbXU2Sr"
      }
    },
    {
      "cell_type": "code",
      "execution_count": null,
      "metadata": {
        "id": "Ok4kVHoa7Q-b"
      },
      "outputs": [],
      "source": [
        "# TODO"
      ]
    },
    {
      "cell_type": "markdown",
      "source": [
        "<center>\n",
        "\n",
        "### **Nommer des Variables en Python**\n",
        "\n",
        "</center>\n",
        "\n",
        "---"
      ],
      "metadata": {
        "id": "bcn76eKtWTBZ"
      }
    },
    {
      "cell_type": "markdown",
      "source": [
        "Les noms de variables peuvent être aussi simples que `x` ou `y`, mais ils peuvent aussi être plus descriptifs comme `commandes_clients_2023` ou `revenu_total_t2`.\n",
        "\n",
        "Lorsqu’on nomme des variables, Python exige de suivre certaines règles :\n",
        "\n",
        "- Un nom de variable doit commencer par une **lettre** (a–z, A–Z) ou un **underscore** (`_`).\n",
        "\n",
        "- Il **ne peut pas** commencer par un **chiffre**.\n",
        "\n",
        "- Les noms de variables ne peuvent contenir que des **lettres**, des **chiffres** et des **underscores**.\n",
        "\n",
        "- Les noms de variables sont **sensibles à la casse**. Par exemple, `valeur_donnees`, `Valeur_Donnees` et `VALEUR_DONNEES` sont considérés comme trois variables différentes.\n",
        "\n",
        "---\n",
        "\n",
        "Voici quelques exemples de noms de variables valides et invalides :\n",
        "\n",
        "```python\n",
        "_valid_name = 10          # valid\n",
        "speedOfLight = 299792458  # valid\n",
        "2fast2furious = \"Nope!\"   # invalid: starts with a digit\n",
        "total-sales = 1000        # invalid: contains a hyphen\n",
        "```"
      ],
      "metadata": {
        "id": "2wGo9fr-WVQv"
      }
    },
    {
      "cell_type": "markdown",
      "source": [
        "---\n",
        "\n",
        "<center>\n",
        "\n",
        "## **📖 Listes**\n",
        "\n",
        "</center>\n",
        "\n",
        "---\n"
      ],
      "metadata": {
        "id": "oNUj8PTAHotf"
      }
    },
    {
      "cell_type": "markdown",
      "source": [
        "<center>\n",
        "\n",
        "### **Listes - Indexation**\n",
        "\n",
        "</center>\n",
        "\n",
        "---"
      ],
      "metadata": {
        "id": "QED1cWDBw2kC"
      }
    },
    {
      "cell_type": "markdown",
      "source": [
        "En Python, une liste est un type spécial de variable car elle peut contenir plusieurs valeurs à la fois.  \n",
        "Pour créer une liste, on utilise des crochets `[ ]` et on sépare chaque élément par une virgule :\n",
        "\n",
        "```python\n",
        "planets = [\"Mercury\", \"Venus\", \"Earth\", \"Mars\"]\n",
        "```\n",
        "\n",
        "Cette liste contient maintenant 4 éléments : `\"Mercure\"`, `\"Vénus\"`, `\"Terre\"` et `\"Mars\"`.  \n",
        "- Les crochets indiquent à Python où la liste commence et où elle se termine.  \n",
        "- Les virgules séparent chaque élément à l’intérieur de la liste.\n",
        "\n",
        "#### **Accéder aux éléments (Indexation)**\n",
        "\n",
        "Pour obtenir un élément de la liste, on écrit son index entre crochets :\n",
        "\n",
        "```python\n",
        "# Display the first planet\n",
        "print(planets[0])\n",
        ">>> Mercury\n",
        "```\n",
        "Rappelez-vous : en Python, **le premier élément a pour index 0**, le deuxième a pour index 1, et ainsi de suite.\n",
        "\n",
        "#### **Modifier un élément**\n",
        "\n",
        "On peut également changer la valeur stockée à une position spécifique :\n",
        "\n",
        "```python\n",
        "# Replace the second planet by another name\n",
        "planets[1] = \"New Venus\"\n",
        "```\n",
        "Maintenant, si nous affichons `planets`, le deuxième élément sera `\"New Venus\"`.\n",
        "\n",
        "#### **Indexation négative**\n",
        "Python permet également de compter depuis la fin de la liste en utilisant des indices négatifs :\n",
        "\n",
        "- -1 correspond au dernier élément,  \n",
        "- -2 correspond à l’avant-dernier, et ainsi de suite.\n",
        "\n",
        "C’est très pratique lorsqu’on travaille avec de longues listes dont on ne connaît pas toujours la longueur exacte.\n",
        "\n",
        "```python\n",
        "# Replace the last planet\n",
        "planets[-1] = \"Red Planet\"\n",
        "```\n",
        "Maintenant, le dernier élément de la liste affichera `\"Red Planet\"` au lieu de `\"Mars\"`.\n",
        "\n",
        "**Les listes sont puissantes car elles permettent de stocker, accéder et modifier facilement de nombreuses valeurs — parfait pour nos missions d’exploration de données !**"
      ],
      "metadata": {
        "id": "mDZZutPJV5an"
      }
    },
    {
      "cell_type": "markdown",
      "source": [
        "<center>\n",
        "\n",
        "#### **🔍 Exemple : Travailler avec les Listes**\n",
        "\n",
        "</center>\n",
        "\n",
        "---\n",
        "\n",
        "- (a) Triez la liste `ma_liste = [4, 3, 1, 2, 5, 10]` par ordre croissant **en mettant à jour ses éléments un par un**, sans utiliser `sort()`.\n",
        "\n",
        "- (b) Affichez `ma_liste` pour voir le résultat."
      ],
      "metadata": {
        "id": "rcSrHmxMu7-l"
      }
    },
    {
      "cell_type": "code",
      "source": [
        "# TODO"
      ],
      "metadata": {
        "id": "U-XH3geeI6n-"
      },
      "execution_count": null,
      "outputs": []
    },
    {
      "cell_type": "markdown",
      "source": [
        "---\n",
        "\n",
        "<center>\n",
        "\n",
        "### **Listes - Découpage (Slicing)**\n",
        "\n",
        "</center>\n",
        "\n",
        "---"
      ],
      "metadata": {
        "id": "bF5TecrCxWwo"
      }
    },
    {
      "cell_type": "markdown",
      "source": [
        "En Python, on peut également extraire des sous-listes en utilisant une technique appelée découpage (slicing).\n",
        "\n",
        "Le découpage permet d’obtenir une portion d’une liste en spécifiant l’index de début et l’index de fin, séparés par deux-points.\n",
        "\n",
        "```python\n",
        "galaxy_items = [42, \"Star\", -7.5, \"Nebula\", 108, \"Comet\", 0]\n",
        "\n",
        "# Get the first four elements from the list\n",
        "first_items = galaxy_items[0:4]\n",
        "\n",
        "# Display the sub-list\n",
        "print(first_items)\n",
        ">>> [42, \"Star\", -7.5, \"Nebula\"]\n",
        "```\n",
        "Remarquez que l’élément à l’**index de fin** (index 4 dans ce cas) n’est **pas inclus** dans le résultat.  \n",
        "Ainsi, `galaxy_items[0:4]` renvoie les éléments aux indices `0, 1, 2, 3`.\n",
        "\n",
        "Si l’on omet l’index de début, Python suppose que l’on commence depuis le début :\n",
        "\n",
        "```python\n",
        "# Same result as above\n",
        "first_items = galaxy_items[:4]\n",
        "```\n",
        "Likewise, if we omit the end index, the slice goes from the start index to the end of the list:\n",
        "```python\n",
        "# Get the last three items\n",
        "last_items = space_list[-3:]\n",
        "\n",
        "# Display them\n",
        "print(last_items)\n",
        ">>> [8, 'Galaxy', 77]\n",
        "```"
      ],
      "metadata": {
        "id": "5o6lIHDSxh2z"
      }
    },
    {
      "cell_type": "markdown",
      "source": [
        "<center>\n",
        "\n",
        "#### **🔍 Exemple : Travailler avec le Découpage**\n",
        "\n",
        "</center>\n",
        "\n",
        "---\n",
        "\n",
        "- (a) Affichez les 10 premiers éléments de la liste `long_list = [0, 1, 2, ..., 99]`.\n",
        "\n",
        "- (b) Affichez les 10 derniers éléments de `long_list`."
      ],
      "metadata": {
        "id": "p9ieEejNy6aU"
      }
    },
    {
      "cell_type": "code",
      "source": [
        "# TODO"
      ],
      "metadata": {
        "id": "8dxB65HhwASk"
      },
      "execution_count": null,
      "outputs": []
    },
    {
      "cell_type": "markdown",
      "source": [
        "---\n",
        "\n",
        "<center>\n",
        "\n",
        "### **Listes - Méthodes**\n",
        "\n",
        "</center>\n",
        "\n",
        "---"
      ],
      "metadata": {
        "id": "pz11hXHS3Jq4"
      }
    },
    {
      "cell_type": "markdown",
      "source": [
        "Jusqu’à présent, nous avons appris à modifier les éléments d’une liste. Ensuite, nous allons voir comment ajouter ou supprimer des éléments d’une liste.\n",
        "\n",
        "Pour cela, nous utiliserons deux méthodes : **insert** et **pop**. En programmation orientée objet (POO), une méthode est une fonction spéciale attachée à la classe d’un objet — dans notre cas, les listes.\n",
        "\n",
        "La méthode **pop** pour les listes permet de **supprimer** un élément à un index spécifique. Elle **renvoie** également la valeur de l’élément supprimé :\n",
        "\n",
        "```python\n",
        "my_items = [10, 42, \"Hello\", -2.5, \"world\", 88, \"Python\"]\n",
        "\n",
        "# Remove and return the element at index 3\n",
        "removed_element = my_items.pop(3)\n",
        "\n",
        "# Display the updated list\n",
        "print(my_items)\n",
        ">>> [10, 42, \"Hello\", \"world\", 88, \"Python\"]\n",
        "```\n",
        "\n",
        "La syntaxe pour appeler une méthode suit des règles spécifiques :\n",
        "\n",
        "- L’objet appelant la méthode doit déjà exister.  \n",
        "- Le nom de la méthode est suivi de parenthèses contenant les arguments nécessaires pour personnaliser son comportement.  \n",
        "- Le nom de l’objet et la méthode sont séparés par un point (`.`).\n",
        "\n",
        "La méthode `pop` prend exactement un argument : l’index de l’élément que vous souhaitez supprimer."
      ],
      "metadata": {
        "id": "MXaqy73Y3Mx_"
      }
    },
    {
      "cell_type": "markdown",
      "source": [
        "<center>\n",
        "\n",
        "#### **🔍 Exemple : Utiliser la méthode pop avec les Listes**\n",
        "\n",
        "</center>\n",
        "\n",
        "---\n",
        "\n",
        "Vos tâches :\n",
        "\n",
        "Utilisez la méthode `pop()` sans argument pour supprimer et renvoyer la dernière planète de la liste.\n",
        "\n",
        "- (a) Affichez le nom de la planète supprimée.  \n",
        "- (b) Affichez la liste mise à jour des planètes.\n",
        "\n",
        "Utilisez la méthode `pop()` avec un argument pour supprimer et renvoyer la première planète de la liste (index 0).\n",
        "\n",
        "- (c) Affichez le nom de cette planète supprimée.  \n",
        "- (d) Affichez la liste mise à jour des planètes.\n",
        "\n",
        "```python\n",
        "# Create a list of planets\n",
        "planet_list = [\"Mercury\", \"Venus\", \"Earth\", \"Mars\", \"Jupiter\"]\n",
        "```"
      ],
      "metadata": {
        "id": "nBU6ugjw5BLS"
      }
    },
    {
      "cell_type": "code",
      "source": [
        "# TODO"
      ],
      "metadata": {
        "id": "LP6oV9kB47Lc"
      },
      "execution_count": null,
      "outputs": []
    },
    {
      "cell_type": "markdown",
      "source": [
        "#### Méthode des listes : insert\n",
        "\n",
        "---\n",
        "\n",
        "Pour ajouter une nouvelle valeur dans une liste à une position spécifique, on utilise la méthode `insert`. Cette méthode nécessite **deux arguments** :\n",
        "\n",
        "- Le premier argument est l’**index** où vous souhaitez insérer la nouvelle valeur.  \n",
        "- Le deuxième argument est la **valeur** elle-même.\n",
        "\n",
        "For example:\n",
        "```python\n",
        "# Insert the string \"Hello\" at index 2\n",
        "my_list.insert(2, \"Hello\")\n",
        "```\n",
        "Lorsqu’une méthode prend plusieurs arguments, séparez-les par des virgules à l’intérieur des parenthèses."
      ],
      "metadata": {
        "id": "2IQkpGL13Cd5"
      }
    },
    {
      "cell_type": "markdown",
      "source": [
        "<center>\n",
        "\n",
        "#### **🔍 Exemple : Manipuler les Listes avec pop() et insert()**\n",
        "\n",
        "</center>\n",
        "\n",
        "---\n",
        "\n",
        "- (a) Supprimez tous les nombres de `ma_liste` en utilisant la méthode `pop` de manière répétée.\n",
        "\n",
        "```python\n",
        "my_list = [\"Bonjour\", 10, \"comment\", 5, \"ça\", 3, \"va\", 8]\n",
        "```\n",
        "\n",
        "- (b) Insérez les éléments `\"Bonjour\"`, `\"comment\"`, `\"ça\"`, et `\"va\"` dans `ma_liste` aux positions appropriées afin que, lorsqu’on l’affiche, la liste ressemble à ceci :\n",
        "\n",
        "```python\n",
        "[\"Bonjour\", \"Hello\", \"comment\", \"how\", \"ça\", \"are\", \"va\", \"you\"]\n",
        "```"
      ],
      "metadata": {
        "id": "kUpQKr9q6xzP"
      }
    },
    {
      "cell_type": "code",
      "source": [
        "# TODO"
      ],
      "metadata": {
        "id": "2lBjwnDv6tmL"
      },
      "execution_count": null,
      "outputs": []
    },
    {
      "cell_type": "markdown",
      "source": [
        "#### Méthodes des listes : append et extend\n",
        "\n",
        "---\n",
        "\n",
        "En Python, vous pouvez facilement ajouter un élément à la fin d’une liste en utilisant la méthode `append`.\n",
        "\n",
        "```python\n",
        "# Add the element \"Goodbye\" to the end of the list\n",
        "my_list.append(\"Goodbye\")\n",
        "```\n",
        "\n",
        "Cette méthode est très utile lorsque vous souhaitez construire progressivement une liste, par exemple pour stocker les valeurs qu’une variable prend au fil du temps.\n",
        "\n",
        "Pour fusionner deux listes, on peut utiliser la méthode `extend`.\n",
        "\n",
        "L’argument de `extend` est une autre liste dont les éléments seront ajoutés à la fin de la liste originale.\n",
        "\n",
        "```python\n",
        "# Example: merge two lists\n",
        "planets = [\"Earth\", \"Mars\", \"Jupiter\"]\n",
        "new_planets = [\"Saturn\", \"Uranus\"]\n",
        "\n",
        "planets.extend(new_planets)\n",
        "print(planets)\n",
        ">>>['Earth', 'Mars', 'Jupiter', 'Saturn', 'Uranus']\n",
        "```\n",
        "Il est également possible de fusionner des listes avec l’opérateur `+`, mais ce n’est généralement pas recommandé car cela peut rendre le code confus, surtout lorsque l’on n’est pas sûr de travailler avec des nombres ou des listes.\n",
        "\n",
        "<center>\n",
        "\n",
        "#### **Résumé des Méthodes des Listes**\n",
        "\n",
        "</center>\n",
        "\n",
        "---\n",
        "\n",
        "Toutes les listes en Python possèdent des **méthodes** intégrées qui permettent d’ajouter, de supprimer ou de combiner facilement des éléments.\n",
        "\n",
        "| Méthode    | Argument(s)      | Description                                                      |\n",
        "|-----------|-----------------|------------------------------------------------------------------|\n",
        "| `pop`     | index           | Supprime et renvoie l’élément à l’index spécifié                 |\n",
        "| `insert`  | index, valeur   | Insère un nouvel élément à l’index donné                          |\n",
        "| `append`  | valeur          | Ajoute la valeur à la fin de la liste                             |\n",
        "| `extend`  | liste           | Fusionne la liste appelante avec une autre liste                  |\n",
        "\n",
        "Tous les types d’objets en Python possèdent leurs propres méthodes.  \n",
        "Plus tard dans ce cours, nous explorerons la **programmation orientée objet (POO)** et verrons pourquoi les méthodes sont un outil si puissant en Python."
      ],
      "metadata": {
        "id": "FGkbT01r8PvQ"
      }
    },
    {
      "cell_type": "markdown",
      "source": [
        "<center>\n",
        "\n",
        "#### **🔍 Exemple : Manipuler une Liste de Planètes**\n",
        "\n",
        "</center>\n",
        "\n",
        "---\n",
        "\n",
        "Mettons en pratique ce que nous avons appris sur les listes en réalisant les actions suivantes :\n",
        "\n",
        "- (a) Créez une liste appelée `planetes` contenant :  \n",
        "`[\"Mercure\", \"Vénus\", \"Terre\", \"Mars\"]`\n",
        "\n",
        "- (b) Ajoutez deux nouvelles planètes à la fin de la liste : `\"Jupiter\"` et `\"Saturne\"`  \n",
        "(Indice : utilisez `append`)\n",
        "\n",
        "- (c) Insérez `\"Mars\"` juste après `\"Terre\"`  \n",
        "(Indice : utilisez `insert`)\n",
        "\n",
        "- (d) Supprimez `\"Mars\"` de la liste  \n",
        "(Indice : utilisez `pop`)\n",
        "\n",
        "- (e) Fusionnez une autre liste `[\"Uranus\", \"Neptune\"]` dans `planetes`  \n",
        "(Indice : utilisez `extend`)\n",
        "\n",
        "- (f) Affichez la liste finale `planetes` pour voir le résultat.\n"
      ],
      "metadata": {
        "id": "jb_MB7GC-7QO"
      }
    },
    {
      "cell_type": "code",
      "source": [
        "# TODO"
      ],
      "metadata": {
        "id": "69q5vRK4_UB6"
      },
      "execution_count": null,
      "outputs": []
    },
    {
      "cell_type": "markdown",
      "source": [
        "---\n",
        "\n",
        "<center>\n",
        "\n",
        "## **📖 Tuples**\n",
        "\n",
        "</center>\n",
        "\n",
        "---"
      ],
      "metadata": {
        "id": "obl-E9bH-18X"
      }
    },
    {
      "cell_type": "markdown",
      "source": [
        "Les tuples sont une structure de données en Python qui ressemblent aux listes.  \n",
        "Ils peuvent être créés **avec ou sans parenthèses**, et leur indexation fonctionne exactement comme pour les listes.\n",
        "\n",
        "Une différence importante :  \n",
        "✅ **Les tuples sont *immuables*** — vous *ne pouvez pas* modifier leurs éléments une fois qu’ils sont créés.\n",
        "\n",
        "```python\n",
        "# Creating a tuple\n",
        "my_tuple = (\"Hello\", -1, 133)\n",
        "\n",
        "# Access the first element\n",
        "print(my_tuple[0])\n",
        ">>> Hello\n",
        "\n",
        "# Access the last element\n",
        "print(my_tuple[-1])\n",
        ">>> 133\n"
      ],
      "metadata": {
        "id": "l-vZ27KlBU2v"
      }
    },
    {
      "cell_type": "markdown",
      "source": [
        "<center>\n",
        "\n",
        "#### **🔍 Exemple : Travailler avec des Tuples**\n",
        "\n",
        "</center>\n",
        "\n",
        "---\n",
        "\n",
        "- (a) Créez un tuple nommé `planet_data` contenant :  \n",
        "  - le nom de la planète : `\"Earth\"`  \n",
        "  - sa distance moyenne au Soleil en millions de km : `149.6`  \n",
        "  - le nombre de lunes : `1`\n",
        "\n",
        "- (b) Affichez chaque élément du tuple séparément :  \n",
        "  - Le nom de la planète  \n",
        "  - Sa distance au Soleil  \n",
        "  - Le nombre de lunes\n",
        "\n",
        "- (c) Utilisez le déballage (unpacking) de tuple pour attribuer ces trois valeurs aux variables :  \n",
        "  - `nom`, `distance`, et `moons`,  \n",
        "  - puis affichez-les pour vérifier.\n"
      ],
      "metadata": {
        "id": "j8R-Cx2VCf-O"
      }
    },
    {
      "cell_type": "code",
      "source": [
        "# TODO"
      ],
      "metadata": {
        "id": "tEpAID8ECZln"
      },
      "execution_count": null,
      "outputs": []
    },
    {
      "cell_type": "markdown",
      "source": [
        "---\n",
        "\n",
        "<center>\n",
        "\n",
        "## **📖 Dictionnaires**\n",
        "\n",
        "</center>\n",
        "\n",
        "---"
      ],
      "metadata": {
        "id": "7D1kKpB5DDo5"
      }
    },
    {
      "cell_type": "markdown",
      "source": [
        "\n",
        "Un **dictionnaire** en Python est comme un vrai dictionnaire : il stocke des **paires** d’informations.  \n",
        "Chaque donnée possède une **clé** et une **valeur**.\n",
        "\n",
        "On crée un dictionnaire en utilisant des accolades `{}` avec les clés et les valeurs séparées par deux-points `:` :\n",
        "\n",
        "```python\n",
        "planet_info = {\n",
        "    \"name\": \"Earth\",\n",
        "    \"distance\": 149.6,\n",
        "    \"moons\": 1\n",
        "}\n",
        "```\n",
        "- `\"name\"`, `\"distance\"` et `\"moons\"` sont les clés  \n",
        "- `\"Earth\"`, `149.6` et `1` sont les valeurs correspondantes\n",
        "\n",
        "Vous pouvez accéder aux valeurs grâce à leur clé :\n",
        "\n",
        "```python\n",
        "print(planet_info[\"name\"])     \n",
        ">>> Earth\n",
        "print(planet_info[\"distance\"])\n",
        ">>> 149.6\n",
        "```\n",
        "**Updating and adding values**\n",
        "- Pour changer une valeur:\n",
        "```python\n",
        "planet_info[\"moons\"] = 2\n",
        "```\n",
        "- Pour ajouter une valeur:\n",
        "```python\n",
        "planet_info[\"has_rings\"] = False\n",
        "```"
      ],
      "metadata": {
        "id": "DRAU0hF6DgKs"
      }
    },
    {
      "cell_type": "markdown",
      "source": [
        "<center>\n",
        "\n",
        "#### **🔍 Exemple : Travailler avec des Dictionnaires**\n",
        "\n",
        "</center>\n",
        "\n",
        "---\n",
        "\n",
        "- (a) Créez un dictionnaire `mars_info` avec les données suivantes :  \n",
        "  - `\"name\"` → `\"Mars\"`  \n",
        "  - `\"distance\"` → `227.9` (millions de km)  \n",
        "  - `\"moons\"` → `2`\n",
        "\n",
        "- (b) Affichez chaque valeur en accédant à sa clé.\n",
        "\n",
        "- (c) Ajoutez une nouvelle clé `\"has_rings\"` avec la valeur `False`.\n",
        "\n",
        "- (d) Modifiez la valeur de `\"moons\"` pour qu’elle devienne `3`.\n",
        "\n",
        "- (e) Affichez le dictionnaire mis à jour.\n"
      ],
      "metadata": {
        "id": "jzOpnLBGEp2v"
      }
    },
    {
      "cell_type": "code",
      "source": [
        "# TODO"
      ],
      "metadata": {
        "id": "qHIvDRFjDfY9"
      },
      "execution_count": null,
      "outputs": []
    },
    {
      "cell_type": "markdown",
      "source": [
        "---\n",
        "\n",
        "<center>\n",
        "\n",
        "## **📖 Conclusion**\n",
        "\n",
        "</center>\n",
        "\n",
        "---"
      ],
      "metadata": {
        "id": "vw9_WmDtEXvh"
      }
    },
    {
      "cell_type": "markdown",
      "source": [
        "- Les listes, tuples et dictionnaires sont tous des **variables indexables** capables de stocker plusieurs valeurs de types différents.\n",
        "\n",
        "- Dans ce notebook d’introduction, nous avons appris à travailler avec eux.  \n",
        "  La syntaxe que nous avons pratiquée s’appliquera également à d’autres objets indexables que nous explorerons plus tard dans ce cours, comme les **bases de données**.\n",
        "\n",
        "- L’accès aux éléments d’un type indexable se fait à l’aide de crochets `[ ]` :  \n",
        "  - Pour les **listes** et les **tuples** : en utilisant un **index de position** (commençant à 0).  \n",
        "    On peut également accéder à plusieurs éléments à la fois grâce au **découpage (slicing)**.  \n",
        "  - Pour les **dictionnaires** : en utilisant une **clé**.\n",
        "\n",
        "---\n",
        "\n",
        "### **Récapitulatif de la syntaxe**\n",
        "\n",
        "---\n",
        "\n",
        "| Type            | Symbole utilisé pour le créer | Exemple                        |\n",
        "|-----------------|-----------------------------:|-------------------------------:|\n",
        "| Liste           | `[ ]`                        | `ma_liste = [1, 2, 3]`        |\n",
        "| Tuple           | `( )`                        | `mon_tuple = (1, 2, 3)`       |\n",
        "| Dictionnaire    | `{ }`                        | `mon_dict = {\"a\": 1, \"b\": 2}` |\n",
        "\n",
        "Tous ces types sont en réalité des **classes d’objets** en Python.  \n",
        "On peut les manipuler de manière plus avancée en utilisant leurs **méthodes**.\n",
        "\n",
        "Par exemple, voici quelques méthodes que nous avons pratiquées avec les listes :\n",
        "\n",
        "| Méthode    | Argument           | Description                                           |\n",
        "|-----------|------------------|------------------------------------------------------|\n",
        "| `pop`     | index             | Supprime et renvoie l’élément à l’index donné        |\n",
        "| `insert`  | index, valeur     | Insère un nouvel élément à l’index donné             |\n",
        "| `append`  | valeur            | Ajoute la valeur à la fin de la liste                |\n",
        "| `extend`  | liste             | Fusionne la liste avec une autre liste               |\n",
        "\n",
        "---\n",
        "\n",
        "Dans la section suivante, nous découvrirons les **opérateurs** en Python."
      ],
      "metadata": {
        "id": "M0_Tfi1oGFkS"
      }
    }
  ]
}