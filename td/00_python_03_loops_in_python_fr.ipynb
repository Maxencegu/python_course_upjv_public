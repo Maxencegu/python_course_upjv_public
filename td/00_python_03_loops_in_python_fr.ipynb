{
  "nbformat": 4,
  "nbformat_minor": 0,
  "metadata": {
    "colab": {
      "provenance": []
    },
    "kernelspec": {
      "name": "python3",
      "display_name": "Python 3"
    },
    "language_info": {
      "name": "python"
    }
  },
  "cells": [
    {
      "cell_type": "markdown",
      "source": [
        "---\n",
        "\n",
        "<center>\n",
        "\n",
        "# **Python pour la Data Science**\n",
        "\n",
        "### *Boucles en Python*\n",
        "\n",
        "</center>\n",
        "\n",
        "---"
      ],
      "metadata": {
        "id": "6RFxq2-E5sGr"
      }
    },
    {
      "cell_type": "markdown",
      "source": [
        "En programmation, il est très courant de répéter plusieurs fois les mêmes lignes de code.  \n",
        "Au lieu de copier-coller, il est plus efficace d’utiliser des **boucles**, qui exécutent un ensemble d’instructions autant de fois que nécessaire.\n",
        "\n",
        "En Python, il existe deux mots-clés principaux pour les boucles : **for** et **while**."
      ],
      "metadata": {
        "id": "-rePX7vNu-SS"
      }
    },
    {
      "cell_type": "markdown",
      "source": [
        "---\n",
        "\n",
        "<center>\n",
        "\n",
        "## **📖 La boucle `for`**\n",
        "\n",
        "</center>\n",
        "\n",
        "---\n"
      ],
      "metadata": {
        "id": "TzgKMM-87GR7"
      }
    },
    {
      "cell_type": "markdown",
      "source": [
        "Une boucle `for` répète un bloc d’instructions de manière contrôlée.\n",
        "\n",
        "Elle précise très clairement la variable qui change à chaque itération, et le nombre d’itérations est toujours fini.\n",
        "\n",
        "Par exemple, pour afficher chaque lettre du mot `\"loop\"` une par une :\n",
        "\n",
        "```python\n",
        "for letter in \"loop\":\n",
        "    print(letter)\n",
        ">>> l\n",
        ">>> o\n",
        ">>> o\n",
        ">>> p\n",
        "```\n",
        "### **Structure générale d’une boucle for** :\n",
        "\n",
        "```python\n",
        "for item in sequence:\n",
        "    instruction1\n",
        "    ...\n",
        "    instructionN\n",
        "\n",
        "other_instruction\n",
        "```\n",
        "La boucle `for` exécute le bloc d’instructions une fois pour chaque élément de la séquence.\n",
        "\n",
        "Les lignes situées en dehors du bloc indenté ne font pas partie de la boucle et s’exécutent **une seule fois** après la fin de la boucle.\n",
        "\n",
        "### **Étapes d’exécution** :\n",
        "\n",
        "- La variable `item` prend la valeur du premier élément de la `sequence`.  \n",
        "- Le bloc d’instructions est exécuté.  \n",
        "- La variable `item` prend la valeur du deuxième élément de la `sequence`.  \n",
        "- Le bloc d’instructions est exécuté à nouveau.  \n",
        "- Cela continue jusqu’au dernier élément de la séquence.  \n",
        "- Après la fin de la boucle, `other_instruction` est exécutée.\n",
        "\n",
        "La séquence peut être n’importe quel **objet itérable** : une liste, un tuple, une chaîne de caractères, etc.  \n",
        "À l’intérieur d’une boucle for, il n’est pas nécessaire de mettre à jour manuellement `item` — Python le fait automatiquement.  \n",
        "Faites attention à ne pas oublier le mot-clé `in` et le symbole `:`, car ils sont obligatoires dans la syntaxe.\n",
        "\n",
        "\n",
        "\n",
        "\n",
        "\n"
      ],
      "metadata": {
        "id": "40MxNQCc7KYz"
      }
    },
    {
      "cell_type": "markdown",
      "source": [
        "---\n",
        "\n",
        "<center>\n",
        "\n",
        "### **🔍 Exemple : travailler avec une boucle for**\n",
        "\n",
        "</center>\n",
        "\n",
        "---\n",
        "\n",
        "Un enseignant a sous-estimé les notes des élèves et souhaite les augmenter afin que la moyenne de la classe dépasse 10/20.\n",
        "\n",
        "Les notes actuelles des élèves sont stockées dans la liste :\n",
        "\n",
        "```python\n",
        "low_scores = [0, 2, 3, 3, 3, 3, 4, 5, 5, 5, 6, 6, 6, 6, 6, 7, 7, 8, 8, 8, 8, 8, 8, 9, 10, 10, 10, 11, 12, 14]\n",
        "```\n",
        "\n",
        "En utilisant des boucles for :\n",
        "\n",
        "- (a) Calculez et affichez la moyenne actuelle de la classe (il y a 30 élèves).  \n",
        "- (b) Créez une nouvelle liste `improved_scores` où chaque note est augmentée de 4 points. Vous pouvez commencer avec une liste vide et ajouter les notes mises à jour une par une avec `append`.  \n",
        "- (c) Vérifiez que la nouvelle moyenne de la classe est supérieure à 10."
      ],
      "metadata": {
        "id": "nP3CNMWl7nCS"
      }
    },
    {
      "cell_type": "code",
      "execution_count": null,
      "metadata": {
        "id": "e2PdHI-p5NOA"
      },
      "outputs": [],
      "source": [
        "# TODO"
      ]
    },
    {
      "cell_type": "markdown",
      "source": [
        "---\n",
        "\n",
        "<center>\n",
        "\n",
        "### **🔍 Exemple : min et max**\n",
        "\n",
        "</center>\n",
        "\n",
        "---\n",
        "\n",
        "Déterminez les valeurs maximale et minimale de la liste `numbers` contenant les éléments [2, 3, 8, 1, 4] en utilisant une boucle `for`."
      ],
      "metadata": {
        "id": "mTLUDq2CyYd9"
      }
    },
    {
      "cell_type": "code",
      "source": [
        "# TODO"
      ],
      "metadata": {
        "id": "yNM_ybyTyiaM"
      },
      "execution_count": null,
      "outputs": []
    },
    {
      "cell_type": "markdown",
      "source": [
        "Vous pouvez également utiliser directement les fonctions intégrées de Python `min()` et `max()` qui fonctionnent avec les listes, comme montré ci-dessous :"
      ],
      "metadata": {
        "id": "cqlaGJ2RyvFG"
      }
    },
    {
      "cell_type": "code",
      "source": [
        "numbers = [2, 3, 8, 1, 4]\n",
        "\n",
        "minimum = min(numbers)\n",
        "maximum = max(numbers)\n",
        "\n",
        "print(\"Minimum value:\", minimum)\n",
        "print(\"Maximum value:\", maximum)"
      ],
      "metadata": {
        "colab": {
          "base_uri": "https://localhost:8080/"
        },
        "id": "F20-ZWJIy4Ri",
        "outputId": "a1ab5f3d-c32a-4415-d0c9-cca6f35d469d"
      },
      "execution_count": null,
      "outputs": [
        {
          "output_type": "stream",
          "name": "stdout",
          "text": [
            "Minimum value: 1\n",
            "Maximum value: 8\n"
          ]
        }
      ]
    },
    {
      "cell_type": "markdown",
      "source": [
        "Souvent, lorsque l’on parcourt tous les éléments d’une structure de données, on peut vouloir sortir prématurément de la boucle. C’est là qu’intervient le mot-clé **`break`**.\n",
        "\n",
        "Il permet d’arrêter immédiatement l’exécution d’une boucle et de continuer avec l’instruction suivante située en dehors de la boucle.\n",
        "\n",
        "Vous pouvez l’utiliser dans les boucles `for` et `while` lorsqu’une condition spécifique est remplie, comme montré dans l’exemple ci-dessous :\n",
        "\n",
        "```python\n",
        "for number in [25, 7, -3, 18]:\n",
        "    print(number)\n",
        "    if number < 0:\n",
        "        print(\"There is at least one negative number in the list.\")\n",
        "        break  # Exit the loop as soon as a negative number is found\n",
        "```\n",
        "\n",
        "Dans cet exemple, la boucle `for` parcourt la liste à la recherche de nombres négatifs. Dès qu’elle en trouve un, elle s’arrête immédiatement.  \n",
        "Ici, la variable `number` prend seulement les valeurs 25 et -3, car lorsque `number` devient -3, l’instruction `break` termine la boucle."
      ],
      "metadata": {
        "id": "pvlD5QNTzU1O"
      }
    },
    {
      "cell_type": "markdown",
      "source": [
        "---\n",
        "\n",
        "<center>\n",
        "\n",
        "### **🔍 Exemple : mot-clé break**\n",
        "\n",
        "</center>\n",
        "\n",
        "---\n",
        "\n",
        "Créez la liste `nombres` avec les éléments : [2, 3, 4, 5, 6, 4].  \n",
        "Utilisez une boucle `for` et le mot-clé `break` pour afficher le message **\"The number 4 is present\"** dès que le nombre 4 est détecté dans la liste.  \n",
        "Ce message doit être affiché une seule fois."
      ],
      "metadata": {
        "id": "lPmb81re0GBv"
      }
    },
    {
      "cell_type": "code",
      "source": [
        "# TODO"
      ],
      "metadata": {
        "id": "uitNqN_n0ORI"
      },
      "execution_count": null,
      "outputs": []
    },
    {
      "cell_type": "markdown",
      "source": [
        "---\n",
        "\n",
        "<center>\n",
        "\n",
        "## **📖 La boucle while**\n",
        "\n",
        "</center>\n",
        "\n",
        "---"
      ],
      "metadata": {
        "id": "A4qNr6uq83AE"
      }
    },
    {
      "cell_type": "markdown",
      "source": [
        "Le mot-clé **while** signifie \"tant que\" en français. La boucle **while** permet de répéter un bloc d’instructions tant qu’une condition est vraie (ou jusqu’à ce qu’elle devienne fausse).\n",
        "\n",
        "Par exemple, pour trouver l’indice du mot \"`found`\" dans une liste de mots, vous pouvez parcourir tous les indices jusqu’à ce que le mot \"`found`\" soit localisé :\n",
        "\n",
        "```python\n",
        "# The list of words in which we want to find the word \"found\".\n",
        "sentence = ['The', 'while', 'loop', 'goes', 'through', 'all', 'the', 'elements',\n",
        "            'of', 'the', 'list', 'until', 'it', 'has', 'found',\n",
        "            'what', 'it', 'is', 'looking', 'for', '.']\n",
        "\n",
        "# The variable i will store the current index\n",
        "i = 0\n",
        "\n",
        "# While the word at index i is not \"found\"\n",
        "while sentence[i] != 'found':\n",
        "    # Increment i by 1 to check the next index\n",
        "    i += 1\n",
        "\n",
        "# The loop stops once we have found the word\n",
        "print(\"The word 'found' is at index\", i)\n",
        ">>> The word 'found' is at index 14\n",
        "```\n",
        "\n",
        "### **Structure générale d’une boucle while :**\n",
        "\n",
        "```python\n",
        "while condition:\n",
        "    instruction1\n",
        "    ...\n",
        "    instructionN\n",
        "\n",
        "other_instruction\n",
        "```\n",
        "\n",
        "- À chaque itération, la condition est évaluée.  \n",
        "- Si la condition est vraie, le bloc d’instructions est exécuté.  \n",
        "- Sinon, la boucle se termine.  \n",
        "- Les instructions situées en dehors du bloc s’exécutent une seule fois après la fin de la boucle.  \n",
        "- Si la condition est fausse dès le départ, le bloc ne s’exécute jamais.  \n",
        "- Si la condition reste toujours vraie, la boucle s’exécute indéfiniment.\n",
        "\n",
        "Assurez-vous que la boucle se terminera éventuellement avant de l’exécuter !"
      ],
      "metadata": {
        "id": "w1H2tJHe9ZPx"
      }
    },
    {
      "cell_type": "markdown",
      "source": [
        "---\n",
        "\n",
        "<center>\n",
        "\n",
        "### **🔍 Exemple : Afficher les 10 premiers nombres naturels avec une boucle while**\n",
        "\n",
        "</center>\n",
        "\n",
        "---\n",
        "\n",
        "- (a) Initialisez une variable `i` avec la valeur 1.  \n",
        "- (b) À l’aide d’une boucle `while`, affichez les 10 premiers nombres naturels.\n"
      ],
      "metadata": {
        "id": "NqDgQLlI91HF"
      }
    },
    {
      "cell_type": "code",
      "source": [
        "# TODO"
      ],
      "metadata": {
        "id": "CdC4d4jO8jJK"
      },
      "execution_count": null,
      "outputs": []
    },
    {
      "cell_type": "markdown",
      "source": [
        "---\n",
        "\n",
        "<center>\n",
        "\n",
        "### **🔍 Exemple : Compter les athlètes ayant couru en moins de 10 secondes**\n",
        "\n",
        "</center>\n",
        "\n",
        "---\n",
        "\n",
        "Nous avons une liste contenant les temps réalisés par des athlètes sur 100 m.  \n",
        "Les résultats sont triés par ordre croissant.\n",
        "\n",
        "À l’aide d’une boucle **while**, déterminez combien d’athlètes ont couru la course en moins de 10 secondes.\n",
        "\n",
        "Utilisez la fonction Python `len()` qui renvoie la longueur d’une liste, d’un dictionnaire ou d’un ensemble.  \n",
        "Par exemple, pour une liste `my_liste` contenant 3 éléments, `len(my_liste)` renvoie 3.\n",
        "\n",
        "```python\n",
        "times = [9.58, 9.63, 9.69, 10.01, 9.72, 9.74, 10.05, 9.79, 9.80]\n",
        "```\n"
      ],
      "metadata": {
        "id": "81M7XaAV2zck"
      }
    },
    {
      "cell_type": "code",
      "source": [
        "# TODO"
      ],
      "metadata": {
        "id": "nlhJMMpo3Is4"
      },
      "execution_count": null,
      "outputs": []
    },
    {
      "cell_type": "markdown",
      "source": [
        "### **Boucle for ou boucle while : laquelle utiliser ?**\n",
        "\n",
        "Les boucles `for` et `while` permettent toutes deux de répéter un bloc de code plusieurs fois.  \n",
        "En général, l’une ou l’autre peut être utilisée pour résoudre une tâche, mais elles sont mieux adaptées à différents scénarios selon la nature de l’itération :\n",
        "\n",
        "- Utilisez une boucle `for` lorsque vous parcourez une séquence ou lorsque le nombre d’itérations est connu.  \n",
        "- Utilisez une boucle `while` lorsque le nombre d’itérations est inconnu et dépend de la satisfaction d’une condition."
      ],
      "metadata": {
        "id": "WFqrU4-j4YRs"
      }
    },
    {
      "cell_type": "markdown",
      "source": [
        "---\n",
        "\n",
        "<center>\n",
        "\n",
        "### **🔍 Exemple : Nombres divisibles et plus petits multiples**\n",
        "\n",
        "</center>\n",
        "\n",
        "---\n",
        "\n",
        "Étant donné la liste :\n",
        "\n",
        "```python\n",
        "numbers = [24, 44, 46, 47, 66, 68, 74, 90, 94, 98]\n",
        "```\n",
        "\n",
        "- (a) Combien de nombres dans la liste sont divisibles par 7 ?  \n",
        "- (b) Trouvez les deux plus petits nombres positifs divisibles à la fois par 2 et par 3.\n",
        "\n",
        "`Rappel : un nombre x est divisible par y si x % y == 0.`"
      ],
      "metadata": {
        "id": "WOUK08MX4k21"
      }
    },
    {
      "cell_type": "code",
      "source": [
        "# TODO"
      ],
      "metadata": {
        "id": "5MJeBj_S5LFA"
      },
      "execution_count": null,
      "outputs": []
    },
    {
      "cell_type": "markdown",
      "source": [
        "---\n",
        "\n",
        "<center>\n",
        "\n",
        "## **📖 La fonction `range`**\n",
        "\n",
        "</center>\n",
        "\n",
        "---"
      ],
      "metadata": {
        "id": "29x4k3fsA3pM"
      }
    },
    {
      "cell_type": "markdown",
      "source": [
        "La fonction `range` est couramment utilisée avec les boucles `for`.  \n",
        "- Elle accepte jusqu’à trois paramètres : une **valeur de départ**, une **valeur de fin** et un **pas**.  \n",
        "- Elle génère une séquence de nombres commençant à la valeur de départ (incluse) et se terminant avant **la valeur de fin (exclue)**, en incrémentant selon le pas.\n",
        "\n",
        "Par défaut, la valeur de départ est 0 et le pas est 1.\n",
        "\n",
        "Exemples :  \n",
        "- `range(5)` produit les nombres de 0 à 4.  \n",
        "- `range(1, 10)` produit les nombres de 1 à 9.  \n",
        "- `range(1, 10, 3)` produit les nombres 1, 4 et 7.  \n",
        "- `range(10, -1, -1)` produit les nombres de 10 à 0, en décrémentant de 1 à chaque étape.\n"
      ],
      "metadata": {
        "id": "1WxcNdmRBKSD"
      }
    },
    {
      "cell_type": "markdown",
      "source": [
        "<center>\n",
        "\n",
        "### **🔍 Exemple : Calcul de somme avec range**\n",
        "\n",
        "</center>\n",
        "\n",
        "---\n",
        "\n",
        "Calculez la somme de :\n",
        "\n",
        "- tous les entiers entre 1 et 100 (inclus).  \n",
        "- tous les entiers pairs entre 1 et 100 (inclus)."
      ],
      "metadata": {
        "id": "vUCQPYVFtosm"
      }
    },
    {
      "cell_type": "code",
      "source": [
        "# TODO"
      ],
      "metadata": {
        "id": "U4NCeqOwAair"
      },
      "execution_count": null,
      "outputs": []
    },
    {
      "cell_type": "markdown",
      "source": [
        "<center>\n",
        "\n",
        "### **🔍 Exemple : Calcul de la croissance d’une surface**\n",
        "\n",
        "</center>\n",
        "\n",
        "---\n",
        "\n",
        "Un terrain a une surface initiale de 2000 mètres carrés. Chaque année, sa surface double.  \n",
        "Calculez la surface du terrain après 10 ans en utilisant une boucle `for`."
      ],
      "metadata": {
        "id": "YIy1m91ruTWG"
      }
    },
    {
      "cell_type": "code",
      "source": [
        "# TODO"
      ],
      "metadata": {
        "id": "OVDRZ_qVud47"
      },
      "execution_count": null,
      "outputs": []
    },
    {
      "cell_type": "markdown",
      "source": [
        "Calculez la surface du terrain après 10 ans en utilisant une boucle `while`."
      ],
      "metadata": {
        "id": "Bnwj1vuKu6gG"
      }
    },
    {
      "cell_type": "code",
      "source": [
        "# TODO"
      ],
      "metadata": {
        "id": "t_v4WHpMu-B4"
      },
      "execution_count": null,
      "outputs": []
    },
    {
      "cell_type": "markdown",
      "source": [
        "<center>\n",
        "\n",
        "### **🔍 Exemple : Suite de Fibonacci**\n",
        "\n",
        "</center>\n",
        "\n",
        "---\n",
        "\n",
        "La suite de Fibonacci est une série d’entiers où chaque terme est la somme des deux termes précédents.\n",
        "\n",
        "Les deux premiers termes sont fixés :\n",
        "\n",
        "`u_0 = 0`\n",
        "\n",
        "`u_1 = 1`\n",
        "\n",
        "Pour `i ≥ 2`, les termes `u_i` sont calculés à l’aide de la formule :\n",
        "\n",
        "`u_i = u_{i-1} + u_{i-2}`"
      ],
      "metadata": {
        "id": "sJIsf9u5vXsz"
      }
    },
    {
      "cell_type": "code",
      "source": [
        "# TODO"
      ],
      "metadata": {
        "id": "lfVVCFqbwv3v"
      },
      "execution_count": null,
      "outputs": []
    },
    {
      "cell_type": "markdown",
      "source": [
        "---\n",
        "\n",
        "<center>\n",
        "\n",
        "## **📖 Compréhension de listes**\n",
        "\n",
        "</center>\n",
        "\n",
        "---"
      ],
      "metadata": {
        "id": "CcQYHauq3ulT"
      }
    },
    {
      "cell_type": "markdown",
      "source": [
        "La compréhension de listes est une fonctionnalité puissante et concise en Python qui permet de simplifier le code et d’augmenter la productivité.\n",
        "\n",
        "Au lieu de construire une liste étape par étape avec une boucle `for`, la compréhension de listes permet de créer une liste en une seule ligne élégante.\n",
        "\n",
        "Par exemple, si vous voulez stocker les carrés des 10 premiers entiers, vous pourriez le faire ainsi :\n",
        "\n",
        "\n",
        "```python\n",
        "my_list = []\n",
        "# For i from 0 to 9\n",
        "for i in range(10):\n",
        "    my_list.append(i**2)\n",
        "```\n",
        "\n",
        "Mais Python permet de le raccourcir ainsi :\n",
        "\n",
        "```python\n",
        "my_list = [i**2 for i in range(10)]\n",
        "```\n",
        "Les deux approches donnent exactement le même résultat.\n",
        "\n",
        "De même, dans l’un des exercices précédents où nous avons augmenté toutes les notes de 4 points, nous aurions pu écrire :\n",
        "\n",
        "```python\n",
        "good_marks = [mark + 4 for mark in bad_marks]\n",
        "```\n",
        "\n",
        "Cela montre comment la compréhension de listes peut rendre votre code plus lisible et plus compact."
      ],
      "metadata": {
        "id": "ChRaho984S-u"
      }
    },
    {
      "cell_type": "markdown",
      "source": [
        "<center>\n",
        "\n",
        "### **🔍 Exemple : Exercices de compréhension de listes**\n",
        "\n",
        "</center>\n",
        "\n",
        "---\n",
        "\n",
        "- (a) Créez une liste nommée `powers_of_three` contenant les 10 premières puissances de 3.  \n",
        "- (b) À partir d’une liste `number_list`, créez une nouvelle liste `double_list` contenant chaque élément de `number_list` multiplié par 2.  \n",
        "- (c) En utilisant la même `number_list`, créez une liste `parity_list` où chaque élément est \"`even`\" si le nombre correspondant est pair, et \"`odd`\" sinon. Vous pouvez tester la parité en utilisant l’opérateur modulo `%`.\n",
        "\n",
        "Rappel de la syntaxe pour l’affectation conditionnelle :\n",
        "\n",
        "\n",
        "```python\n",
        "# A student repeats the year if their average is less than 10\n",
        "repeat = True if average < 10 else False\n",
        "```\n"
      ],
      "metadata": {
        "id": "VYdGgg_iA0Zk"
      }
    },
    {
      "cell_type": "code",
      "source": [
        "# TODO"
      ],
      "metadata": {
        "id": "8CJAiPseCWht"
      },
      "execution_count": null,
      "outputs": []
    },
    {
      "cell_type": "markdown",
      "source": [
        "---\n",
        "\n",
        "<center>\n",
        "\n",
        "## **📖 La fonction enumerate**\n",
        "\n",
        "</center>\n",
        "\n",
        "---"
      ],
      "metadata": {
        "id": "qCre9V1iCNI1"
      }
    },
    {
      "cell_type": "markdown",
      "source": [
        "Parfois, il est utile d’avoir accès à l’indice d’un élément dans une séquence.\n",
        "\n",
        "Pour cela, vous pouvez utiliser la fonction `enumerate` à l’intérieur d’une boucle `for` :\n",
        "\n",
        "```python\n",
        "for index, element in enumerate(sequence):\n",
        "    ...\n",
        "    ...\n",
        "```\n",
        "\n",
        "Par exemple, si nous voulons afficher les positions du mot \"the\" dans une liste de mots :\n",
        "\n",
        "```python\n",
        "text = [\"the\", \"word\", \"the\", \"is\", \"the\", \"word\", \"we\", \"are\", \"looking\", \"for\", \"the\", \"position\"]\n",
        "\n",
        "# For each word in the text\n",
        "for position, word in enumerate(text):\n",
        "    # If the word is \"the\"\n",
        "    if word == \"the\":\n",
        "        # Print its position\n",
        "        print(position)\n",
        ">>> 0\n",
        ">>> 2\n",
        ">>> 4\n",
        ">>> 10\n",
        "```"
      ],
      "metadata": {
        "id": "yHtBwhVuCRrs"
      }
    },
    {
      "cell_type": "markdown",
      "source": [
        "<center>\n",
        "\n",
        "### **🔍 Exemple : Trouver l’indice de l’élément maximum avec `enumerate`**\n",
        "\n",
        "</center>\n",
        "\n",
        "---\n",
        "\n",
        "- (a) Utilisez la fonction `enumerate` pour trouver l’indice de l’élément maximum dans la liste `L`. Pour cela, gardez en mémoire le plus grand élément rencontré lors du parcours de la liste.  \n",
        "- (b) Affichez l’indice de l’élément maximum."
      ],
      "metadata": {
        "id": "jAJT_4NMDTks"
      }
    },
    {
      "cell_type": "code",
      "source": [
        "# TODO"
      ],
      "metadata": {
        "id": "gEmELvJ6DnSt"
      },
      "execution_count": null,
      "outputs": []
    },
    {
      "cell_type": "markdown",
      "source": [
        "---\n",
        "\n",
        "<center>\n",
        "\n",
        "## **📖 La fonction zip**\n",
        "\n",
        "</center>\n",
        "\n",
        "---\n",
        "\n",
        "La fonction `zip` permet de parcourir plusieurs séquences de même longueur en parallèle dans une seule boucle `for`.\n",
        "\n",
        "La syntaxe est la suivante :\n",
        "\n",
        "```python\n",
        "# At each iteration, take one element from the first sequence and one from the second\n",
        "for element1, element2 in zip(sequence1, sequence2):\n",
        "    ...\n",
        "    ...\n",
        "\n",
        "```\n",
        "Cette syntaxe peut être étendue pour fonctionner avec n’importe quel nombre de séquences."
      ],
      "metadata": {
        "id": "uEFHqFmmED2i"
      }
    },
    {
      "cell_type": "markdown",
      "source": [
        "<center>\n",
        "\n",
        "### **🔍 Exemple : Calcul des économies avec `zip`**\n",
        "\n",
        "</center>\n",
        "\n",
        "---\n",
        "\n",
        "Nous avons deux listes représentant les revenus et les dépenses mensuels des individus. Chaque individu correspond au même indice dans les deux listes.\n",
        "\n",
        "- En soustrayant les dépenses de chaque individu à son revenu, créez une liste contenant les économies réalisées au cours du mois."
      ],
      "metadata": {
        "id": "GpKByD1wE2aN"
      }
    },
    {
      "cell_type": "code",
      "source": [
        "# TODO"
      ],
      "metadata": {
        "id": "zkIUf0HAGnUm"
      },
      "execution_count": null,
      "outputs": []
    },
    {
      "cell_type": "markdown",
      "source": [
        "---\n",
        "\n",
        "<center>\n",
        "\n",
        "## **📖 Conclusion et récapitulatif**\n",
        "\n",
        "</center>\n",
        "\n",
        "---"
      ],
      "metadata": {
        "id": "POlpSGB86vsn"
      }
    },
    {
      "cell_type": "markdown",
      "source": [
        "Les boucles sont des outils essentiels en programmation. Elles permettent de répéter des instructions de manière contrôlée.\n",
        "\n",
        "Dans ce notebook, vous avez appris à :  \n",
        "- Définir une `boucle while` qui s’exécute tant que sa condition reste vraie.  \n",
        "- Définir une `boucle for` pour parcourir des séquences.  \n",
        "- Créer des listes à l’aide des `list comprehensions`, l’une des fonctionnalités les plus élégantes de Python.  \n",
        "- Utiliser la fonction `range` pour parcourir des séquences d’entiers.  \n",
        "- Utiliser le mot-clé `break` pour sortir d’une `boucle` lorsqu’une condition spécifique est remplie.  \n",
        "- Utiliser le slicing [::-1] pour inverser l’ordre d’une séquence.  \n",
        "- Utiliser la fonction `enumerate` pour parcourir à la fois les indices et les valeurs d’une séquence.  \n",
        "- Utiliser la fonction `zip` pour parcourir plusieurs listes simultanément avec une seule boucle."
      ],
      "metadata": {
        "id": "zszrvumI6z8R"
      }
    }
  ]
}