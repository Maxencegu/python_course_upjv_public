{
  "nbformat": 4,
  "nbformat_minor": 0,
  "metadata": {
    "colab": {
      "provenance": []
    },
    "kernelspec": {
      "name": "python3",
      "display_name": "Python 3"
    },
    "language_info": {
      "name": "python"
    }
  },
  "cells": [
    {
      "cell_type": "markdown",
      "source": [
        "---\n",
        "\n",
        "<center>\n",
        "\n",
        "# **Python pour la Data Science**\n",
        "\n",
        "### *Opérateurs et structures de contrôle*\n",
        "\n",
        "</center>\n",
        "\n",
        "---"
      ],
      "metadata": {
        "id": "6RFxq2-E5sGr"
      }
    },
    {
      "cell_type": "markdown",
      "source": [
        "<center>\n",
        "\n",
        "## **📖 Introduction**\n",
        "\n",
        "</center>\n"
      ],
      "metadata": {
        "id": "i-lcnJ3v59AF"
      }
    },
    {
      "cell_type": "markdown",
      "source": [
        "---\n",
        "\n",
        "### **Opérateurs Python et Contrôle de Flux**\n",
        "\n",
        "---\n",
        "\n",
        "En Python, des opérateurs comme `+` ou `=` nous permettent d’effectuer des opérations sur les variables et leurs valeurs.  \n",
        "Ces opérateurs appartiennent à plusieurs familles principales d’opérateurs Python.  \n",
        "Dans ce notebook, nous allons apprendre à utiliser les catégories suivantes :\n",
        "\n",
        "- **Opérateurs arithmétiques** : Utilisés pour effectuer des opérations mathématiques de base comme l’addition, la soustraction, la multiplication, etc.  \n",
        "- **Opérateurs d’affectation** : Utilisés pour attribuer des valeurs à des variables (ex. : `=`, `+=`).  \n",
        "- **Opérateurs de comparaison** : Utilisés pour comparer deux valeurs et renvoyer un booléen (`==`, `!=`, `<`, `>`, etc.).  \n",
        "- **Opérateurs d’appartenance** : Utilisés pour vérifier si une valeur existe dans une séquence (`in`, `not in`).  \n",
        "- **Opérateurs logiques** : Utilisés pour combiner plusieurs conditions (`and`, `or`, `not`).  \n",
        "\n",
        "Enfin, nous verrons comment utiliser ces opérateurs pour contrôler le flux de notre code  \n",
        "avec des instructions conditionnelles telles que `if`, `else` et `elif`.\n",
        "\n",
        "**Exemples de noms de variables** que nous pourrions utiliser :  \n",
        "- `num_a`, `num_b` pour des nombres  \n",
        "- `is_valid` pour des vérifications booléennes  \n",
        "- `result` pour stocker le résultat des opérations\n",
        "\n",
        "À la fin de cette section, vous serez capable de combiner ces outils pour écrire des programmes plus dynamiques et interactifs."
      ],
      "metadata": {
        "id": "4tsSSTc86kbv"
      }
    },
    {
      "cell_type": "markdown",
      "source": [
        "---\n",
        "\n",
        "<center>\n",
        "\n",
        "## **📖 Opérateurs Arithmétiques**\n",
        "\n",
        "</center>\n",
        "\n",
        "---\n"
      ],
      "metadata": {
        "id": "TzgKMM-87GR7"
      }
    },
    {
      "cell_type": "markdown",
      "source": [
        "Les opérateurs arithmétiques en Python permettent d’effectuer des opérations mathématiques sur des variables numériques.  \n",
        "Voici un tableau récapitulatif des plus courants :\n",
        "\n",
        "| Symbole | Opération        | Exemple               | Résultat   |\n",
        "|:-------:|:----------------|:--------------------:|:---------:|\n",
        "| +       | Addition        | `6 + 4`               | `10`      |\n",
        "| -       | Soustraction    | `6 - 4`               | `2`       |\n",
        "| *       | Multiplication  | `6 * 4`               | `24`      |\n",
        "| /       | Division        | `6 / 4`               | `1.5`     |\n",
        "| //      | Division entière| `6.0 // 4`            | `1`       |\n",
        "| **      | Puissance       | `6 ** 4`              | `1296`    |\n",
        "| %       | Modulo          | `6 % 4`               | `2`       |\n",
        "\n",
        "**Division entière `//`** compte combien de fois le nombre de droite entre complètement dans le nombre de gauche.  \n",
        "Exemple : `7 // 2` vaut `3` car `2` entre trois fois dans `7`.\n",
        "\n",
        "**Modulo `%`** donne le reste de la division.  \n",
        "Exemple : `7 % 2` vaut `1` car `7` divisé par `2` donne `3` avec un reste de `1`.\n",
        "\n",
        "L’opérateur `%` est également utile pour vérifier si un nombre est pair ou impair :  \n",
        "- Si `n % 2` est `0`, le nombre `n` est pair.  \n",
        "- Si `n % 2` est `1`, le nombre `n` est impair."
      ],
      "metadata": {
        "id": "40MxNQCc7KYz"
      }
    },
    {
      "cell_type": "markdown",
      "source": [
        "---\n",
        "\n",
        "<center>\n",
        "\n",
        "### **🔍 Exemple : travailler avec les opérateurs**\n",
        "\n",
        "</center>\n",
        "\n",
        "---\n",
        "\n",
        "- (a) Créez une variable `distance` et assignez-lui la valeur `750` (la distance de Paris à Marseille en km).\n",
        "\n",
        "- (b) Créez une variable `speed` et assignez-lui la valeur `4.8` (vitesse moyenne de marche en km/h).\n",
        "\n",
        "- (c) Créez une nouvelle variable `time` égale à `distance` divisée par `speed`.\n",
        "\n",
        "  - La variable `time` représente le nombre d’heures qu’il faudrait à une personne marchant sans arrêt.\n",
        "\n",
        "- (d) Calculez combien de **jours** et d’**heures** cela prendrait.  \n",
        "Affichez la réponse au format :  \n",
        "> `\"It would take the walker 6.0 days and 12.25 hours.\"`\n",
        "\n",
        "**Astuce :** Utilisez la division entière `//` pour obtenir le nombre de jours et le modulo `%` ou la soustraction pour obtenir les heures restantes."
      ],
      "metadata": {
        "id": "nP3CNMWl7nCS"
      }
    },
    {
      "cell_type": "code",
      "execution_count": null,
      "metadata": {
        "id": "e2PdHI-p5NOA"
      },
      "outputs": [],
      "source": [
        "# TODO"
      ]
    },
    {
      "cell_type": "markdown",
      "source": [
        "---\n",
        "\n",
        "<center>\n",
        "\n",
        "## **📖 Opérateurs d’Affectation**\n",
        "\n",
        "</center>\n",
        "\n",
        "---"
      ],
      "metadata": {
        "id": "A4qNr6uq83AE"
      }
    },
    {
      "cell_type": "markdown",
      "source": [
        "Pour toutes les opérations arithmétiques (comme l’addition ou la multiplication), Python offre un moyen rapide d’appliquer l’opération *et* d’assigner le résultat en une seule étape.  \n",
        "Ce sont les **opérateurs d’affectation** :\n",
        "\n",
        "| Symbole | Opération       |\n",
        "|---------|-----------------|\n",
        "| +=      | Addition        |\n",
        "| -=      | Soustraction    |\n",
        "| *=      | Multiplication  |\n",
        "| /=      | Division        |\n",
        "| //=     | Division entière|\n",
        "| **=     | Puissance       |\n",
        "| %=      | Modulo          |\n",
        "\n",
        "Par exemple, écrire `x += 3` est équivalent à `x = x + 3`.  \n",
        "De même, `z **= 2` est équivalent à `z = z ** 2`."
      ],
      "metadata": {
        "id": "w1H2tJHe9ZPx"
      }
    },
    {
      "cell_type": "markdown",
      "source": [
        "---\n",
        "\n",
        "<center>\n",
        "\n",
        "### **🔍 Exemple : l’assertion du magicien**\n",
        "\n",
        "</center>\n",
        "\n",
        "---\n",
        "\n",
        "Un magicien dit :\n",
        "\n",
        "> - Choisissez un nombre premier (autre que 2 et 3).  \n",
        "> - Élevez-le au carré.  \n",
        "> - Ajoutez 17.  \n",
        "> - Divisez par 12 et gardez le reste.  \n",
        ">\n",
        "> Le magicien affirme que le reste sera *toujours* 6.\n",
        "\n",
        "**Le magicien a-t-il raison ?**\n",
        "\n",
        "**Indice :**  \n",
        "Les 10 plus petits nombres premiers autres que 2 et 3 sont :  \n",
        "5, 7, 11, 13, 17, 19, 23, 29, 31, 37.\n",
        "\n",
        "Votre tâche :  \n",
        "- (a) Écrivez un code pour vérifier si l’assertion du magicien est vraie pour tous ces nombres.  \n",
        "- (b) Affichez chaque nombre, sa valeur au carré + 17, et le reste de la division par 12.\n",
        "\n",
        "*Astuce :* Vous pouvez utiliser une boucle `for` et l’opérateur modulo `%`.\n"
      ],
      "metadata": {
        "id": "NqDgQLlI91HF"
      }
    },
    {
      "cell_type": "code",
      "source": [
        "# TODO"
      ],
      "metadata": {
        "id": "CdC4d4jO8jJK"
      },
      "execution_count": null,
      "outputs": []
    },
    {
      "cell_type": "markdown",
      "source": [
        "---\n",
        "\n",
        "<center>\n",
        "\n",
        "## **📖 Opérateurs de Comparaison**\n",
        "\n",
        "</center>\n",
        "\n",
        "---"
      ],
      "metadata": {
        "id": "29x4k3fsA3pM"
      }
    },
    {
      "cell_type": "markdown",
      "source": [
        "Les opérateurs de comparaison nous permettent de comparer les valeurs de deux variables.  \n",
        "Ces comparaisons renvoient une valeur booléenne : `True` si l’expression est vraie, ou `False` si elle est fausse.  \n",
        "Par exemple :\n",
        "\n",
        "```python\n",
        "x, y = 3, 5\n",
        "\n",
        "# Is x less than y?\n",
        "print(x < y)\n",
        ">>> True\n",
        "```\n",
        "Les opérateurs de comparaison en Python sont :\n",
        "\n",
        "| Expression | Exemple  | Signification                         |\n",
        "|------------|---------|---------------------------------------|\n",
        "| `<`        | x < y   | x est-il strictement inférieur à y ?  |\n",
        "| `<=`       | x <= y  | x est-il inférieur ou égal à y ?      |\n",
        "| `>`        | x > y   | x est-il strictement supérieur à y ?  |\n",
        "| `>=`       | x >= y  | x est-il supérieur ou égal à y ?      |\n",
        "| `==`       | x == y  | x est-il égal à y ?                    |\n",
        "| `!=`       | x != y  | x est-il différent de y ?              |\n",
        "\n",
        "```python\n",
        "x, y = 3, 5\n",
        "\n",
        "# Is x equal to y?\n",
        "print(x == y)\n",
        ">>> False\n",
        "```\n",
        "**Remarque :** Ne confondez pas `x == y` (comparaison) avec `x = y` (affectation).\n",
        "\n",
        "---\n",
        "\n",
        "### 🔍 Exemple :\n",
        "\n",
        "- (a) En une seule ligne de code, déterminez avec une valeur booléenne si 7 divise `37 + 214`.  \n",
        "  - Comme sur une calculatrice, vous pouvez utiliser des parenthèses pour préciser l’ordre des opérations.\n",
        "- (b) Déterminez maintenant si 7 divise l’expression `32*n + 1 + 24*n + 2` pour `n = 4`, `5` et `10`."
      ],
      "metadata": {
        "id": "1WxcNdmRBKSD"
      }
    },
    {
      "cell_type": "code",
      "source": [
        "# TODO"
      ],
      "metadata": {
        "id": "U4NCeqOwAair"
      },
      "execution_count": null,
      "outputs": []
    },
    {
      "cell_type": "markdown",
      "source": [
        "---\n",
        "\n",
        "<center>\n",
        "\n",
        "## **📖 Opérateurs d’Appartenance**\n",
        "\n",
        "</center>\n",
        "\n",
        "---"
      ],
      "metadata": {
        "id": "CcQYHauq3ulT"
      }
    },
    {
      "cell_type": "markdown",
      "source": [
        "Les opérateurs d’appartenance permettent de vérifier si une valeur existe (ou n’existe pas) dans une séquence, comme une liste ou un tuple.  \n",
        "L’opérateur `in` renvoie `True` si la valeur est présente, et `not in` renvoie `False` si la valeur n’est pas présente.\n",
        "\n",
        "````python\n",
        "numbers_list = [1, 3, 102, 32, 11, -12, 33]\n",
        "num = 14\n",
        "\n",
        "# Is the value of num inside numbers_list?\n",
        "print(num in numbers_list)\n",
        ">>> False\n",
        "\n",
        "# Is the value of num NOT inside numbers_list?\n",
        "print(num not in numbers_list)\n",
        ">>> True\n",
        "````\n",
        "\n",
        "---\n",
        "### 🔍 Exemple :\n",
        "\n",
        "La variable `excerpt` ci-dessous contient une liste de mots extraits de l’article Wikipédia en anglais sur la Coupe du Monde de la FIFA.\n",
        "\n",
        "- (a) Exécutez la cellule suivante pour créer la variable `excerpt`.  \n",
        "- (b) En une seule ligne de code, vérifiez si \"`France`\" apparaît dans `excerpt`.  \n",
        "- (c) Vérifiez que \"`Croatia`\" n’est pas mentionnée dans `excerpt`.\n",
        "\n",
        "````python\n",
        "excerpt = [...]\n",
        "````\n"
      ],
      "metadata": {
        "id": "ChRaho984S-u"
      }
    },
    {
      "cell_type": "code",
      "source": [
        "excerpt = ['Le', 'Brésil,', 'seule', 'équipe', 'à', 'avoir', 'disputé', 'toutes',\n",
        "           'les', 'phases', 'finales', 'de', 'la', 'compétition,', 'détient', 'le', 'record',\n",
        "           'avec', 'cinq', 'titres', 'mondiaux', 'et', \"s'est\", 'acquis', 'le', 'droit', 'de',\n",
        "           'conserver', 'la', 'Coupe', 'Jules-Rimet', 'en', '1970', 'après', 'sa', '3e',\n",
        "           'victoire', 'finale', 'dans', 'la', 'compétition,', 'avec', 'Pelé', 'seul',\n",
        "           'joueur', 'triple', 'champion', 'du', 'monde.', \"l'\", \"Italie\", 'et',\n",
        "           \"l'\", \"Allemagne\", 'comptent', 'quatre', 'trophées.', \"l'\", \"Uruguay,\", 'vainqueur',\n",
        "           'à', 'domicile', 'de', 'la', 'première', 'édition,', \"l'\", \"Argentine\", 'et',\n",
        "           'la', 'France', 'ont', 'gagné', 'chacune', 'deux', 'fois', 'la', 'Coupe,',\n",
        "           \"l'\", \"Angleterre\", 'et', \"l'\", \"Espagne\", 'une', 'fois.', 'La', 'dernière', 'édition',\n",
        "           \"s'est\", 'déroulée', 'en', 'Russie', 'en', '2018,', 'la', 'prochaine', 'doit',\n",
        "           'avoir', 'lieu', 'au', 'Qatar', 'en', '2022.', 'Celle', 'de', '2026,', 'aux',\n",
        "           'États-Unis,', 'au', 'Canada', 'et', 'au', 'Mexique)', 'sera', 'la', 'première',\n",
        "           'édition', 'à', '48', 'équipes', 'participantes.', 'La', 'Coupe', 'du', 'monde',\n",
        "           'de', 'football', 'est', \"l'\", \"événement\", 'sportif', 'le', 'plus', 'regardé', 'à',\n",
        "           'la', 'télévision', 'dans', 'le', 'monde', 'avec', 'les', 'Jeux', 'olympiques',\n",
        "           'et', 'la', 'Coupe', 'du', 'monde', 'de', 'cricket.']\n",
        "\n",
        "# TODO"
      ],
      "metadata": {
        "id": "8CJAiPseCWht"
      },
      "execution_count": null,
      "outputs": []
    },
    {
      "cell_type": "markdown",
      "source": [
        "---\n",
        "\n",
        "<center>\n",
        "\n",
        "## **📖 Opérateurs Logiques**\n",
        "\n",
        "</center>\n",
        "\n",
        "---"
      ],
      "metadata": {
        "id": "POlpSGB86vsn"
      }
    },
    {
      "cell_type": "markdown",
      "source": [
        "Les opérateurs logiques nous permettent de faire ce qu’on appelle l’arithmétique booléenne.  \n",
        "Lorsque nous avons plusieurs expressions booléennes, les opérateurs logiques permettent de vérifier si :\n",
        "\n",
        "- **Toutes les expressions sont vraies**.  \n",
        "- **Au moins une expression est vraie**.\n",
        "\n",
        "````python\n",
        "a, b = 3, 5\n",
        "\n",
        "# Is a less than b?\n",
        "expr1 = (a < b)\n",
        "\n",
        "# Is b divisible by a?\n",
        "expr2 = (b % a == 0)\n",
        "\n",
        "# Are both expressions true?\n",
        "print(expr1 and expr2)\n",
        "# >>> False\n",
        "\n",
        "# Is at least one of them true?\n",
        "print(expr1 or expr2)\n",
        "# >>> True\n",
        "````\n",
        "\n",
        "L’opérateur `not` renvoie l’opposé (négation) d’une expression :\n",
        "\n",
        "````python\n",
        "a, b = 3, 5\n",
        "\n",
        "expr = (b % a == 0)\n",
        "\n",
        "# Is b divisible by a?\n",
        "print(expr)\n",
        "# >>> False\n",
        "\n",
        "# Is b NOT divisible by a?\n",
        "print(not expr)\n",
        "# >>> True\n",
        "````\n",
        "| Operator | Example | Meaning |\n",
        "|:-------:|:-------:|:-------:|\n",
        "| and     | P and Q | Are both P and Q true? |\n",
        "| or      | P or Q  | Is at least one of P or Q true? |\n",
        "| not     | not P   | The opposite (negation) of expression P |\n",
        "\n",
        "---\n",
        "\n",
        "### 🔍 Exemple : Exercice bonus du gouvernement\n",
        "\n",
        "Le gouvernement a décidé d’octroyer un bonus de 300 € à certains employés, selon leur salaire et leurs années d’expérience.  \n",
        "Comme beaucoup de mesures gouvernementales, il n’est pas toujours clair qui peut en bénéficier.\n",
        "\n",
        "D’après ce que vous avez compris, une personne peut recevoir le bonus si :\n",
        "\n",
        "- Critère 1 : Moins de 5 ans d’expérience et salaire strictement inférieur à 1500 €.  \n",
        "- Critère 2 : Entre 5 et 10 ans d’expérience et salaire compris entre 1500 € et 2300 €.  \n",
        "- Critère 3 : Plus de 10 ans d’expérience et salaire strictement inférieur à 1500 € ou supérieur à 2300 €.  \n",
        "\n",
        "(Donc si quelqu’un a plus de 10 ans d’expérience et un salaire compris entre 1500 € et 2300 €, il ne reçoit pas le bonus.)\n",
        "\n",
        "`Bernadette a 12 ans d’expérience et un salaire de 2400 €.  \n",
        "Marc a 6 ans d’expérience et un salaire de 1490 €.`\n",
        "\n",
        "- (a) Utilisez des expressions logiques pour décider qui peut recevoir le bonus.  \n",
        "  - Créez deux variables : expérience et salaire  \n",
        "  - Évaluez les 3 critères  \n",
        "  - Vérifiez si au moins un d’entre eux est vrai\n",
        "\n",
        "Astuce :  \n",
        "Pour vérifier si une valeur `x` est comprise entre deux valeurs `a` et `b`, vous pouvez soit :\n",
        "\n",
        "````python\n",
        "a < x and x < b\n",
        "````\n",
        "ou\n",
        "````python\n",
        "a < x < b\n",
        "````"
      ],
      "metadata": {
        "id": "zszrvumI6z8R"
      }
    },
    {
      "cell_type": "code",
      "source": [
        "# TODO"
      ],
      "metadata": {
        "id": "fVibyYRP6G9z"
      },
      "execution_count": null,
      "outputs": []
    },
    {
      "cell_type": "markdown",
      "source": [
        "---\n",
        "\n",
        "<center>\n",
        "\n",
        "## **📖 Structures de Contrôle**\n",
        "\n",
        "</center>\n",
        "\n",
        "---"
      ],
      "metadata": {
        "id": "Nz_zUilP97L7"
      }
    },
    {
      "cell_type": "markdown",
      "source": [
        "Parfois, nous voulons qu’un bloc de code s’exécute uniquement si une certaine condition est vraie.  \n",
        "Par exemple, pour créditer automatiquement les employés du gouvernement éligibles à un bonus, nous voulons mettre à jour leur compte seulement s’ils sont éligibles.\n",
        "\n",
        "Python utilise ces mots-clés pour gérer l’exécution conditionnelle :  \n",
        "- `if` – si une condition est vraie  \n",
        "- `elif` – sinon, si une autre condition est vraie  \n",
        "- `else` – si aucune des conditions précédentes n’est vraie\n",
        "\n",
        "````python\n",
        "eligible = True\n",
        "balance = 1200\n",
        "\n",
        "# Is the person eligible for the €300 bonus?\n",
        "if eligible == True:\n",
        "    balance += 300\n",
        "else:\n",
        "    balance += 50\n",
        "````\n",
        "\n",
        "**Les deux-points `:` indiquent le début d’un bloc indenté qui appartient à la condition**.\n",
        "\n",
        "### **Générer un retour automatique basé sur les notes**\n",
        "\n",
        "Un enseignant souhaite afficher des commentaires en fonction de la note d’un élève :\n",
        "\n",
        "````python\n",
        "grade = 14\n",
        "\n",
        "if grade < 5:\n",
        "    print(\"Very insufficient work.\")\n",
        "elif grade < 10:\n",
        "    print(\"Needs improvement.\")\n",
        "elif grade < 15:\n",
        "    print(\"Good work, keep it up!\")\n",
        "else:\n",
        "    print(\"Excellent work, congratulations!\")\n",
        "````\n",
        "\n",
        "---\n",
        "\n",
        "### 🔍 Exemple :\n",
        "\n",
        "- (a) Réécrivez ce code imbriqué en utilisant `if`, `elif` et `else` :\n",
        "\n",
        "````python\n",
        "if number >= 0:\n",
        "    if number == 0:\n",
        "        print(\"The number is zero.\")\n",
        "    else:\n",
        "        print(\"The number is strictly positive.\")\n",
        "else:\n",
        "    print(\"The number is strictly negative.\")\n",
        "````\n"
      ],
      "metadata": {
        "id": "2bUUVL7X-GAQ"
      }
    },
    {
      "cell_type": "code",
      "source": [
        "# TODO"
      ],
      "metadata": {
        "id": "TrxitwI69VvN"
      },
      "execution_count": null,
      "outputs": []
    },
    {
      "cell_type": "markdown",
      "source": [
        "---\n",
        "\n",
        "### 🔍 Exemple :\n",
        "\n",
        "- (b) Ce code est-il syntaxiquement correct ?\n",
        "\n",
        "Si ce n’est pas le cas, proposez une correction :\n",
        "\n",
        "````python\n",
        "if height < 160:\n",
        "    print(\"This person is short.\")\n",
        "else if 160 <= height < 180:\n",
        "    print(\"This person is of average height.\")\n",
        "else 180 <= height < 200:\n",
        "    print(\"This person is very tall.\")\n",
        "else:\n",
        "    print(\"This person is extremely tall.\")\n",
        "````"
      ],
      "metadata": {
        "id": "XZffq4SM_nEN"
      }
    },
    {
      "cell_type": "code",
      "source": [
        "# TODO"
      ],
      "metadata": {
        "id": "NLnj3msD_l2n"
      },
      "execution_count": null,
      "outputs": []
    },
    {
      "cell_type": "markdown",
      "source": [
        "---\n",
        "\n",
        "<center>\n",
        "\n",
        "## **📖 Bonus : Affectation Conditionnelle**\n",
        "\n",
        "</center>\n",
        "\n",
        "---"
      ],
      "metadata": {
        "id": "8vKvBMNvAZ8y"
      }
    },
    {
      "cell_type": "markdown",
      "source": [
        "Notre enseignant souhaite maintenant décider automatiquement si un élève redouble l’année en fonction de sa moyenne.\n",
        "\n",
        "Nous utilisons une variable booléenne `repeat` qui doit être `True` si la moyenne de l’élève est inférieure à 10, et `False` sinon.\n",
        "\n",
        "La façon classique, en utilisant `if` et `else` :\n",
        "\n",
        "````python\n",
        "average = 9.5\n",
        "\n",
        "if average < 10:\n",
        "    repeat = True\n",
        "else:\n",
        "    repeat = False\n",
        "\n",
        "print(repeat)\n",
        ">>> True\n",
        "````\n",
        "\n",
        "Python propose une version plus courte et élégante en une seule ligne grâce à l’affectation conditionnelle :\n",
        "\n",
        "````python\n",
        "average = 9.5\n",
        "\n",
        "repeat = True if average < 10 else False\n",
        "\n",
        "print(repeat)\n",
        ">>> True\n",
        "````\n",
        "\n",
        "Cette syntaxe compacte est `exactement équivalente` à la version précédente, mais peut rendre le code plus clair lorsque la logique est simple."
      ],
      "metadata": {
        "id": "9-SDmJLgAiB9"
      }
    },
    {
      "cell_type": "markdown",
      "source": [
        "---\n",
        "\n",
        "<center>\n",
        "\n",
        "## **📖 Conclusion & Recap**\n",
        "\n",
        "</center>\n",
        "\n",
        "---"
      ],
      "metadata": {
        "id": "0BU-SqmnBkCh"
      }
    },
    {
      "cell_type": "markdown",
      "source": [
        "### **Opérateurs Arithmétiques**\n",
        "\n",
        "Ces opérateurs peuvent être utilisés sur des variables numériques pour effectuer des opérations de base :\n",
        "\n",
        "| Symbole | Opération         | Exemple      | Résultat |\n",
        "|:-------:|-----------------:|-------------:|---------:|\n",
        "| +       | Addition         | `6 + 4`      | 10       |\n",
        "| -       | Soustraction     | `6 - 4`      | 2        |\n",
        "| *       | Multiplication   | `6 * 4`      | 24       |\n",
        "| /       | Division réelle  | `6 / 4`      | 1.5      |\n",
        "| //      | Division entière | `6.0 // 4`   | 1        |\n",
        "| **      | Puissance        | `6 ** 4`     | 1296     |\n",
        "| %       | Modulo           | `6 % 4`      | 2        |\n",
        "\n",
        "Pour toutes ces opérations arithmétiques, Python propose également des **opérateurs d’affectation**  \n",
        "qui permettent d’appliquer l’opération et de mettre à jour la variable en une seule étape :\n",
        "\n",
        "| Symbole | Opération      |\n",
        "|:-------:|---------------:|\n",
        "| +=      | Addition       |\n",
        "| -=      | Soustraction   |\n",
        "| *=      | Multiplication|\n",
        "| /=      | Division réelle|\n",
        "| //=     | Division entière|\n",
        "| **=     | Puissance      |\n",
        "| %=      | Modulo         |\n",
        "\n",
        "Exemple :\n",
        "\n",
        "```python\n",
        "x += 10   # same as x = x + 10\n",
        "````\n",
        "\n",
        "### **Opérateurs de Comparaison**\n",
        "\n",
        "| Expression | Exemple  | Signification                         |\n",
        "|------------|---------|---------------------------------------|\n",
        "| <          | x < y   | x est-il strictement inférieur à y ?  |\n",
        "| <=         | x <= y  | x est-il inférieur ou égal à y ?      |\n",
        "| >          | x > y   | x est-il strictement supérieur à y ?  |\n",
        "| >=         | x >= y  | x est-il supérieur ou égal à y ?      |\n",
        "| ==         | x == y  | x est-il égal à y ?                    |\n",
        "| !=         | x != y  | x est-il différent de y ?              |\n",
        "\n",
        "Ces opérateurs sont principalement utilisés pour construire des structures de contrôle avec :\n",
        "\n",
        "- `if` → exécuter un bloc si une condition est vraie  \n",
        "- `elif` → vérifier une autre condition si la précédente était fausse  \n",
        "- `else` → exécuter un bloc si toutes les conditions précédentes étaient fausses  \n",
        "\n",
        "Ils rendent votre code dynamique et réactif aux valeurs qu’il traite.\n",
        "\n",
        "```python\n",
        "if height < 160:\n",
        "    print(\"This person is short.\")\n",
        "elif 160 <= height < 180:\n",
        "    print(\"This person is of average height.\")\n",
        "elif 180 <= height < 200:\n",
        "    print(\"This person is tall.\")\n",
        "else:\n",
        "    print(\"This person is very tall.\")\n",
        "````\n",
        "\n",
        "Les opérateurs logiques permettent de construire des conditions plus complexes :\n",
        "\n",
        "| Opérateur | Exemple   | Signification                                   |\n",
        "|-----------|-----------|-------------------------------------------------|\n",
        "| and       | P and Q   | P et Q sont-ils tous les deux vrais ?          |\n",
        "| or        | P or Q    | Au moins l’un de P ou Q est-il vrai ?          |\n",
        "| not       | not P     | La négation (l’opposé) de l’expression P       |\n",
        "\n",
        "````python\n",
        "if (years_of_service > 10) and (salary < 1500 or salary > 2300):\n",
        "    print(\"This person is eligible for the bonus.\")\n",
        "````"
      ],
      "metadata": {
        "id": "btNMfDgTBvC5"
      }
    }
  ]
}