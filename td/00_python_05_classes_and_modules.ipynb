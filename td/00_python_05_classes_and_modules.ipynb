{
  "nbformat": 4,
  "nbformat_minor": 0,
  "metadata": {
    "colab": {
      "provenance": [],
      "authorship_tag": "ABX9TyOQY3fkahTAPEH+uakyct4R",
      "include_colab_link": false
    },
    "kernelspec": {
      "name": "python3",
      "display_name": "Python 3"
    },
    "language_info": {
      "name": "python"
    }
  },
  "cells": [
    {
      "cell_type": "markdown",
      "source": [
        "---\n",
        "\n",
        "<center>\n",
        "\n",
        "# **Python for Data Science**\n",
        "\n",
        "### *Classes and modules*\n",
        "\n",
        "</center>\n",
        "\n",
        "---"
      ],
      "metadata": {
        "id": "_HBssC4xaN8u"
      }
    },
    {
      "cell_type": "markdown",
      "source": [
        "<center>\n",
        "\n",
        "## **📖 Introduction**\n",
        "\n",
        "</center>\n",
        "\n",
        "---"
      ],
      "metadata": {
        "id": "Nq7CUJw7adxE"
      }
    },
    {
      "cell_type": "markdown",
      "source": [
        "In Python, as in many other programming languages, **object-oriented programming (OOP)** consists of creating **classes of objects** that contain both:  \n",
        "- **specific information** (attributes), and  \n",
        "- **tools for manipulation** (methods).  \n",
        "\n",
        "All the tools we use for **Data Science** and that you will encounter later — such as **NumPy Arrays**, **Pandas DataFrames**, **scikit-learn Models**, **Matplotlib Figures**, and more — are built using this principle.  \n",
        "\n",
        "Understanding how Python objects work and knowing how to use them is essential to fully leverage the power of these libraries."
      ],
      "metadata": {
        "id": "XF5vgm5ra0np"
      }
    },
    {
      "cell_type": "markdown",
      "source": [
        "---\n",
        "\n",
        "<center>\n",
        "\n",
        "## **📖 Classes**\n",
        "\n",
        "</center>\n",
        "\n",
        "---"
      ],
      "metadata": {
        "id": "s7U4MEwlcN7y"
      }
    },
    {
      "cell_type": "markdown",
      "source": [
        "An **object class** in Python contains **three fundamental elements**:  \n",
        "\n",
        "- **A constructor**: a function that initializes an object of the class.  \n",
        "- **Attributes**: specific variables of the created object that define its properties.  \n",
        "- **Methods**: functions specific to the class that allow us to interact with an object.  \n",
        "\n",
        "To better understand object classes, let’s use an analogy with a **car** 🚗.  \n",
        "\n",
        "Cars represent a **class of objects**: they are motor vehicles with wheels, designed for ground transportation.  \n",
        "\n",
        "We can imagine that the **constructor** of the `Car` class is like a factory that produces them.  \n",
        "Given certain **attributes** (such as color, model, or engine capacity), the factory must be able to build a car that matches the desired specifications.  \n",
        "\n",
        "Thus, the factory is analogous to a **function** that takes the car’s attributes as arguments and returns a fully constructed, ready-to-use car.\n",
        "\n",
        "## Methods of the Class  \n",
        "\n",
        "The **methods** of a car are the commands that allow us to accelerate or brake.  \n",
        "These commands are analogous to **functions** that take as input the pressure applied to the pedal and then apply the corresponding acceleration to the car.  \n",
        "\n",
        "---\n",
        "\n",
        "### Defining a Class in Python  \n",
        "\n",
        "In Python, a class is defined using the keyword **`class`**.  \n",
        "This keyword begins a block of code where we can define both the **constructor** of the class and its **methods**.  \n",
        "\n",
        "The **constructor** is defined with a special method called **`__init__`**.  \n",
        "This method is used to **initialize the attributes** of the object we want to create.  \n",
        "\n",
        "⚠️ Be careful: there are **two underscores before and two underscores after** the word `init`.\n",
        "\n",
        "``` python\n",
        "# Definition of the Car class\n",
        "class Car:\n",
        "    # Constructor (__init__) definition\n",
        "    def __init__(self, color, model, horsepower):\n",
        "        # Initialize the attributes\n",
        "        self.color = color\n",
        "        self.model = model\n",
        "        self.horsepower = horsepower\n",
        "        self.speed = 0  # initial speed of the car\n",
        "```\n",
        "\n",
        "The `self` Argument and Additional Methods\n",
        "\n",
        "The `self` argument corresponds to the object calling the method. This argument allows us to access the attributes of the object within the method.\n",
        "\n",
        "All methods of a class must have `self` as their first argument because class methods always receive the object that calls them as an argument.\n",
        "\n",
        "We can define other methods within this class:\n",
        "\n",
        "```python\n",
        "# Definition of the Car class with additional methods\n",
        "class Car:\n",
        "    def __init__(self, color, model, horsepower):\n",
        "        self.color = color\n",
        "        self.model = model\n",
        "        self.horsepower = horsepower\n",
        "        self.speed = 0  # initial speed\n",
        "\n",
        "    # Method to accelerate\n",
        "    def accelerate(self, pressure):\n",
        "        self.speed += pressure * 2\n",
        "        print(f\"{self.model} accelerates to {self.speed} km/h.\")\n",
        "\n",
        "    # Method to brake\n",
        "    def brake(self, pressure):\n",
        "        self.speed -= pressure * 2\n",
        "        if self.speed < 0:\n",
        "            self.speed = 0\n",
        "        print(f\"{self.model} slows down to {self.speed} km/h.\")\n",
        "\n",
        "    # Method to repaint the car\n",
        "    def repaint(self, new_color):\n",
        "        self.color = new_color\n",
        "        print(f\"{self.model} is now {self.color}.\")\n",
        "\n",
        "# Creating a car object\n",
        "ford = Car(\"blue\", \"Ford Mustang\", 450)\n",
        "\n",
        "# Using the new method\n",
        "ford.repaint(\"black\")\n",
        "```\n",
        "Creating an Object (Instantiation)\n",
        "\n",
        "To create an object, `Car` is used like a function. In fact, Python calls the `__init__` method of the `Car` class, passing the arguments we provide in the `Car()` \"function\".\n",
        "This is why the `Car()` function is also called the constructor of the class.\n",
        "\n",
        "The process of creating an object and assigning it to a variable is called instantiation.\n",
        "\n",
        "We say that `ford` is an instance of the `Car` class."
      ],
      "metadata": {
        "id": "QXfDXLCL9XOd"
      }
    },
    {
      "cell_type": "markdown",
      "source": [
        "---\n",
        "\n",
        "<center>\n",
        "\n",
        "### **🔍 Example : complex Numbers Class**\n",
        "\n",
        "</center>\n",
        "\n",
        "---\n",
        "\n",
        "Inspired by the Car class defined above:\n",
        "\n",
        "- (a) Define a new class `ComplexNumber` with 2 attributes:\n",
        "  - real_part: stores the real part of the complex number.\n",
        "  - imaginary_part: stores the imaginary part of the complex number.\n",
        "\n",
        "- (b) Define a method `display` in the `ComplexNumber` class that takes only `self` as an argument and prints the complex number in standard form a + bi,\n",
        "where `a` is the real part and `b` is the imaginary part.\n",
        "Make sure to handle the sign of the imaginary part correctly (the output should look like 4 - 2i, 6 + 2i, 5).\n",
        "\n",
        "- (c) Instantiate two complex numbers corresponding to 4+5i and 3-2i, then display them using the `display` method."
      ],
      "metadata": {
        "id": "Z5cpL_K5c94f"
      }
    },
    {
      "cell_type": "code",
      "source": [
        "# TODO"
      ],
      "metadata": {
        "id": "w30bOpq4cqk5"
      },
      "execution_count": 1,
      "outputs": []
    },
    {
      "cell_type": "markdown",
      "source": [
        "---\n",
        "\n",
        "<center>\n",
        "\n",
        "## **📖 Classes and Documentation**\n",
        "\n",
        "</center>\n",
        "\n",
        "---"
      ],
      "metadata": {
        "id": "XWGEb4wVdkCm"
      }
    },
    {
      "cell_type": "markdown",
      "source": [
        "For a class to be usable and understandable, it should always be **properly documented**.  \n",
        "Just like for functions, the documentation (also called *docstring*) of a class starts and ends with triple quotes `\"\"\"`.\n",
        "\n",
        "This documentation is written **right after the definition of the class**, and it usually describes:\n",
        "\n",
        "- What the class represents.\n",
        "- What attributes it contains.\n",
        "- What methods are available and their purpose.\n",
        "\n",
        "```python\n",
        "class Car:\n",
        "    \"\"\"\n",
        "    The Car class models a car with basic properties.\n",
        "\n",
        "    Attributes:\n",
        "        color (str): The color of the car.\n",
        "        model (str): The model of the car.\n",
        "        horsepower (int): The power of the car's engine.\n",
        "\n",
        "    Methods:\n",
        "        start(): Prints a message that the car has started.\n",
        "        stop(): Prints a message that the car has stopped.\n",
        "    \"\"\"\n",
        "    def __init__(self, color, model, horsepower):\n",
        "        self.color = color\n",
        "        self.model = model\n",
        "        self.horsepower = horsepower\n",
        "\n",
        "    def start(self):\n",
        "        \"\"\"Start the car.\"\"\"\n",
        "        print(f\"The {self.model} is starting.\")\n",
        "\n",
        "    def stop(self):\n",
        "        \"\"\"Stop the car.\"\"\"\n",
        "        print(f\"The {self.model} is stopping.\")\n",
        "```\n",
        "Now, when a user needs help to understand how to use a class, they can call the built-in **`help()`** function.\n",
        "\n",
        "For example:\n",
        "```python\n",
        "help(Car)\n",
        "```\n",
        "\n",
        "### 📘 Why Documentation Matters\n",
        "\n",
        "The main purpose of documentation is:\n",
        "\n",
        "✅ To be **read and understood** by other users.  \n",
        "\n",
        "✅ To **remind us** of the role of a method or an attribute we might have forgotten.  \n",
        "\n",
        "✅ To provide a **first source of information** about how to manipulate a class.  \n",
        "\n",
        "---\n",
        "\n",
        "💡 **In practice**:  \n",
        "All the classes you will use in Data Science (like `numpy.array`, `pandas.DataFrame`, `sklearn.Model`, etc.) have **extensive documentation**.  \n",
        "\n",
        "At first, they might seem a bit overwhelming — but with experience, they become much clearer and intuitive.\n"
      ],
      "metadata": {
        "id": "39L4kXh1Ci2z"
      }
    },
    {
      "cell_type": "markdown",
      "source": [
        "---\n",
        "\n",
        "<center>\n",
        "\n",
        "### **🔍 Example : working with List Methods**\n",
        "\n",
        "</center>\n",
        "\n",
        "---\n",
        "\n",
        "We have the list:  \n",
        "\n",
        "```python\n",
        "u = [1, 9, -3, 3, -5, 4, -4, 7, 3, 4, 5, 0, 8, 7, -1, -3, 7, 6, 0, 2]\n",
        "```\n",
        "\n",
        "- (a) Using the function `help`, find a method of the `list` class that allows us to `sort` the list u, then display the sorted list.\n",
        "\n",
        "- (b) Find a method that allows us to `remove all` the elements from the list u."
      ],
      "metadata": {
        "id": "IWfGvPvmeXQE"
      }
    },
    {
      "cell_type": "code",
      "source": [
        "# TODO"
      ],
      "metadata": {
        "id": "_cKg1FakeMpx"
      },
      "execution_count": 2,
      "outputs": []
    },
    {
      "cell_type": "markdown",
      "source": [
        "---\n",
        "\n",
        "<center>\n",
        "\n",
        "## **📖 Modules**\n",
        "\n",
        "</center>\n",
        "\n",
        "---"
      ],
      "metadata": {
        "id": "hLmcDVy2fTCp"
      }
    },
    {
      "cell_type": "markdown",
      "source": [
        "\n",
        "- A **module** (also called *package* or *library*) is simply a Python file containing class and function definitions.  \n",
        "\n",
        "- The main goal of modules is **code reusability**: they allow us to use functions that have already been written, without copying them.  \n",
        "\n",
        "- Modules can also be shared easily and are usually **specialized** in very specific tasks, for example:  \n",
        "\n",
        "  - 📊 **pandas** → Data manipulation  \n",
        "  - 🔢 **numpy** → Optimized numerical computation  \n",
        "  - 📈 **matplotlib** → Plotting and visualization  \n",
        "  - 🤖 **scikit-learn** → Machine learning  \n",
        "\n",
        "- In Data Science, almost all tasks rely on modules written by other developers. Without them, Python would not be such a powerful tool for Data Science.  \n",
        "\n",
        "- Even though there are programming languages faster than Python, as long as these modules are not available in those languages, switching away from Python would be very difficult.  \n",
        "\n",
        "---\n",
        "\n",
        "### Importing a Module  \n",
        "\n",
        "To import a module in Python, we use the keyword:\n",
        "```python\n",
        "# We can import the entire library like this:  \n",
        "import pandas as pd\n",
        "import matplotlib.pyplot as plt\n",
        "# we can inport only cos, sin, exp functions from the library\n",
        "from numpy import cos, sin, exp\n",
        "```"
      ],
      "metadata": {
        "id": "Y7nycL3Kgrcy"
      }
    }
  ]
}