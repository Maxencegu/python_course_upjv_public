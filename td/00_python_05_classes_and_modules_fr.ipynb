{
  "nbformat": 4,
  "nbformat_minor": 0,
  "metadata": {
    "colab": {
      "provenance": []
    },
    "kernelspec": {
      "name": "python3",
      "display_name": "Python 3"
    },
    "language_info": {
      "name": "python"
    }
  },
  "cells": [
    {
      "cell_type": "markdown",
      "source": [
        "---\n",
        "\n",
        "<center>\n",
        "\n",
        "# **Python pour la Data Science**\n",
        "\n",
        "### *Classes et modules*\n",
        "\n",
        "</center>\n",
        "\n",
        "---"
      ],
      "metadata": {
        "id": "_HBssC4xaN8u"
      }
    },
    {
      "cell_type": "markdown",
      "source": [
        "<center>\n",
        "\n",
        "## **📖 Introduction**\n",
        "\n",
        "</center>\n",
        "\n",
        "---"
      ],
      "metadata": {
        "id": "Nq7CUJw7adxE"
      }
    },
    {
      "cell_type": "markdown",
      "source": [
        "En Python, comme dans de nombreux autres langages de programmation, la **programmation orientée objet (POO)** consiste à créer des **classes d’objets** qui contiennent à la fois :  \n",
        "- **des informations spécifiques** (attributs), et  \n",
        "- **des outils de manipulation** (méthodes).  \n",
        "\n",
        "Tous les outils que nous utilisons pour la **Data Science** et que vous rencontrerez plus tard — tels que les **tableaux NumPy**, les **DataFrames Pandas**, les **modèles scikit-learn**, les **figures Matplotlib**, et bien d’autres — sont construits selon ce principe.  \n",
        "\n",
        "Comprendre le fonctionnement des objets Python et savoir les utiliser est essentiel pour exploiter pleinement la puissance de ces bibliothèques."
      ],
      "metadata": {
        "id": "XF5vgm5ra0np"
      }
    },
    {
      "cell_type": "markdown",
      "source": [
        "---\n",
        "\n",
        "<center>\n",
        "\n",
        "## **📖 Classes**\n",
        "\n",
        "</center>\n",
        "\n",
        "---"
      ],
      "metadata": {
        "id": "s7U4MEwlcN7y"
      }
    },
    {
      "cell_type": "markdown",
      "source": [
        "Une **classe d’objet** en Python contient **trois éléments fondamentaux** :  \n",
        "\n",
        "- **Un constructeur** : une fonction qui initialise un objet de la classe.  \n",
        "- **Des attributs** : des variables spécifiques de l’objet créé qui définissent ses propriétés.  \n",
        "- **Des méthodes** : des fonctions spécifiques à la classe qui permettent d’interagir avec un objet.  \n",
        "\n",
        "Pour mieux comprendre les classes d’objets, utilisons une analogie avec une **voiture** 🚗.  \n",
        "\n",
        "Les voitures représentent une **classe d’objets** : ce sont des véhicules à moteur avec des roues, conçus pour le transport terrestre.  \n",
        "\n",
        "On peut imaginer que le **constructeur** de la classe `Car` est comme une usine qui les fabrique.  \n",
        "Étant donné certains **attributs** (comme la couleur, le modèle ou la cylindrée), l’usine doit être capable de construire une voiture correspondant aux spécifications souhaitées.  \n",
        "\n",
        "Ainsi, l’usine est analogue à une **fonction** qui prend les attributs de la voiture en arguments et retourne une voiture entièrement construite, prête à l’emploi.\n",
        "\n",
        "## Méthodes de la Classe  \n",
        "\n",
        "Les **méthodes** d’une voiture sont les commandes qui permettent d’accélérer ou de freiner.  \n",
        "Ces commandes sont analogues à des **fonctions** qui prennent en entrée la pression appliquée sur la pédale et appliquent ensuite l’accélération correspondante à la voiture.  \n",
        "\n",
        "---\n",
        "\n",
        "### Définir une Classe en Python  \n",
        "\n",
        "En Python, une classe est définie avec le mot-clé **`class`**.  \n",
        "Ce mot-clé ouvre un bloc de code où nous pouvons définir à la fois le **constructeur** de la classe et ses **méthodes**.  \n",
        "\n",
        "Le **constructeur** est défini avec une méthode spéciale appelée **`__init__`**.  \n",
        "Cette méthode sert à **initialiser les attributs** de l’objet que l’on souhaite créer.  \n",
        "\n",
        "⚠️ Attention : il y a **deux underscores avant et deux underscores après** le mot `init`.\n",
        "\n",
        "``` python\n",
        "# Definition of the Car class\n",
        "class Car:\n",
        "    # Constructor (__init__) definition\n",
        "    def __init__(self, color, model, horsepower):\n",
        "        # Initialize the attributes\n",
        "        self.color = color\n",
        "        self.model = model\n",
        "        self.horsepower = horsepower\n",
        "        self.speed = 0  # initial speed of the car\n",
        "```\n",
        "\n",
        "## L’argument `self` et les méthodes supplémentaires\n",
        "\n",
        "L’argument `self` correspond à l’objet qui appelle la méthode.  \n",
        "Cet argument nous permet d’accéder aux **attributs de l’objet** depuis l’intérieur de la méthode.\n",
        "\n",
        "Toutes les méthodes d’une classe doivent avoir `self` comme **premier argument**, car les méthodes de classe reçoivent toujours l’objet qui les appelle comme argument.\n",
        "\n",
        "On peut définir d’autres méthodes au sein de cette classe :\n",
        "\n",
        "```python\n",
        "# Definition of the Car class with additional methods\n",
        "class Car:\n",
        "    def __init__(self, color, model, horsepower):\n",
        "        self.color = color\n",
        "        self.model = model\n",
        "        self.horsepower = horsepower\n",
        "        self.speed = 0  # initial speed\n",
        "\n",
        "    # Method to accelerate\n",
        "    def accelerate(self, pressure):\n",
        "        self.speed += pressure * 2\n",
        "        print(f\"{self.model} accelerates to {self.speed} km/h.\")\n",
        "\n",
        "    # Method to brake\n",
        "    def brake(self, pressure):\n",
        "        self.speed -= pressure * 2\n",
        "        if self.speed < 0:\n",
        "            self.speed = 0\n",
        "        print(f\"{self.model} slows down to {self.speed} km/h.\")\n",
        "\n",
        "    # Method to repaint the car\n",
        "    def repaint(self, new_color):\n",
        "        self.color = new_color\n",
        "        print(f\"{self.model} is now {self.color}.\")\n",
        "\n",
        "# Creating a car object\n",
        "ford = Car(\"blue\", \"Ford Mustang\", 450)\n",
        "\n",
        "# Using the new method\n",
        "ford.repaint(\"black\")\n",
        "```\n",
        "## Création d’un objet (instanciation)\n",
        "\n",
        "Pour créer un objet, on utilise `Car` comme une fonction.  \n",
        "En réalité, Python appelle la méthode `__init__` de la classe `Car`, en lui passant les arguments fournis dans la \"fonction\" `Car()`.  \n",
        "C’est pourquoi la fonction `Car()` est également appelée **constructeur de la classe**.\n",
        "\n",
        "Le processus de création d’un objet et de son affectation à une variable s’appelle **instanciation**.\n",
        "\n",
        "On dit que `ford` est une **instance** de la classe `Car`."
      ],
      "metadata": {
        "id": "QXfDXLCL9XOd"
      }
    },
    {
      "cell_type": "markdown",
      "source": [
        "---\n",
        "\n",
        "<center>\n",
        "\n",
        "### **🔍 Exemple : Classe Nombres Complexes**\n",
        "\n",
        "</center>\n",
        "\n",
        "---\n",
        "\n",
        "Inspiré par la classe `Car` définie précédemment :\n",
        "\n",
        "- (a) Définir une nouvelle classe `ComplexNumber` avec 2 attributs :  \n",
        "  - `real_part` : stocke la partie réelle du nombre complexe.  \n",
        "  - `imaginary_part` : stocke la partie imaginaire du nombre complexe.\n",
        "\n",
        "- (b) Définir une méthode `display` dans la classe `ComplexNumber` qui prend seulement `self` comme argument et affiche le nombre complexe sous la forme standard a + bi,  \n",
        "où `a` est la partie réelle et `b` la partie imaginaire.  \n",
        "Veillez à gérer correctement le signe de la partie imaginaire (l’affichage doit ressembler à 4 - 2i, 6 + 2i, 5).\n",
        "\n",
        "- (c) Instancier deux nombres complexes correspondant à 4+5i et 3-2i, puis affichez-les à l’aide de la méthode `display`."
      ],
      "metadata": {
        "id": "Z5cpL_K5c94f"
      }
    },
    {
      "cell_type": "code",
      "source": [
        "# TODO"
      ],
      "metadata": {
        "id": "w30bOpq4cqk5"
      },
      "execution_count": null,
      "outputs": []
    },
    {
      "cell_type": "markdown",
      "source": [
        "---\n",
        "\n",
        "<center>\n",
        "\n",
        "## **📖 Classes et Documentation**\n",
        "\n",
        "</center>\n",
        "\n",
        "---"
      ],
      "metadata": {
        "id": "XWGEb4wVdkCm"
      }
    },
    {
      "cell_type": "markdown",
      "source": [
        "Pour qu’une classe soit utilisable et compréhensible, elle doit toujours être **correctement documentée**.  \n",
        "Comme pour les fonctions, la documentation (ou *docstring*) d’une classe commence et se termine par trois guillemets `\"\"\"`.\n",
        "\n",
        "Cette documentation est écrite **juste après la définition de la classe**, et décrit généralement :\n",
        "\n",
        "- Ce que représente la classe.\n",
        "- Les attributs qu’elle contient.\n",
        "- Les méthodes disponibles et leur utilité.\n",
        "\n",
        "```python\n",
        "class Car:\n",
        "    \"\"\"\n",
        "    The Car class models a car with basic properties.\n",
        "\n",
        "    Attributes:\n",
        "        color (str): The color of the car.\n",
        "        model (str): The model of the car.\n",
        "        horsepower (int): The power of the car's engine.\n",
        "\n",
        "    Methods:\n",
        "        start(): Prints a message that the car has started.\n",
        "        stop(): Prints a message that the car has stopped.\n",
        "    \"\"\"\n",
        "    def __init__(self, color, model, horsepower):\n",
        "        self.color = color\n",
        "        self.model = model\n",
        "        self.horsepower = horsepower\n",
        "\n",
        "    def start(self):\n",
        "        \"\"\"Start the car.\"\"\"\n",
        "        print(f\"The {self.model} is starting.\")\n",
        "\n",
        "    def stop(self):\n",
        "        \"\"\"Stop the car.\"\"\"\n",
        "        print(f\"The {self.model} is stopping.\")\n",
        "```\n",
        "Désormais, lorsqu’un utilisateur souhaite comprendre comment utiliser une classe, il peut appeler la fonction intégrée **`help()`**.\n",
        "\n",
        "Par exemple :\n",
        "```python\n",
        "help(Car)\n",
        "```\n",
        "\n",
        "### 📘 Pourquoi la documentation est importante\n",
        "\n",
        "Le but principal de la documentation est :\n",
        "\n",
        "✅ D'être **lue et comprise** par d'autres utilisateurs.  \n",
        "\n",
        "✅ De nous **rappeler** le rôle d'une méthode ou d'un attribut que nous aurions pu oublier.  \n",
        "\n",
        "✅ De fournir une **première source d'information** sur la manière de manipuler une classe.  \n",
        "\n",
        "---\n",
        "\n",
        "💡 **En pratique** :  \n",
        "Toutes les classes que vous utiliserez en Data Science (comme `numpy.array`, `pandas.DataFrame`, `sklearn.Model`, etc.) disposent d'une **documentation étendue**.  \n",
        "\n",
        "Au début, elles peuvent sembler un peu intimidantes — mais avec de l'expérience, elles deviennent beaucoup plus claires et intuitives.\n"
      ],
      "metadata": {
        "id": "39L4kXh1Ci2z"
      }
    },
    {
      "cell_type": "markdown",
      "source": [
        "---\n",
        "\n",
        "<center>\n",
        "\n",
        "### **🔍 Exemple : travailler avec les méthodes de liste**\n",
        "\n",
        "</center>\n",
        "\n",
        "---\n",
        "\n",
        "Nous avons la liste :  \n",
        "\n",
        "```python\n",
        "u = [1, 9, -3, 3, -5, 4, -4, 7, 3, 4, 5, 0, 8, 7, -1, -3, 7, 6, 0, 2]\n",
        "```\n",
        "\n",
        "- (a) En utilisant la fonction `help`, trouvez une méthode de la classe `list` qui permet de `trier` la liste u, puis affichez la liste triée.\n",
        "\n",
        "- (b) Trouvez une méthode qui permet de `supprimer tous` les éléments de la liste u."
      ],
      "metadata": {
        "id": "IWfGvPvmeXQE"
      }
    },
    {
      "cell_type": "code",
      "source": [
        "# TODO"
      ],
      "metadata": {
        "id": "_cKg1FakeMpx"
      },
      "execution_count": null,
      "outputs": []
    },
    {
      "cell_type": "markdown",
      "source": [
        "---\n",
        "\n",
        "<center>\n",
        "\n",
        "## **📖 Modules**\n",
        "\n",
        "</center>\n",
        "\n",
        "---"
      ],
      "metadata": {
        "id": "hLmcDVy2fTCp"
      }
    },
    {
      "cell_type": "markdown",
      "source": [
        "- Un **module** (aussi appelé *package* ou *bibliothèque*) est simplement un fichier Python contenant des définitions de classes et de fonctions.  \n",
        "\n",
        "- L’objectif principal des modules est la **réutilisabilité du code** : ils permettent d’utiliser des fonctions déjà écrites, sans avoir à les copier.  \n",
        "\n",
        "- Les modules peuvent aussi être facilement partagés et sont généralement **spécialisés** dans des tâches très spécifiques, par exemple :  \n",
        "\n",
        "  - 📊 **pandas** → manipulation de données  \n",
        "  - 🔢 **numpy** → calcul numérique optimisé  \n",
        "  - 📈 **matplotlib** → visualisation et création de graphiques  \n",
        "  - 🤖 **scikit-learn** → apprentissage automatique  \n",
        "\n",
        "- En Data Science, presque toutes les tâches reposent sur des modules écrits par d’autres développeurs. Sans eux, Python ne serait pas un outil aussi puissant pour la Data Science.  \n",
        "\n",
        "- Même si certains langages de programmation sont plus rapides que Python, tant que ces modules ne sont pas disponibles dans ces langages, il serait très difficile de se passer de Python.\n",
        "\n",
        "---\n",
        "\n",
        "### Importation d’un module  \n",
        "\n",
        "Pour importer un module en Python, on utilise le mot-clé :\n",
        "\n",
        "```python\n",
        "# We can import the entire library like this:  \n",
        "import pandas as pd\n",
        "import matplotlib.pyplot as plt\n",
        "# we can inport only cos, sin, exp functions from the library\n",
        "from numpy import cos, sin, exp\n",
        "```"
      ],
      "metadata": {
        "id": "Y7nycL3Kgrcy"
      }
    }
  ]
}