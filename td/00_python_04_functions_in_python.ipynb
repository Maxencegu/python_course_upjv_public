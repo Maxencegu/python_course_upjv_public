{
  "nbformat": 4,
  "nbformat_minor": 0,
  "metadata": {
    "colab": {
      "provenance": [],
      "collapsed_sections": [
        "Nq7CUJw7adxE",
        "23n4ULGUmwG9",
        "RZRN3xTKpMej"
      ],
      "authorship_tag": "ABX9TyOl8AeAPzgll2GXmiDmLh3L",
      "include_colab_link": false
    },
    "kernelspec": {
      "name": "python3",
      "display_name": "Python 3"
    },
    "language_info": {
      "name": "python"
    }
  },
  "cells": [
    {
      "cell_type": "markdown",
      "source": [
        "---\n",
        "\n",
        "<center>\n",
        "\n",
        "# **Python for Data Science**\n",
        "\n",
        "### *Functions in python*\n",
        "\n",
        "</center>\n",
        "\n",
        "---"
      ],
      "metadata": {
        "id": "_HBssC4xaN8u"
      }
    },
    {
      "cell_type": "markdown",
      "source": [
        "<center>\n",
        "\n",
        "## **📖 The functions**\n",
        "\n",
        "</center>\n",
        "\n",
        "---"
      ],
      "metadata": {
        "id": "Nq7CUJw7adxE"
      }
    },
    {
      "cell_type": "markdown",
      "source": [
        "A function in Python is a reusable block of code that performs a specific task.\n",
        "\n",
        "Python provides built-in functions, such as:\n",
        "\n",
        "- `print()`: Displays a value or object.\n",
        "- `range()`: Creates a sequence of integers.\n",
        "\n",
        "We don’t need to know the internal code of these functions to use them.\n",
        "Their output depends only on the input values (parameters) we provide.\n",
        "\n",
        "**Creating your own function**\n",
        "\n",
        "You can define custom functions that can be reused.\n",
        "The general structure is:\n",
        "\n",
        "```python\n",
        "def function_name(parameter):\n",
        "    # Block of instructions\n",
        "    ...\n",
        "    ...\n",
        "    ...\n",
        "    # The result of the function\n",
        "    return result\n",
        "```\n",
        "\n",
        "The `return` keyword specifies the output of the function and **ends the function execution**.\n",
        "Any code after `return` inside the function will not be executed.\n",
        "\n",
        "**check if a number is even**\n",
        "\n",
        "```python\n",
        "def is_even(number):\n",
        "    # Check if the number is divisible by 2\n",
        "    if number % 2 == 0:\n",
        "        return True\n",
        "    else:\n",
        "        return False\n",
        "```\n",
        "\n",
        "This function takes a `number` as input, stored temporarily in number.\n",
        "After the function finishes, the variable `number` is discarded.\n",
        "\n",
        "**Calling a function with arguments**\n",
        "\n",
        "```python\n",
        "print(is_even(number=3))\n",
        ">>> False\n",
        "\n",
        "print(is_even(number=100))\n",
        ">>> True\n",
        "\n",
        "print(is_even(number=-2))\n",
        ">>> True\n",
        "```\n",
        "\n",
        "You can also call the function without naming the arguments:\n",
        "\n",
        "```python\n",
        "print(is_even(-4))\n",
        ">>> True\n",
        "```"
      ],
      "metadata": {
        "id": "XF5vgm5ra0np"
      }
    },
    {
      "cell_type": "markdown",
      "source": [
        "---\n",
        "\n",
        "<center>\n",
        "\n",
        "### **🔍 Example : doubling a Number**\n",
        "\n",
        "</center>\n",
        "\n",
        "---\n",
        "\n",
        "- (a) : Implement a function named `double` that takes a number as input and returns its double.\n",
        "- (b) : Use this function to calculate the double of `4`:"
      ],
      "metadata": {
        "id": "s7U4MEwlcN7y"
      }
    },
    {
      "cell_type": "code",
      "execution_count": 1,
      "metadata": {
        "id": "1Fa0Hf9HZ1aG"
      },
      "outputs": [],
      "source": [
        "# TODO"
      ]
    },
    {
      "cell_type": "markdown",
      "source": [
        "---\n",
        "\n",
        "<center>\n",
        "\n",
        "### **🔍 Example : summing Numbers in a List**\n",
        "\n",
        "</center>\n",
        "\n",
        "---\n",
        "\n",
        "- (a) : Define a function named `sum_list` that takes a list of numbers as input and calculates the sum of all numbers using a loop.\n",
        "- (b) : Evaluate this function on the list `[2, 3, 1]`:"
      ],
      "metadata": {
        "id": "Z5cpL_K5c94f"
      }
    },
    {
      "cell_type": "code",
      "source": [
        "# TODO"
      ],
      "metadata": {
        "id": "w30bOpq4cqk5"
      },
      "execution_count": 2,
      "outputs": []
    },
    {
      "cell_type": "markdown",
      "source": [
        "---\n",
        "\n",
        "<center>\n",
        "\n",
        "### **🔍 Example : product of Numbers in a List**\n",
        "\n",
        "</center>\n",
        "\n",
        "---\n",
        "\n",
        "- (a) : Write a function named `list_product` that takes a list of numbers as input and calculates the product of all numbers using a loop.\n",
        "- (b) : Evaluate this function on the list `[1, 0.12, -54, 12, 0.33, 12]`:"
      ],
      "metadata": {
        "id": "XWGEb4wVdkCm"
      }
    },
    {
      "cell_type": "code",
      "source": [
        "# TODO"
      ],
      "metadata": {
        "id": "DRvSjXmqdX8u"
      },
      "execution_count": 3,
      "outputs": []
    },
    {
      "cell_type": "markdown",
      "source": [
        "---\n",
        "\n",
        "<center>\n",
        "\n",
        "### **🔍 Example : calculating Percentage Change**\n",
        "\n",
        "</center>\n",
        "\n",
        "---\n",
        "\n",
        "- (a) : Write a function named `variation` that takes an initial value and a final value as input, and returns the percentage change between the two.\n",
        "The percentage change is calculated as:\n",
        "\n",
        "$$\n",
        "\\text{percentage_change} = \\frac{\\text{final_value} - \\text{initial_value}}{\\text{initial_value}} \\times 100\n",
        "$$\n",
        "\n",
        "- (b) : Evaluate this function with an initial value of `2000` and a final value of `1000` :"
      ],
      "metadata": {
        "id": "IWfGvPvmeXQE"
      }
    },
    {
      "cell_type": "code",
      "source": [
        "# TODO"
      ],
      "metadata": {
        "id": "_cKg1FakeMpx"
      },
      "execution_count": 4,
      "outputs": []
    },
    {
      "cell_type": "markdown",
      "source": [
        "---\n",
        "\n",
        "<center>\n",
        "\n",
        "### **🔍 Example : squaring a Number**\n",
        "\n",
        "</center>\n",
        "\n",
        "---\n",
        "\n",
        "- (a) : Define a function named `f` that takes an integer n as input and returns the square of `n` ($n^2$).\n",
        "- (b) : Display the result of the function `f` for `n = 2` and `n = 15`:"
      ],
      "metadata": {
        "id": "hLmcDVy2fTCp"
      }
    },
    {
      "cell_type": "code",
      "source": [
        "# TODO"
      ],
      "metadata": {
        "id": "6RVOo4VwfF36"
      },
      "execution_count": 5,
      "outputs": []
    },
    {
      "cell_type": "markdown",
      "source": [
        "### **Using Function Results in Other Code**\n",
        "\n",
        "The main advantage of a function is that you can store its result in a **variable** and use it later in your code—for example, **inside another function**.\n",
        "\n",
        "```python\n",
        "# Function f defined previously\n",
        "def f(n):\n",
        "    calculation = n**2\n",
        "    return calculation\n",
        "```\n",
        "\n",
        "You can now store the result of `f` in a variable:\n",
        "\n",
        "```python\n",
        "result = f(5)\n",
        "print(result)\n",
        ">>> 25\n",
        "```\n",
        "\n",
        "And use it later in other computations or functions:\n",
        "\n",
        "```python\n",
        "def add_five_squared(x):\n",
        "    # Use the result of f(x) in another function\n",
        "    return f(x) + 5\n",
        "\n",
        "print(add_five_squared(3))\n",
        ">>> 14  # because 3**2 + 5 = 9 + 5\n",
        "```\n"
      ],
      "metadata": {
        "id": "Y7nycL3Kgrcy"
      }
    },
    {
      "cell_type": "markdown",
      "source": [
        "---\n",
        "\n",
        "<center>\n",
        "\n",
        "### **🔍 Example : getting Unique Values from a List**\n",
        "\n",
        "</center>\n",
        "\n",
        "---\n",
        "\n",
        "- (a) : Write a function named `uniques` that takes a list as input and returns **a new list containing the distinct values** from the original list.\n",
        "\n",
        "`Note: \"unique values\" here means distinct values, not \"values that appear only once\".`\n",
        "\n",
        "You can check if an element is in a list using the in operator:\n",
        "\n",
        "```python\n",
        "3 in [3, 1, 2]\n",
        ">>> True\n",
        "\n",
        "-1 in [3, 1, 2]\n",
        ">>> False\n",
        "```"
      ],
      "metadata": {
        "id": "b3-ePp3YhoiS"
      }
    },
    {
      "cell_type": "code",
      "source": [
        "# TODO"
      ],
      "metadata": {
        "id": "Dto_aB-JgSP1"
      },
      "execution_count": 6,
      "outputs": []
    },
    {
      "cell_type": "markdown",
      "source": [
        "---\n",
        "\n",
        "<center>\n",
        "\n",
        "### **🔍 Example : common Values Between Two Lists**\n",
        "\n",
        "</center>\n",
        "\n",
        "---\n",
        "\n",
        "- (a) : Write a function named `common_list` that takes two lists `l1` and `l2` as input, and returns a new list containing the values that are present in both lists.\n",
        "- (b) : Display the result of the function with."
      ],
      "metadata": {
        "id": "TS5lPHTxiizm"
      }
    },
    {
      "cell_type": "code",
      "source": [
        "# TODO"
      ],
      "metadata": {
        "id": "Vx3oLTdOiL7x"
      },
      "execution_count": 7,
      "outputs": []
    },
    {
      "cell_type": "markdown",
      "source": [
        "### **Functions with Multiple Parameters and Multiple Outputs**\n",
        "\n",
        "A function can have **multiple parameters** and **multiple outputs**.\n",
        "The general syntax is:\n",
        "\n",
        "```python\n",
        "def my_function(param1, param2, param3, ...):\n",
        "    # Block of instructions\n",
        "    ...\n",
        "    ...\n",
        "    ...\n",
        "    return output1, output2, output3, ...\n",
        "```\n",
        "\n",
        "When a function returns multiple outputs, the result is actually a **tuple**.\n",
        "We can use **tuple unpacking** to store the outputs in separate variables:\n",
        "\n",
        "```python\n",
        "# Define a function that returns the first and last element of a list\n",
        "def first_and_last(a_list):\n",
        "    return a_list[0], a_list[-1]\n",
        "\n",
        "# Use tuple unpacking to get the outputs of the function\n",
        "first, last = first_and_last([-2, 32, 31, 231, 4])\n",
        "\n",
        "# Display the results\n",
        "print(first)\n",
        ">>> -2\n",
        "\n",
        "print(last)\n",
        ">>> 4\n",
        "```"
      ],
      "metadata": {
        "id": "R_jVRyfmjdlz"
      }
    },
    {
      "cell_type": "markdown",
      "source": [
        "---\n",
        "\n",
        "<center>\n",
        "\n",
        "### **🔍 Example : powers and Differences**\n",
        "\n",
        "</center>\n",
        "\n",
        "---\n",
        "\n",
        "- (a) : Create a function named `power4` that takes a number x as input and returns the first four powers of this number ($x^1$,$x^2$,$x^3$,$x^4$):\n",
        "- (b) : Test this function with `x = 8` and store the results in `x_1`, `x_2`, `x_3`, `x_4`.\n",
        "- (c) : Create a function named `power_diff` that takes four numbers `x_1`, `x_2`, `x_3`, `x_4` and returns:\n",
        "  - the difference between `x_2` and `x_1`,\n",
        "  - the difference between `x_3` and `x_2`,\n",
        "  - the difference between `x_4` and `x_3`.\n",
        "- (d) : Test this function on the previously obtained values `x_1`, `x_2`, `x_3`, `x_4`."
      ],
      "metadata": {
        "id": "X0CF9xIxkCI_"
      }
    },
    {
      "cell_type": "code",
      "source": [
        "# TODO"
      ],
      "metadata": {
        "id": "M4UGvnSbjH3k"
      },
      "execution_count": 8,
      "outputs": []
    },
    {
      "cell_type": "markdown",
      "source": [
        "### **Default Parameter Values in Functions**\n",
        "\n",
        "When calling a function, you don’t need to provide a value for a parameter if it has a default value.\n",
        "\n",
        "To assign a default value to a parameter, simply give it a value in the function definition:\n",
        "\n",
        "```python\n",
        "# Define a function that calculates the product of two numbers\n",
        "def product(a=0, b=1):\n",
        "    return a * b\n",
        "```\n",
        "\n",
        "Examples of calling the function:\n",
        "\n",
        "```python\n",
        "product(a=4)  # b takes its default value of 1\n",
        ">>> 4\n",
        "\n",
        "product(b=3)  # a takes its default value of 0\n",
        ">>> 0\n",
        "\n",
        "product(a=4, b=3)\n",
        ">>> 12\n",
        "```\n",
        "\n",
        "You don’t need to write the parameter names when calling a function, for example:\n",
        "\n",
        "```python\n",
        "product(3, 4)\n",
        ">>> 12\n",
        "```\n",
        "\n",
        "`Note: If you omit the parameter names, the arguments must follow the same order as in the function definition.`"
      ],
      "metadata": {
        "id": "mfoSFswNl5gE"
      }
    },
    {
      "cell_type": "markdown",
      "source": [
        "---\n",
        "\n",
        "<center>\n",
        "\n",
        "## **📖 Function Documentation**\n",
        "\n",
        "</center>\n",
        "\n",
        "---"
      ],
      "metadata": {
        "id": "23n4ULGUmwG9"
      }
    },
    {
      "cell_type": "markdown",
      "source": [
        "To share a function with other users, it is common to write a short description explaining how the function should be used.\n",
        "\n",
        "This description is called the function documentation (or docstring).\n",
        "\n",
        "Documentation is written at the beginning of a function definition using triple quotes `\"\"\"`:\n",
        "\n",
        "```python\n",
        "def sort_list(a_list, order=\"ascending\"):\n",
        "    \"\"\"\n",
        "    This function sorts a list according to the order specified by the 'order' argument.\n",
        "\n",
        "    Parameters:\n",
        "        a_list : the list to sort\n",
        "\n",
        "        order : must be \"ascending\" to sort the list in increasing order,\n",
        "                or \"descending\" to sort it in decreasing order\n",
        "\n",
        "    Returns:\n",
        "        The sorted list\n",
        "    \"\"\"\n",
        "    # Instructions to sort the list\n",
        "    if order == \"ascending\":\n",
        "        sorted_list = sorted(a_list)\n",
        "    else:\n",
        "        sorted_list = sorted(a_list, reverse=True)\n",
        "    \n",
        "    return sorted_list\n",
        "```\n",
        "\n",
        "The triple quotes `\"\"\"` mark the beginning and end of the documentation.\n",
        "\n",
        "You can display the documentation of a function using Python’s built-in help function:\n",
        "\n",
        "```python\n",
        "help(sort_list)\n",
        "```\n",
        "This will show the description and explain how to use the function."
      ],
      "metadata": {
        "id": "aPKlxEsTm1fZ"
      }
    },
    {
      "cell_type": "markdown",
      "source": [
        "---\n",
        "\n",
        "<center>\n",
        "\n",
        "### **🔍 Example : function Documentation Practice**\n",
        "\n",
        "</center>\n",
        "\n",
        "---\n",
        "\n",
        "- (a) : Display the documentation of Python’s built-in `len` function.\n",
        "\n",
        "`Note: A \"container\" refers to any object you can iterate over, such as a list, a tuple, a string, etc.`\n",
        "- (b) : Write a function named `total_len` that takes **a list of lists** as input and returns **the total number of elements in all the sublists**. Include a short documentation string describing its use.\n",
        "- (c) : Test the function on the following list:\n",
        "```python\n",
        "test_list = [\n",
        "    [1, 23, 1201, 21, 213, 2],\n",
        "    [2311, 12, 3, 4],\n",
        "    [11, 32, 1, 1, 2, 3, 3],\n",
        "    [1, 1, 1, 1, 1, 1, 1, 1, 1, 1, 1, 1, 1, 1]\n",
        "]\n",
        "```"
      ],
      "metadata": {
        "id": "2uR_lM4Kn5_g"
      }
    },
    {
      "cell_type": "code",
      "source": [
        "# TODO"
      ],
      "metadata": {
        "id": "rmUhp7__lrPC"
      },
      "execution_count": 9,
      "outputs": []
    },
    {
      "cell_type": "markdown",
      "source": [
        "---\n",
        "\n",
        "<center>\n",
        "\n",
        "## **📖 Recursive Functions**\n",
        "\n",
        "</center>\n",
        "\n",
        "---"
      ],
      "metadata": {
        "id": "RZRN3xTKpMej"
      }
    },
    {
      "cell_type": "markdown",
      "source": [
        "Recursion is the property of a function **calling itself within its own definition**.\n",
        "\n",
        "This kind of syntax can solve certain problems very elegantly, but it is less commonly used in Python because it can be difficult to predict the final result of a recursive function.\n",
        "\n",
        "The idea of recursion is to **simplify a problem repeatedly until the solution becomes trivial**.\n",
        "\n",
        "---\n",
        "\n",
        "**Example: Counting handshakes**\n",
        "\n",
        "Suppose N people shake hands with each other. How many handshakes occur in total?\n",
        "\n",
        "- Consider that one person shakes hands with the other **N-1 people**.\n",
        "- Then, you only need to count handshakes among the remaining **N-1 people**.\n",
        "- Continue this process until there are only **2 people left**, which results in **1 handshake**.\n",
        "\n",
        "We can implement this in Python using a recursive function:\n",
        "\n",
        "```python\n",
        "def count_handshakes(N):\n",
        "    # Base case: only 2 people\n",
        "    if N == 2:\n",
        "        # Only one handshake possible\n",
        "        return 1\n",
        "    # Recursive case: N > 2\n",
        "    else:\n",
        "        # Count N-1 handshakes for this person + handshakes among remaining N-1 people\n",
        "        return (N - 1) + count_handshakes(N - 1)\n",
        "```\n",
        "\n",
        "Examples:\n",
        "\n",
        "```python\n",
        "count_handshakes(2)\n",
        ">>> 1\n",
        "\n",
        "count_handshakes(4)\n",
        ">>> 6\n",
        "```\n",
        "\n",
        "This recursive function provides a simple solution to the handshake problem."
      ],
      "metadata": {
        "id": "6ndIleC4pQVM"
      }
    },
    {
      "cell_type": "markdown",
      "source": [
        "---\n",
        "\n",
        "<center>\n",
        "\n",
        "### **🔍 Example : recursive Factorial Function**\n",
        "\n",
        "</center>\n",
        "\n",
        "---\n",
        "\n",
        "- (a) : Define a recursive function factorial that computes the factorial of a number n.\n",
        "\n",
        "$$n! = 1×2×⋯×n$$\n",
        "\n",
        "Notice the recurrence relation:\n",
        "\n",
        "$$n!=n×(n−1)!$$\n",
        "\n",
        "We assume that\n",
        "$$0!=1.$$\n",
        "- (b) : Compute $5!$ (should return 120):"
      ],
      "metadata": {
        "id": "XKTgeJu9qjZ-"
      }
    },
    {
      "cell_type": "code",
      "source": [
        "# TODO"
      ],
      "metadata": {
        "id": "mN7lWbTOo4qZ"
      },
      "execution_count": 10,
      "outputs": []
    },
    {
      "cell_type": "markdown",
      "source": [
        "---\n",
        "\n",
        "<center>\n",
        "\n",
        "### **🔍 Example : recursive Fibonacci Function**\n",
        "\n",
        "</center>\n",
        "\n",
        "---\n",
        "\n",
        "- (a) : Define a recursive function `fibonacci` that returns the n-th term of the Fibonacci sequence.\n",
        "\n",
        "Initial conditions:\n",
        "\n",
        "$$F(0)=0$$\n",
        "$$F(1)=1$$\n",
        "\n",
        "Recurrence relation for $n>1$:\n",
        "\n",
        "$$F(n)=F(n−1)+F(n−2)$$\n",
        "- (b) : Compute $F(10)$ (should return 55).:"
      ],
      "metadata": {
        "id": "JZdwswdusUfg"
      }
    },
    {
      "cell_type": "code",
      "source": [
        "# TODO"
      ],
      "metadata": {
        "id": "uVoahbfrrvXg"
      },
      "execution_count": 11,
      "outputs": []
    },
    {
      "cell_type": "code",
      "source": [],
      "metadata": {
        "id": "L2tjdFE0uAiq"
      },
      "execution_count": 11,
      "outputs": []
    }
  ]
}