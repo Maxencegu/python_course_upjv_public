{
  "nbformat": 4,
  "nbformat_minor": 0,
  "metadata": {
    "colab": {
      "provenance": []
    },
    "kernelspec": {
      "name": "python3",
      "display_name": "Python 3"
    },
    "language_info": {
      "name": "python"
    }
  },
  "cells": [
    {
      "cell_type": "markdown",
      "source": [
        "---\n",
        "\n",
        "<center>\n",
        "\n",
        "# **Python pour la Data Science**\n",
        "\n",
        "### *Introduction aux DataFrames*\n",
        "\n",
        "</center>\n",
        "\n",
        "---\n"
      ],
      "metadata": {
        "id": "6UqIO5ZN7hD8"
      }
    },
    {
      "cell_type": "markdown",
      "source": [
        "---\n",
        "\n",
        "<center>\n",
        "\n",
        "## **📖 Introduction**\n",
        "\n",
        "</center>\n",
        "\n",
        "---\n"
      ],
      "metadata": {
        "id": "8QLZXk-K9WUm"
      }
    },
    {
      "cell_type": "markdown",
      "source": [
        "Le module **pandas** a été développé pour apporter à Python les outils nécessaires à la manipulation et à l’analyse de grands volumes de données.  \n",
        "\n",
        "Pandas introduit la **classe DataFrame**, une structure de données semblable à un tableau, mais bien plus puissante que les tableaux NumPy.  \n",
        "\n",
        "---\n",
        "\n",
        "### Principales fonctionnalités de pandas :  \n",
        "- 📂 Charger des données depuis des fichiers (CSV, Excel, etc.).  \n",
        "- ✏️ Manipuler ces données (ajouter/supprimer, modifier, nettoyer).  \n",
        "- 📊 Réaliser rapidement des analyses statistiques et des visualisations.  \n",
        "\n",
        "---\n",
        "\n",
        "### 🎯 Objectifs de ce notebook :  \n",
        "1. Comprendre la structure d’un **DataFrame**.  \n",
        "2. Créer un premier **DataFrame**.  \n",
        "3. Explorer un jeu de données avec pandas.\n"
      ],
      "metadata": {
        "id": "PXA6UO-w8G2M"
      }
    },
    {
      "cell_type": "markdown",
      "source": [
        "<center>\n",
        "\n",
        "### **🔍 Exemple : Importer le module pandas**\n",
        "\n",
        "</center>\n",
        "\n",
        "---\n",
        "\n",
        "- (a) Importer le module pandas"
      ],
      "metadata": {
        "id": "cxueXsjV-SWS"
      }
    },
    {
      "cell_type": "code",
      "source": [
        "# TODO"
      ],
      "metadata": {
        "id": "vi-bKN4e-c70"
      },
      "execution_count": null,
      "outputs": []
    },
    {
      "cell_type": "markdown",
      "source": [
        "---\n",
        "\n",
        "<center>\n",
        "\n",
        "## **📖 Format d’un DataFrame**\n",
        "\n",
        "</center>\n",
        "\n",
        "---\n"
      ],
      "metadata": {
        "id": "Wx72rTsmSgJ8"
      }
    },
    {
      "cell_type": "markdown",
      "source": [
        "Un **DataFrame** ressemble à une matrice où chaque ligne et chaque colonne possède un index.  \n",
        "En général, les colonnes sont indexées par leurs **noms**.  \n",
        "\n",
        "👉 Un DataFrame est utilisé pour stocker des bases de données.  \n",
        "- Les lignes = **entrées** de la base (personnes, animaux, objets, etc.).  \n",
        "- Les colonnes = **caractéristiques** de ces entrées.  \n",
        "\n",
        "---\n",
        "\n",
        "### Exemple :  \n",
        "|   | Nom    | Sexe | Taille | Âge |  \n",
        "|---|--------|------|--------|-----|  \n",
        "| 0 | Robert | M    | 174    | 23  |  \n",
        "| 1 | Marc   | M    | 182    | 40  |  \n",
        "| 2 | Aline  | F    | 169    | 56  |  \n",
        "\n",
        "- Ici nous avons **3 lignes** → 3 individus.  \n",
        "- Et **4 colonnes** → Nom, Sexe, Taille, Âge.  \n",
        "\n",
        "---\n",
        "\n",
        "### 📌 La colonne d’index\n",
        "L’index est la colonne tout à gauche qui numérote les lignes.  \n",
        "Ce n’est **pas une colonne comme les autres** du jeu de données.  \n",
        "\n",
        "On peut :  \n",
        "- Utiliser l’**index par défaut** (0, 1, 2 …).  \n",
        "- Indexer avec une des colonnes (par ex. *Nom*).  \n",
        "- Indexer avec une **liste personnalisée** que l’on fournit.  \n",
        "\n",
        "---\n",
        "\n",
        "### Exemples :\n",
        "\n",
        "#### Index par défaut :\n",
        "|   | Nom    | Sexe | Taille | Âge |  \n",
        "|---|--------|------|--------|-----|  \n",
        "| 0 | Robert | M    | 174    | 23  |  \n",
        "| 1 | Marc   | M    | 182    | 40  |  \n",
        "| 2 | Aline  | F    | 169    | 56  |  \n",
        "\n",
        "#### Indexé par \"Nom\" :\n",
        "|        | Sexe | Taille | Âge |  \n",
        "|--------|------|--------|-----|  \n",
        "| Robert | M    | 174    | 23  |  \n",
        "| Marc   | M    | 182    | 40  |  \n",
        "| Aline  | F    | 169    | 56  |  \n",
        "\n",
        "#### Indexé par une liste personnalisée :\n",
        "|            | Nom    | Sexe | Taille | Âge |  \n",
        "|------------|--------|------|--------|-----|  \n",
        "| personne_1 | Robert | M    | 174    | 23  |  \n",
        "| personne_2 | Marc   | M    | 182    | 40  |  \n",
        "| personne_3 | Aline  | F    | 169    | 56  |"
      ],
      "metadata": {
        "id": "BVuC1fzDTLFl"
      }
    },
    {
      "cell_type": "markdown",
      "source": [
        "---\n",
        "\n",
        "<center>\n",
        "\n",
        "## **📖 Créer un DataFrame à partir d’un dictionnaire**\n",
        "\n",
        "</center>\n",
        "\n",
        "---\n"
      ],
      "metadata": {
        "id": "oNUj8PTAHotf"
      }
    },
    {
      "cell_type": "markdown",
      "source": [
        "Il est possible de créer un DataFrame en utilisant un **dictionnaire Python**.  \n",
        "\n",
        "- Les colonnes peuvent contenir des **types différents** (nombres, chaînes de caractères, etc.).  \n",
        "- Les noms des colonnes sont **définis dès la création** du DataFrame.\n",
        "\n",
        "### Exemple :\n",
        "\n",
        "```python\n",
        "my_dic = {'A': [1, 5, 9],\n",
        "          'B': [2, 6, 10],\n",
        "          'C': [3, 7, 11],\n",
        "          'D': [4, 8, 12]}\n",
        "\n",
        "# Create a DataFrame\n",
        "df = pd.DataFrame(data = my_dic,\n",
        "                  index = ['i_1', 'i_2', 'i_3'])\n",
        ">>>\n",
        "      A   B    C    D\n",
        "i_1   1   2    3    4\n",
        "i_2   5   6    7    8\n",
        "i_3   9   10   11   12\n",
        "```"
      ],
      "metadata": {
        "id": "BbaGq1ZmCAb2"
      }
    },
    {
      "cell_type": "markdown",
      "source": [
        "<center>\n",
        "\n",
        "### **🔍 Exemple : Création d'un DataFrame à partir d'un dictionnaire**\n",
        "\n",
        "</center>\n",
        "\n",
        "---\n",
        "\n",
        "Le gérant d'une épicerie suit le stock des aliments suivants :  \n",
        "  - **100 pots de miel**, date de péremption : 10/08/2025, prix : 2€ chacun.  \n",
        "  - **55 sacs de farine**, date de péremption : 25/09/2024, prix : 3€ chacun.  \n",
        "  - **1800 bouteilles de vin**, date de péremption : 15/10/2023, prix : 10€ chacune.\n",
        "\n",
        "Tâche :  \n",
        "- (a) En utilisant un **dictionnaire Python**, créer et afficher un DataFrame `df` contenant pour chaque produit :  \n",
        "  - Nom du produit  \n",
        "  - Date de péremption  \n",
        "  - Quantité  \n",
        "  - Prix unitaire"
      ],
      "metadata": {
        "id": "d6Vk7-ORCdk8"
      }
    },
    {
      "cell_type": "code",
      "source": [
        "# TODO"
      ],
      "metadata": {
        "id": "Ti06ZVLJEZkO"
      },
      "execution_count": null,
      "outputs": []
    },
    {
      "cell_type": "markdown",
      "source": [
        "---\n",
        "\n",
        "<center>\n",
        "\n",
        "## **📖 Création d'un DataFrame à partir d'un fichier de données**\n",
        "\n",
        "</center>\n",
        "\n",
        "---"
      ],
      "metadata": {
        "id": "obl-E9bH-18X"
      }
    },
    {
      "cell_type": "markdown",
      "source": [
        "Le plus souvent, les DataFrames sont créés directement à partir de fichiers de données tels que **CSV, Excel ou fichiers texte**.  \n",
        "\n",
        "👉 Le format le plus courant est **CSV** (Comma-Separated Values, valeurs séparées par des virgules), qui représente un tableau similaire à une feuille de calcul où les valeurs sont séparées par un délimiteur (`,` par défaut, mais parfois `;` est utilisé).\n",
        "\n",
        "**Exemple de fichier CSV** :\n",
        "\n",
        "A,B,C,D\n",
        "\n",
        "1,2,3,4\n",
        "\n",
        "5,6,7,8\n",
        "\n",
        "9,10,11,12\n",
        "\n",
        "In this format:\n",
        "\n",
        "\n",
        "Dans ce format :\n",
        "\n",
        "- **La première ligne contient les noms des colonnes**, mais parfois les noms de colonnes **ne sont pas fournis**.\n",
        "- Chaque **ligne** correspond à une entrée dans la **base de données**.\n",
        "- Les valeurs sont **séparées par un délimiteur**. Dans cet exemple, c'est `','` mais cela pourrait aussi être `';'`.\n",
        "\n",
        "Pour importer ces données dans un DataFrame, on utilise ensuite la fonction pandas `read_csv`, dont l’en-tête est le suivant :\n",
        "\n",
        "```python\n",
        "pd.read_csv(filepath_or_buffer , sep = ',', header = 0, index_col = 0 ... )\n",
        "```\n",
        "Les arguments clés de la fonction `pd.read_csv` à connaître sont :\n",
        "\n",
        "- `filepath_or_buffer` : Le chemin vers le fichier .csv par rapport à l'environnement d'exécution.  \n",
        "  Si le fichier se trouve dans le même dossier que votre environnement Python, vous pouvez simplement fournir le nom du fichier  \n",
        "  (par exemple, `'mon_dataframe.csv'`). Ce chemin doit être fourni sous forme de chaîne de caractères.\n",
        "\n",
        "- `sep` : Le caractère utilisé dans le fichier .csv pour séparer les colonnes. Cet argument doit être spécifié comme un caractère.\n",
        "\n",
        "- `header` : Le numéro de la ligne contenant les noms des colonnes.  \n",
        "  Par exemple, si les noms des colonnes se trouvent dans la première ligne du fichier .csv, spécifiez `header=0`.  \n",
        "  Si les noms de colonnes ne sont pas présents, utilisez `header=None`.\n",
        "\n",
        "- `index_col` : Le nom ou le numéro de la colonne à utiliser comme étiquettes des lignes du DataFrame.  \n",
        "  Si les entrées sont indexées par la première colonne, définissez `index_col=0`.  \n",
        "  Sinon, si les lignes sont indexées par une colonne nommée \"Id\", vous pouvez spécifier `index_col=\"Id\"`.\n",
        "\n",
        "Cette fonction retourne un objet `DataFrame` contenant toutes les données du fichier."
      ],
      "metadata": {
        "id": "l-vZ27KlBU2v"
      }
    },
    {
      "cell_type": "markdown",
      "source": [
        "<center>\n",
        "\n",
        "### **🔍 Exemple : Charger des données dans un DataFrame**\n",
        "\n",
        "</center>\n",
        "\n",
        "---\n",
        "- (a) Charger les données du fichier `transactions.csv` dans un DataFrame nommé `transactions` :\n",
        "    - Le fichier se trouve dans le même dossier que cet environnement de notebook.\n",
        "    - Les colonnes sont séparées par une virgule.\n",
        "    - Les noms des colonnes sont fournis dans la première ligne du fichier.\n",
        "    - Les lignes sont indexées par la colonne \"transaction_id\", qui est également la première colonne."
      ],
      "metadata": {
        "id": "j8R-Cx2VCf-O"
      }
    },
    {
      "cell_type": "code",
      "source": [
        "# TODO"
      ],
      "metadata": {
        "id": "tEpAID8ECZln"
      },
      "execution_count": null,
      "outputs": []
    },
    {
      "cell_type": "markdown",
      "source": [
        "**Chargement d’un jeu de données réel : `transactions.csv`**\n",
        "\n",
        "Nous venons de charger le fichier **`transactions.csv`** dans un DataFrame pandas nommé **`transactions`**.  \n",
        "Ce jeu de données contient l’historique des transactions financières effectuées entre **2011 et 2014**.\n",
        "\n",
        "**Pourquoi utiliser un jeu de données ?**\n",
        "\n",
        "Travailler sur un jeu de données réel permet de :\n",
        "- S’exercer au **chargement** et à **nettoyage des données**.  \n",
        "- Explorer la **structure d’un DataFrame**.  \n",
        "- Réaliser des **analyses statistiques** et des **visualisations**.  \n",
        "\n",
        "**Rappel**\n",
        "\n",
        "Nous chargeons généralement un fichier CSV avec :\n",
        "\n",
        "```python\n",
        "import pandas as pd\n",
        "\n",
        "# Load CSV file into a DataFrame\n",
        "transactions = pd.read_csv(\"transactions.csv\")\n",
        "\n",
        "# Display the first rows of the dataset\n",
        "transactions.head()\n",
        "```\n",
        "Dans la section suivante, nous allons explorer le jeu de données afin de comprendre sa structure, ses colonnes et son contenu."
      ],
      "metadata": {
        "id": "z8edxml2jROA"
      }
    },
    {
      "cell_type": "markdown",
      "source": [
        "---\n",
        "\n",
        "<center>\n",
        "\n",
        "## **📖 Première exploration d'un jeu de données avec `pandas.DataFrame`**\n",
        "\n",
        "</center>\n",
        "\n",
        "---"
      ],
      "metadata": {
        "id": "7D1kKpB5DDo5"
      }
    },
    {
      "cell_type": "markdown",
      "source": [
        "\n",
        "Maintenant que nous avons chargé le jeu de données dans un DataFrame (`transactions`),  \n",
        "explorons-le en utilisant quelques **méthodes de base** fournies par la bibliothèque `pandas`.\n",
        "\n",
        "**Aperçu rapide des données**\n",
        "\n",
        "- **`head()`** → Affiche les 5 premières lignes (par défaut).  \n",
        "- **`.columns`** → Liste les noms des colonnes.  \n",
        "- **`.shape`** → Renvoie le nombre de lignes et de colonnes.\n",
        "\n",
        "```python\n",
        "# Display the first 5 rows\n",
        "transactions.head()\n",
        "\n",
        "# Display the list of column names\n",
        "transactions.columns\n",
        "\n",
        "# Display the dimensions of the DataFrame (rows, columns)\n",
        "transactions.shape\n",
        "```\n",
        "\n",
        "**Sélection de données**\n",
        "\n",
        "Il existe deux principales façons d'accéder aux lignes/colonnes dans un DataFrame :\n",
        "\n",
        "- **`.loc[]`** → Sélection par étiquettes (noms des lignes/colonnes).  \n",
        "- **`.iloc[]`** → Sélection par indices (positions des lignes/colonnes).\n",
        "\n",
        "```python\n",
        "# Select one row by index (first row)\n",
        "transactions.iloc[0]\n",
        "\n",
        "# Select multiple rows (first 3 rows)\n",
        "transactions.iloc[0:3]\n",
        "\n",
        "# Select a specific column by label\n",
        "transactions.loc[:, \"amount\"]\n",
        "\n",
        "# Select a specific row and column by label\n",
        "transactions.loc[80712190438, \"Store_type\"]\n",
        "```\n",
        "\n",
        "**Aperçu statistique rapide**\n",
        "\n",
        "- **`describe()`** → Génère des statistiques résumées (moyenne, écart-type, min, max, quartiles).  \n",
        "\n",
        "- **`value_counts()`** → Compte le nombre d’occurrences de chaque valeur unique dans une colonne."
      ],
      "metadata": {
        "id": "DRAU0hF6DgKs"
      }
    },
    {
      "cell_type": "markdown",
      "source": [
        "---\n",
        "\n",
        "<center>\n",
        "\n",
        "## **📖 Aperçu d’un DataFrame : `head()`, `tail()`, `columns` et `shape`**\n",
        "\n",
        "</center>\n",
        "\n",
        "---"
      ],
      "metadata": {
        "id": "vw9_WmDtEXvh"
      }
    },
    {
      "cell_type": "markdown",
      "source": [
        "Vous pouvez obtenir un aperçu rapide d’un jeu de données en affichant seulement les premières lignes d’un DataFrame.\n",
        "\n",
        "- Utilisez la méthode `head()` pour afficher les premières lignes. Vous pouvez passer en argument le nombre de lignes que vous souhaitez afficher (par défaut 5) :\n",
        "\n",
        "```python\n",
        "transactions.head(10)  # Display the first 10 rows\n",
        "```\n",
        "\n",
        "- De même, utilisez `tail()` pour afficher les dernières lignes du DataFrame :\n",
        "\n",
        "```python\n",
        "transactions.tail(20)  # Display the last 20 rows\n",
        "```\n",
        "\n",
        "- Pour voir les noms des colonnes d’un DataFrame, utilisez l’attribut `columns` :\n",
        "\n",
        "```python\n",
        "transactions.columns\n",
        "```\n",
        "\n",
        "- Pour vérifier la taille du DataFrame (nombre de lignes et de colonnes), utilisez l’attribut `shape` :\n",
        "\n",
        "```python\n",
        "transactions.shape\n",
        "```\n",
        "Ces outils sont très utiles pour comprendre rapidement la structure et le contenu de votre jeu de données."
      ],
      "metadata": {
        "id": "M0_Tfi1oGFkS"
      }
    },
    {
      "cell_type": "markdown",
      "source": [
        "Nous allons pratiquer quelques méthodes de base pour explorer un DataFrame avec le jeu de données **`transactions`**.\n",
        "\n",
        "- (a) Affichez les 20 premières lignes du DataFrame.\n",
        "- (b) Affichez les 10 dernières lignes du DataFrame.\n",
        "- (c) Affichez les dimensions (nombre de lignes et de colonnes) du DataFrame ainsi que le nom de la 5ᵉ colonne.  \n",
        "💡 *Rappel : en Python, l'indexation commence à 0 !*"
      ],
      "metadata": {
        "id": "_hjhWsFrCcXE"
      }
    },
    {
      "cell_type": "code",
      "source": [
        "# TODO"
      ],
      "metadata": {
        "id": "iBR2LerGESka"
      },
      "execution_count": null,
      "outputs": []
    },
    {
      "cell_type": "markdown",
      "source": [
        "---\n",
        "<center>\n",
        "\n",
        "## **📖 Sélection des colonnes dans un DataFrame**\n",
        "\n",
        "</center>\n",
        "\n",
        "---"
      ],
      "metadata": {
        "id": "h00VmqbXDwfa"
      }
    },
    {
      "cell_type": "markdown",
      "source": [
        "Extraire des colonnes d'un **DataFrame** est très similaire à l'extraction de données depuis un dictionnaire.\n",
        "\n",
        "---\n",
        "\n",
        "- Extraction d'une seule colonne\n",
        "\n",
        "Pour extraire une colonne, indiquez son nom entre crochets :\n",
        "\n",
        "```python\n",
        "# Display the column 'cust_id'\n",
        "print(transactions['cust_id'])\n",
        "```\n",
        "\n",
        "- Extraction de plusieurs colonnes\n",
        "\n",
        "Pour extraire plusieurs colonnes, passez une liste de noms de colonnes entre les crochets (il faut donc utiliser des crochets doubles) :\n",
        "\n",
        "```python\n",
        "# Extract the columns 'cust_id' and 'Qty' from transactions\n",
        "cust_id_qty = transactions[[\"cust_id\", \"Qty\"]]\n",
        "```\n",
        "`cust_id_qty` est maintenant un nouveau DataFrame ne contenant que les colonnes `'cust_id'` et `'Qty'`.\n",
        "\n",
        "Exemple de résultat (3 premières lignes) :\n",
        "\n",
        "```python\n",
        "cust_id_qty.head(3)\n",
        ">>>\n",
        "```\n",
        "\n",
        "| transactions_id | cust_id | Qty |\n",
        "|-----------------|---------|-----|\n",
        "| 80712190438     | 270351  | -5  |\n",
        "| 29258453508     | 270384  | -5  |\n",
        "| 51750724947     | 273420  | -2  |\n",
        "\n",
        "**Variables catégorielles vs variables quantitatives**\n",
        "\n",
        "Lors de la préparation d’un jeu de données, il est important de séparer les variables catégorielles des variables quantitatives.\n",
        "\n",
        "- Variable catégorielle → contient des catégories ou des étiquettes, sans ordre naturel.  \n",
        "Exemple : couleur préférée, pays, nationalité.\n",
        "\n",
        "  👉 Dans notre DataFrame `transactions`, les variables catégorielles sont :  \n",
        "  `['cust_id', 'tran_date', 'prod_subcat_code', 'prod_cat_code', 'Store_type']`\n",
        "\n",
        "  - `cust_id` → L’ID du client (identifiant unique pour chaque client).  \n",
        "  - `tran_date` → La date de la transaction (quand l’achat ou le retour a eu lieu).  \n",
        "  - `prod_subcat_code` → Le code de la sous-catégorie du produit (ex. : “Pantalons” si la catégorie principale est “Vêtements”).  \n",
        "  - `prod_cat_code` → Le code de la catégorie du produit (ex. : “Vêtements”).  \n",
        "  - `Store_type` → Le type de magasin où la transaction a eu lieu (ex. : Boutique en ligne, Supermarché, Magasin spécialisé).  \n",
        "\n",
        "- Variable quantitative → mesure une quantité numérique, avec un ordre.  \n",
        "Exemple : taille, poids, âge.\n",
        "\n",
        "  👉 Dans notre DataFrame `transactions`, les variables quantitatives sont :  \n",
        "  `['Qty', 'Rate', 'Tax', 'total_amt']`\n",
        "\n",
        "  - `Qty` → La quantité achetée (peut être négative si le produit a été retourné).  \n",
        "  - `Rate` → Le prix unitaire du produit (hors taxe).  \n",
        "  - `Tax` → Le montant de la taxe appliquée à la transaction.  \n",
        "  - `total_amt` → Le montant total de la transaction (= quantité × prix unitaire + taxe).  \n",
        "\n",
        "⚠️ Pourquoi est-ce important ?\n",
        "\n",
        "Certaines opérations de base (comme calculer une moyenne) n’ont de sens que pour les variables quantitatives."
      ],
      "metadata": {
        "id": "G4mWzwW3D14Z"
      }
    },
    {
      "cell_type": "markdown",
      "source": [
        "<center>\n",
        "\n",
        "### **🔍 Exemple : Séparer les variables catégorielles et quantitatives**\n",
        "\n",
        "</center>\n",
        "\n",
        "---\n",
        "\n",
        "Nous allons maintenant nous entraîner à séparer notre jeu de données en variables catégorielles et variables quantitatives.\n",
        "\n",
        "- (a) Dans un DataFrame nommé **`cat_vars`**, stockez les variables catégorielles de `transactions`.  \n",
        "- (b) Dans un DataFrame nommé **`num_vars`**, stockez les variables quantitatives de `transactions`.  \n",
        "- (c) Affichez les 5 premières lignes de chaque DataFrame.\n"
      ],
      "metadata": {
        "id": "cGrv7VTzI_r4"
      }
    },
    {
      "cell_type": "code",
      "source": [
        "# TODO"
      ],
      "metadata": {
        "id": "ga8TLXnuG_SP"
      },
      "execution_count": null,
      "outputs": []
    },
    {
      "cell_type": "markdown",
      "source": [
        "---\n",
        "\n",
        "<center>\n",
        "\n",
        "## **📖 Sélection des lignes dans un DataFrame : `loc` et `iloc`**\n",
        "\n",
        "</center>\n",
        "\n",
        "---\n"
      ],
      "metadata": {
        "id": "mvWophjIJ5VJ"
      }
    },
    {
      "cell_type": "markdown",
      "source": [
        "Pour extraire une ou plusieurs lignes d’un DataFrame, nous utilisons la méthode **`loc`**.\n",
        "\n",
        "Cette méthode est spéciale car les arguments sont placés **entre crochets `[]`** au lieu de parenthèses `()`.\n",
        "\n",
        "- **Exemple 1** : Sélection d’une seule ligne avec `loc`  \n",
        "Si nous voulons récupérer la ligne avec l’index `80712190438` :\n",
        "\n",
        "  ```python\n",
        "  # Get row with index 80712190438 from num_vars DataFrame\n",
        "  num_vars.loc[80712190438]\n",
        "  >>>\n",
        "  ```\n",
        "  | transaction_id | Qty |  Rate  |   Tax  | total_amt |\n",
        "|----------------|-----|--------|--------|-----------|\n",
        "| 80712190438    | -5  | -772.0 | 405.3  | -4265.3   |\n",
        "| 80712190438    |  5  |  772.0 | 405.3  |  4265.3   |\n",
        "\n",
        "- **Exemple 2** : Sélection de plusieurs lignes avec `loc`  \n",
        "Nous pouvons passer :  \n",
        "  - une liste d’indices  \n",
        "  - ou utiliser le découpage (slicing) (`start:end`).\n",
        "\n",
        "  ```python\n",
        "  # Select multiple rows using their indices\n",
        "  num_vars.loc[[80712190438, 29258453508, 51750724947]]\n",
        "  >>>\n",
        "  ```\n",
        "\n",
        "- **Exemple 3** : Sélection simultanée de lignes et de colonnes avec `loc`  \n",
        "Nous pouvons également préciser quelles colonnes extraire.\n",
        "\n",
        "  ```python\n",
        "  # Select only 'Tax' and 'total_amt' for two transactions\n",
        "  transactions.loc[[80712190438, 29258453508], ['Tax', 'total_amt']]\n",
        "  >>>\n",
        "  ```\n",
        " | transaction_id | Tax     | total_amt |\n",
        "|----------------|---------|-----------|\n",
        "| 80712190438    | 405.300 | -4265.300 |\n",
        "| 80712190438    | 405.300 |  4265.300 |\n",
        "| 29258453508    | 785.925 | -8270.925 |\n",
        "| 29258453508    | 785.925 |  8270.925 |\n",
        "\n",
        "- **Exemple 4** : Utilisation de `iloc`  \n",
        "\n",
        "La méthode `iloc` fonctionne comme les tableaux NumPy :  \n",
        "nous utilisons uniquement des indices numériques pour les lignes et les colonnes.\n",
        "\n",
        "  ```python\n",
        "  # Extract the first 4 rows and the first 3 columns\n",
        "  transactions.iloc[0:4, 0:3]\n",
        "  >>>\n",
        "  ```\n",
        "| transaction_id | cust_id |  tran_date  | prod_subcat_code |\n",
        "|----------------|---------|-------------|-----------------|\n",
        "| 80712190438    | 270351  | 28/02/2014  | 1.0             |\n",
        "| 29258453508    | 270384  | 27/02/2014  | 5.0             |\n",
        "| 51750724947    | 273420  | 24/02/2014  | 6.0             |\n",
        "| 93274880719    | 271509  | 24/02/2014  | 11.0            |\n",
        "\n",
        "- Résumé  \n",
        "  - `loc` → sélection par étiquettes (noms de lignes/colonnes).  \n",
        "  - `iloc` → sélection par positions numériques (indices de lignes/colonnes).  \n",
        "\n",
        "Si le DataFrame utilise l’index entier par défaut (0, 1, 2, ...), alors `loc` et `iloc` donnent souvent le même résultat.\n"
      ],
      "metadata": {
        "id": "nqi9qQlXJ_Eg"
      }
    },
    {
      "cell_type": "markdown",
      "source": [
        "---\n",
        "\n",
        "<center>\n",
        "\n",
        "## **📖 Indexation conditionnelle d’un DataFrame**\n",
        "\n",
        "</center>\n",
        "\n",
        "---\n"
      ],
      "metadata": {
        "id": "HSXIBgMsPa9O"
      }
    },
    {
      "cell_type": "markdown",
      "source": [
        "Nous pouvons utiliser **l’indexation conditionnelle** pour extraire les lignes d’un DataFrame qui satisfont une condition donnée.  \n",
        "\n",
        "Dans l’exemple suivant, nous sélectionnons les lignes du DataFrame `df` où la colonne **col 2** est égale à `3`.  \n",
        "\n",
        "Il existe deux syntaxes pour l’indexation conditionnelle :\n",
        "\n",
        "```python\n",
        "# Select rows where column 'col 2' equals 3\n",
        "df[df['col 2'] == 3]\n",
        "\n",
        "# Alternative using loc\n",
        "df.loc[df['col 2'] == 3]\n",
        "```\n",
        "⚠️ Important :\n",
        "\n",
        "Si nous voulons attribuer une nouvelle valeur à ces entrées, il faut absolument utiliser la méthode `.loc`.  \n",
        "L’utilisation de la syntaxe `df[df['col 2'] == 3]` ne renvoie qu’une copie des entrées et ne donne pas accès à l’emplacement mémoire d’origine des données."
      ],
      "metadata": {
        "id": "nWdg8EX9P5-p"
      }
    },
    {
      "cell_type": "markdown",
      "source": [
        "<center>\n",
        "\n",
        "### **🔍 Exemple : Filtrer les transactions par type de magasin**\n",
        "\n",
        "</center>\n",
        "\n",
        "---\n",
        "Le responsable des transactions enregistrées dans le DataFrame `transactions` souhaite accéder aux **ID des clients** ayant effectué un achat en ligne (c’est-à-dire dans un `\"e-Shop\"`) ainsi qu’aux **dates de transaction** correspondantes.\n",
        "\n",
        "Nous disposons des informations suivantes sur les colonnes de `transactions` :\n",
        "\n",
        "| Nom de colonne | Description                                         |\n",
        "|----------------|-----------------------------------------------------|\n",
        "| `cust_id`      | ID des clients                                      |\n",
        "| `Store_type`   | Type de magasin où la transaction a eu lieu        |\n",
        "| `tran_date`    | Date des transactions                               |\n",
        "\n",
        "---\n",
        "\n",
        "- (a) Créez un nouveau DataFrame nommé `transactions_eshop` contenant uniquement les transactions ayant eu lieu dans un `\"e-Shop\"`.  \n",
        "\n",
        "- (b) Créez un autre DataFrame nommé `transactions_id_date` qui stocke les **ID des clients** et les **dates des transactions** à partir du DataFrame `transactions_eshop`.  \n",
        "\n",
        "- (c) Affichez les 5 premières lignes de `transactions_id_date`.\n"
      ],
      "metadata": {
        "id": "SPTQxYSVQeVE"
      }
    },
    {
      "cell_type": "code",
      "source": [
        "# TODO"
      ],
      "metadata": {
        "id": "UCF5la2EP5gr"
      },
      "execution_count": null,
      "outputs": []
    },
    {
      "cell_type": "markdown",
      "source": [
        "<center>\n",
        "\n",
        "### **🔍 Exemple : Sélection conditionnelle et agrégation**\n",
        "\n",
        "</center>\n",
        "\n",
        "---\n",
        "Le responsable du magasin souhaite maintenant se concentrer sur un client spécifique.\n",
        "\n",
        "- (a) Créez un DataFrame nommé `transactions_client_268819` contenant toutes les transactions où l’ID du client est `268819`.  \n",
        "\n",
        "- (b) Une colonne d’un DataFrame peut être parcourue comme une liste dans une boucle `for`. En utilisant une boucle sur la colonne `'total_amt'`, calculez et affichez le montant total des transactions pour le client `268819`."
      ],
      "metadata": {
        "id": "iiPl8hjVSaFM"
      }
    },
    {
      "cell_type": "code",
      "source": [
        "# TODO"
      ],
      "metadata": {
        "id": "B1Cl8T-UQG7y"
      },
      "execution_count": null,
      "outputs": []
    },
    {
      "cell_type": "markdown",
      "source": [
        "---\n",
        "\n",
        "<center>\n",
        "\n",
        "## **📖 Étude statistique rapide d’un DataFrame**\n",
        "\n",
        "</center>\n",
        "\n",
        "---\n"
      ],
      "metadata": {
        "id": "I4TkSe18VFpk"
      }
    },
    {
      "cell_type": "markdown",
      "source": [
        "La méthode `describe()` d’un DataFrame renvoie un résumé des statistiques descriptives (minimum, maximum, moyenne, quantiles, etc.) pour ses variables numériques.\n",
        "\n",
        "C’est un outil très utile pour visualiser rapidement le type et la distribution de ces variables.\n",
        "\n",
        "```python\n",
        "# Display descriptive statistics of the numerical variables\n",
        "print(num_vars.describe())\n",
        "```\n",
        "\n",
        "Pour les variables catégorielles, il est souvent préférable de commencer par la méthode `value_counts()`, qui renvoie le nombre d’occurrences de chaque catégorie.\n",
        "\n",
        "⚠️ Remarque : la méthode `value_counts()` ne peut pas être utilisée directement sur un DataFrame entier, mais uniquement sur une seule colonne, car elle fonctionne sur des objets de type `pd.Series`.\n",
        "\n",
        "```python\n",
        "# Count the number of transactions per store type\n",
        "print(transactions[\"Store_type\"].value_counts())\n",
        "```"
      ],
      "metadata": {
        "id": "2u-2GrFmVQFX"
      }
    },
    {
      "cell_type": "markdown",
      "source": [
        "<center>\n",
        "\n",
        "### **🔍 Exemple : Étude statistique rapide d’un DataFrame**\n",
        "\n",
        "</center>\n",
        "\n",
        "---\n",
        "- (a) Utilisez la méthode `describe()` sur le DataFrame `transactions`.  \n",
        "- (b) Les variables numériques sont : `Qty`, `Rate`, `Tax` et `total_amt`. Par défaut, les statistiques produites par la méthode `describe()` sont-elles calculées uniquement sur les variables numériques ?  \n",
        "- (c) Affichez le nombre d’occurrences de chaque catégorie de la variable `Store_type` en utilisant la méthode `value_counts`.\n"
      ],
      "metadata": {
        "id": "1x4e0ZycVy7U"
      }
    },
    {
      "cell_type": "code",
      "source": [
        "# TODO"
      ],
      "metadata": {
        "id": "o0tOPoINTHGi"
      },
      "execution_count": null,
      "outputs": []
    },
    {
      "cell_type": "markdown",
      "source": [
        "Interprétation de `describe()` sur des variables catégorielles\n",
        "\n",
        "La méthode `describe()` a calculé des statistiques sur les colonnes `cust_id`, `prod_subcat_code` et `prod_cat_code` même si ce sont des variables catégorielles.\n",
        "\n",
        "Ces statistiques n’ont pas de sens pour des données catégorielles. La méthode les a traitées comme quantitatives car les valeurs sont numériques.\n",
        "\n",
        "⚠️ À retenir : soyez toujours prudent lors de l’interprétation des résultats de `describe()`. Assurez-vous de comprendre le type de chaque variable dans votre DataFrame avant de tirer des conclusions."
      ],
      "metadata": {
        "id": "qHSh_6z1ZVhY"
      }
    },
    {
      "cell_type": "markdown",
      "source": [
        "<center>\n",
        "\n",
        "### **🔍 Exemple : Résumé rapide des transactions**\n",
        "\n",
        "</center>\n",
        "\n",
        "---\n",
        "Le responsable souhaite générer un rapport rapide sur les transactions. En particulier, il s’intéresse au `montant moyen` dépensé et à la `quantité maximale` achetée.\n",
        "\n",
        "(a) Quel est le `montant total moyen` dépensé ? Concentrez-vous sur la colonne `total_amt` du DataFrame `transactions`.  \n",
        "\n",
        "(b) Quelle est la `quantité maximale achetée` ? Concentrez-vous sur la colonne `Qty` du DataFrame `transactions`."
      ],
      "metadata": {
        "id": "0kL3YZoNZvUs"
      }
    },
    {
      "cell_type": "code",
      "source": [
        "# TODO"
      ],
      "metadata": {
        "id": "hdQ_EDDXXFEp"
      },
      "execution_count": null,
      "outputs": []
    },
    {
      "cell_type": "markdown",
      "source": [
        "Certaines transactions ont des montants négatifs.  \n",
        "Celles-ci correspondent à des transactions annulées qui ont été remboursées au client.\n",
        "\n",
        "Ces montants négatifs peuvent fausser la distribution de la variable `total_amt`, entraînant des estimations inexactes de la moyenne et des quantiles.\n",
        "\n",
        "Il est donc important de filtrer ou de traiter ces cas avant de réaliser une analyse statistique."
      ],
      "metadata": {
        "id": "XmUrh-05a7RM"
      }
    },
    {
      "cell_type": "markdown",
      "source": [
        "<center>\n",
        "\n",
        "### **🔍 Exemple : Moyenne des transactions positives**\n",
        "\n",
        "</center>\n",
        "\n",
        "---\n",
        "- (a) Calculez la moyenne de la colonne `total_amt` pour les transactions dont le montant est positif."
      ],
      "metadata": {
        "id": "_EkULstQbTHE"
      }
    },
    {
      "cell_type": "code",
      "source": [
        "# TODO"
      ],
      "metadata": {
        "id": "c1YlWYNuaQoY"
      },
      "execution_count": null,
      "outputs": []
    },
    {
      "cell_type": "markdown",
      "source": [
        "---\n",
        "\n",
        "<center>\n",
        "\n",
        "## **📖 Conclusion et résumé**\n",
        "\n",
        "</center>\n",
        "\n",
        "---\n"
      ],
      "metadata": {
        "id": "haPfgDjdcQxE"
      }
    },
    {
      "cell_type": "markdown",
      "source": [
        "La classe DataFrame de pandas sera votre structure de données de référence pour explorer, analyser et traiter des jeux de données.\n",
        "\n",
        "Dans cette brève introduction, vous avez appris à :\n",
        "\n",
        "- Créer un DataFrame à partir d’un dictionnaire en utilisant `pd.DataFrame`.  \n",
        "- Créer un DataFrame à partir d’un fichier `.csv` en utilisant `pd.read_csv`.  \n",
        "- Prévisualiser les premières et dernières lignes d’un DataFrame avec les méthodes `head` et `tail`.  \n",
        "- Sélectionner une ou plusieurs colonnes d’un DataFrame en indiquant leur nom entre crochets, de manière similaire à un dictionnaire.  \n",
        "- Sélectionner une ou plusieurs lignes d’un DataFrame en précisant leurs indices avec `loc` et `iloc`.  \n",
        "- Filtrer les lignes d’un DataFrame qui satisfont une condition spécifique grâce à l’indexation conditionnelle.  \n",
        "- Effectuer un aperçu statistique rapide des variables quantitatives d’un DataFrame avec la méthode `describe`.  \n",
        "\n",
        "En pratique, les jeux de données sont rarement parfaitement propres : valeurs manquantes, doublons ou entrées incohérentes sont fréquents.  \n",
        "Dans la section suivante, nous apprendrons à nettoyer et prétraiter les jeux de données avec pandas, une étape cruciale avant toute analyse significative."
      ],
      "metadata": {
        "id": "-2FIhAlWcMNw"
      }
    }
  ]
}