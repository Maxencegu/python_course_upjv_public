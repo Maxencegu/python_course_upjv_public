{
  "nbformat": 4,
  "nbformat_minor": 0,
  "metadata": {
    "colab": {
      "provenance": []
    },
    "kernelspec": {
      "name": "python3",
      "display_name": "Python 3"
    },
    "language_info": {
      "name": "python"
    }
  },
  "cells": [
    {
      "cell_type": "markdown",
      "source": [
        "---\n",
        "\n",
        "<center>\n",
        "\n",
        "# **Python for Data Science**\n",
        "\n",
        "### *Introduction to DataFrames*\n",
        "\n",
        "</center>\n"
      ],
      "metadata": {
        "id": "6UqIO5ZN7hD8"
      }
    },
    {
      "cell_type": "markdown",
      "source": [
        "---\n",
        "\n",
        "<center>\n",
        "\n",
        "## **📖 Introduction**\n",
        "\n",
        "</center>\n",
        "\n",
        "---\n"
      ],
      "metadata": {
        "id": "8QLZXk-K9WUm"
      }
    },
    {
      "cell_type": "markdown",
      "source": [
        "The **pandas** module was developed to bring Python the necessary tools to manipulate and analyze large volumes of data.  \n",
        "\n",
        "Pandas introduces the **DataFrame class**, a data structure similar to a table, but much more powerful than NumPy arrays.  \n",
        "\n",
        "---\n",
        "\n",
        "### Main features of pandas:\n",
        "- 📂 Loading data from files (CSV, Excel, etc.).  \n",
        "- ✏️ Manipulating this data (adding/removing, modifying, cleaning).  \n",
        "- 📊 Performing quick statistical analysis and visualization.  \n",
        "\n",
        "---\n",
        "\n",
        "### 🎯 Objectives of this notebook:\n",
        "1. Understand the structure of a **DataFrame**.  \n",
        "2. Create a first **DataFrame**.  \n",
        "3. Explore a dataset using pandas.\n"
      ],
      "metadata": {
        "id": "PXA6UO-w8G2M"
      }
    },
    {
      "cell_type": "markdown",
      "source": [
        "<center>\n",
        "\n",
        "### **🔍 Example: Import the pandas module**\n",
        "\n",
        "</center>\n",
        "\n",
        "---\n",
        "\n",
        "- (a) Import the pandas module"
      ],
      "metadata": {
        "id": "cxueXsjV-SWS"
      }
    },
    {
      "cell_type": "code",
      "source": [
        "# TODO"
      ],
      "metadata": {
        "id": "vi-bKN4e-c70"
      },
      "execution_count": 45,
      "outputs": []
    },
    {
      "cell_type": "markdown",
      "source": [
        "---\n",
        "\n",
        "<center>\n",
        "\n",
        "## **📖 Format of a DataFrame**\n",
        "\n",
        "</center>\n",
        "\n",
        "---\n"
      ],
      "metadata": {
        "id": "Wx72rTsmSgJ8"
      }
    },
    {
      "cell_type": "markdown",
      "source": [
        "A **DataFrame** looks like a matrix where each row and column has an index.  \n",
        "Usually, columns are indexed by their names.  \n",
        "\n",
        "👉 A DataFrame is used to store databases.  \n",
        "- Rows = **entries** of the dataset (people, animals, objects, etc.).  \n",
        "- Columns = **characteristics** of these entries.  \n",
        "\n",
        "---\n",
        "\n",
        "### Example:  \n",
        "|   | Name   | Sex | Height | Age |  \n",
        "|---|--------|-----|--------|-----|  \n",
        "| 0 | Robert | M   | 174    | 23  |  \n",
        "| 1 | Mark   | M   | 182    | 40  |  \n",
        "| 2 | Aline  | F   | 169    | 56  |  \n",
        "\n",
        "- Here we have **3 rows** → 3 individuals.  \n",
        "- And **4 columns** → Name, Sex, Height, Age.  \n",
        "\n",
        "---\n",
        "\n",
        "### 📌 The index column\n",
        "The index is the left-most column that numbers the rows.  \n",
        "It is **not managed like the other columns** of the dataset.  \n",
        "\n",
        "We can:  \n",
        "- Use the **default index** (0, 1, 2 …).  \n",
        "- Index with one of the columns (e.g., Name).  \n",
        "- Index with a **custom list** we provide.  \n",
        "\n",
        "---\n",
        "\n",
        "### Examples:\n",
        "\n",
        "#### Default index:\n",
        "|   | Name   | Sex | Height | Age |  \n",
        "|---|--------|-----|--------|-----|  \n",
        "| 0 | Robert | M   | 174    | 23  |  \n",
        "| 1 | Mark   | M   | 182    | 40  |  \n",
        "| 2 | Aline  | F   | 169    | 56  |  \n",
        "\n",
        "#### Indexed by \"Name\":\n",
        "|        | Sex | Height | Age |  \n",
        "|--------|-----|--------|-----|  \n",
        "| Robert | M   | 174    | 23  |  \n",
        "| Mark   | M   | 182    | 40  |  \n",
        "| Aline  | F   | 169    | 56  |  \n",
        "\n",
        "#### Indexed by custom list:\n",
        "|            | Name   | Sex | Height | Age |  \n",
        "|------------|--------|-----|--------|-----|  \n",
        "| person_1   | Robert | M   | 174    | 23  |  \n",
        "| person_2   | Mark   | M   | 182    | 40  |  \n",
        "| person_3   | Aline  | F   | 169    | 56  |  "
      ],
      "metadata": {
        "id": "BVuC1fzDTLFl"
      }
    },
    {
      "cell_type": "markdown",
      "source": [
        "---\n",
        "\n",
        "<center>\n",
        "\n",
        "## **📖 Creating a DataFrame from a Dictionary**\n",
        "\n",
        "</center>\n",
        "\n",
        "---\n"
      ],
      "metadata": {
        "id": "oNUj8PTAHotf"
      }
    },
    {
      "cell_type": "markdown",
      "source": [
        "\n",
        "It'spossible to create a DataFrame by using a **Python dictionary**.  \n",
        "\n",
        "- Columns can contain **different types** (numbers, strings, etc.).  \n",
        "- Column names are **already defined** when creating the DataFrame.\n",
        "\n",
        "### Example :\n",
        "\n",
        "```python\n",
        "my_dic = {'A': [1, 5, 9],\n",
        "          'B': [2, 6, 10],\n",
        "          'C': [3, 7, 11],\n",
        "          'D': [4, 8, 12]}\n",
        "\n",
        "# Create a DataFrame\n",
        "df = pd.DataFrame(data = my_dic,\n",
        "                  index = ['i_1', 'i_2', 'i_3'])\n",
        ">>>\n",
        "      A   B    C    D\n",
        "i_1   1   2    3    4\n",
        "i_2   5   6    7    8\n",
        "i_3   9   10   11   12\n",
        "```"
      ],
      "metadata": {
        "id": "BbaGq1ZmCAb2"
      }
    },
    {
      "cell_type": "markdown",
      "source": [
        "<center>\n",
        "\n",
        "### **🔍 Example: Creating a DataFrame from a Dictionary**\n",
        "\n",
        "</center>\n",
        "\n",
        "---\n",
        "\n",
        "The manager of a grocery store keeps track of the following food stock:  \n",
        "  - **100 jars of honey**, expiration date: 10/08/2025, price: 2€ each.  \n",
        "  - **55 bags of flour**, expiration date: 25/09/2024, price: 3€ each.  \n",
        "  - **1800 bottles of wine**, expiration date: 15/10/2023, price: 10€ each.\n",
        "\n",
        "Task :\n",
        "- (a) Using a **Python dictionary**, create and display a DataFrame `df` that contains for each product:  \n",
        "  - Product name  \n",
        "  - Expiration date  \n",
        "  - Quantity  \n",
        "  - Unit price"
      ],
      "metadata": {
        "id": "d6Vk7-ORCdk8"
      }
    },
    {
      "cell_type": "code",
      "source": [
        "# TODO"
      ],
      "metadata": {
        "id": "Ti06ZVLJEZkO"
      },
      "execution_count": 46,
      "outputs": []
    },
    {
      "cell_type": "markdown",
      "source": [
        "---\n",
        "\n",
        "<center>\n",
        "\n",
        "## **📖 Creating a DataFrame from a Data File**\n",
        "\n",
        "</center>\n",
        "\n",
        "---"
      ],
      "metadata": {
        "id": "obl-E9bH-18X"
      }
    },
    {
      "cell_type": "markdown",
      "source": [
        "Most often, DataFrames are created directly from data files such as **CSV, Excel, or text files**.  \n",
        "\n",
        "👉 The most common format is **CSV** (Comma-Separated Values), which represents a spreadsheet-like table where values are separated by a delimiter (`,` by default, but sometimes `;` is used).\n",
        "\n",
        "**Example of a CSV file**:\n",
        "\n",
        "A,B,C,D\n",
        "\n",
        "1,2,3,4\n",
        "\n",
        "5,6,7,8\n",
        "\n",
        "9,10,11,12\n",
        "\n",
        "In this format:\n",
        "\n",
        "- **The first line contains the column names**, but sometimes the column names **are not provided**.\n",
        "- Each **line** corresponds to an entry in the **database**.\n",
        "- The values are **separated by a delimiter**. In this example, it is `','` but it could also be `';'`.\n",
        "\n",
        "To import this data into a DataFrame, we then use the pandas `read_csv` function, which has the following header:\n",
        "```python\n",
        "pd.read_csv(filepath_or_buffer , sep = ',', header = 0, index_col = 0 ... )\n",
        "```\n",
        "The key arguments of the `pd.read_csv` function to know are:\n",
        "\n",
        "- `filepath_or_buffer`: The path to the .csv file relative to the execution environment.\n",
        "If the file is in the same folder as your Python environment, you can simply provide the file name\n",
        "(e.g., 'my_dataframe.csv'). This path should be provided as a string.\n",
        "\n",
        "- `sep`: The character used in the .csv file to separate columns. This argument must be specified as a character.\n",
        "\n",
        "- `header`: The row number that contains the column names.\n",
        "For example, if the column names are in the first row of the .csv file, specify `header=0`.\n",
        "If the column names are not present, use `header=None`.\n",
        "\n",
        "- `index_col`: The name or number of the column to use as the row labels of the DataFrame.\n",
        "If the entries are indexed by the first column, set `index_col=0`.\n",
        "Alternatively, if the rows are indexed by a column named \"Id\", you can specify `index_col=\"Id\"`.\n",
        "\n",
        "This function returns a `DataFrame` object containing all the data from the file."
      ],
      "metadata": {
        "id": "l-vZ27KlBU2v"
      }
    },
    {
      "cell_type": "markdown",
      "source": [
        "<center>\n",
        "\n",
        "### **🔍 Example: Loading Data into a DataFrame**\n",
        "\n",
        "</center>\n",
        "\n",
        "---\n",
        "- (a) Load the data from the file `transactions.csv` into a DataFrame named `transactions`:\n",
        "    - The file is located in the same folder as this notebook environment.\n",
        "    - Columns are separated by a comma.\n",
        "    - Column names are provided in the first row of the file.\n",
        "    - The rows are indexed by the column \"transaction_id\", which is also the first column."
      ],
      "metadata": {
        "id": "j8R-Cx2VCf-O"
      }
    },
    {
      "cell_type": "code",
      "source": [
        "# TODO"
      ],
      "metadata": {
        "id": "tEpAID8ECZln"
      },
      "execution_count": 47,
      "outputs": []
    },
    {
      "cell_type": "markdown",
      "source": [
        "**Loading a Real Dataset: `transactions.csv`**\n",
        "\n",
        "We have just loaded the file **`transactions.csv`** into a pandas DataFrame named **`transactions`**.  \n",
        "This dataset contains a history of financial transactions made between **2011 and 2014**.\n",
        "\n",
        "**Why use a dataset?**\n",
        "\n",
        "Working with a real dataset allows us to:\n",
        "- Practice **data loading** and **cleaning**.  \n",
        "- Explore the **structure of a DataFrame**.  \n",
        "- Perform **statistical analysis** and **visualization**.  \n",
        "\n",
        "**Reminder**\n",
        "\n",
        "We usually load a CSV file with:\n",
        "\n",
        "```python\n",
        "import pandas as pd\n",
        "\n",
        "# Load CSV file into a DataFrame\n",
        "transactions = pd.read_csv(\"transactions.csv\")\n",
        "\n",
        "# Display the first rows of the dataset\n",
        "transactions.head()\n",
        "```\n",
        "In the next section, we will explore the dataset to understand its structure, columns, and content."
      ],
      "metadata": {
        "id": "z8edxml2jROA"
      }
    },
    {
      "cell_type": "markdown",
      "source": [
        "---\n",
        "\n",
        "<center>\n",
        "\n",
        "## **📖 First Exploration of a Dataset with `pandas.DataFrame`**\n",
        "\n",
        "</center>\n",
        "\n",
        "---"
      ],
      "metadata": {
        "id": "7D1kKpB5DDo5"
      }
    },
    {
      "cell_type": "markdown",
      "source": [
        "\n",
        "Now that we have loaded the dataset into a DataFrame (`transactions`),  \n",
        "let’s explore it using some **basic methods** provided by the `pandas` library.\n",
        "\n",
        "**Get a Quick Look at the Data**\n",
        "\n",
        "- **`head()`** → Displays the first 5 rows (by default).  \n",
        "- **`.columns`** → Lists the column names.  \n",
        "- **`.shape`** → Returns the number of rows and columns.\n",
        "\n",
        "```python\n",
        "# Display the first 5 rows\n",
        "transactions.head()\n",
        "\n",
        "# Display the list of column names\n",
        "transactions.columns\n",
        "\n",
        "# Display the dimensions of the DataFrame (rows, columns)\n",
        "transactions.shape\n",
        "```\n",
        "\n",
        "**Selecting Data**\n",
        "\n",
        "There are two main ways to access rows/columns in a DataFrame:\n",
        "\n",
        "`.loc[]` → Selection by labels (row/column names).\n",
        "\n",
        "`.iloc[]` → Selection by indices (row/column positions).\n",
        "\n",
        "```python\n",
        "# Select one row by index (first row)\n",
        "transactions.iloc[0]\n",
        "\n",
        "# Select multiple rows (first 3 rows)\n",
        "transactions.iloc[0:3]\n",
        "\n",
        "# Select a specific column by label\n",
        "transactions.loc[:, \"amount\"]\n",
        "\n",
        "# Select a specific row and column by label\n",
        "transactions.loc[80712190438, \"Store_type\"]\n",
        "```\n",
        "**Quick Statistical Overview**\n",
        "\n",
        "- `describe()` → Generates summary statistics (mean, std, min, max, quartiles).\n",
        "\n",
        "- `value_counts()` → Counts unique values in a column."
      ],
      "metadata": {
        "id": "DRAU0hF6DgKs"
      }
    },
    {
      "cell_type": "markdown",
      "source": [
        "---\n",
        "\n",
        "<center>\n",
        "\n",
        "## **📖 Previewing a DataFrame: `head()`, `tail()`, `columns` and `shape`**\n",
        "\n",
        "</center>\n",
        "\n",
        "---"
      ],
      "metadata": {
        "id": "vw9_WmDtEXvh"
      }
    },
    {
      "cell_type": "markdown",
      "source": [
        "You can get a quick overview of a dataset by displaying only the first few rows of a DataFrame.\n",
        "\n",
        "- Use the `head()` method to display the first rows. You can pass the number of rows you want as an argument (default is 5):\n",
        "\n",
        "```python\n",
        "transactions.head(10)  # Display the first 10 rows\n",
        "```\n",
        "\n",
        "- Similarly, use `tail()` to see the last rows of the DataFrame:\n",
        "\n",
        "```python\n",
        "transactions.tail(20)  # Display the last 20 rows\n",
        "```\n",
        "\n",
        "- To see the column names of a DataFrame, use the `columns` attribute:\n",
        "```python\n",
        "transactions.columns\n",
        "```\n",
        "\n",
        "- To check the shape of the DataFrame (number of rows and columns), use the `shape` attribute:\n",
        "```python\n",
        "transactions.shape\n",
        "```\n",
        "These tools are very useful to quickly understand the structure and content of your dataset."
      ],
      "metadata": {
        "id": "M0_Tfi1oGFkS"
      }
    },
    {
      "cell_type": "markdown",
      "source": [
        "<center>\n",
        "\n",
        "### **🔍 Example: Exploring a DataFrame**\n",
        "\n",
        "</center>\n",
        "\n",
        "---\n",
        "\n",
        "We will practice some basic DataFrame exploration methods with the dataset **`transactions`**.\n",
        "\n",
        "- (a) Display the first 20 rows of the DataFrame.\n",
        "- (b) Display the last 10 rows of the DataFrame.\n",
        "- (c) Display the dimensions (number of rows and columns) of the DataFrame and the name of the 5th column.  \n",
        "💡 *Reminder: in Python, indexing starts at 0!*\n"
      ],
      "metadata": {
        "id": "_hjhWsFrCcXE"
      }
    },
    {
      "cell_type": "code",
      "source": [
        "# TODO"
      ],
      "metadata": {
        "id": "iBR2LerGESka"
      },
      "execution_count": 48,
      "outputs": []
    },
    {
      "cell_type": "markdown",
      "source": [
        "---\n",
        "\n",
        "<center>\n",
        "\n",
        "## **📖 Selecting Columns from a DataFrame**\n",
        "\n",
        "</center>\n",
        "\n",
        "---"
      ],
      "metadata": {
        "id": "h00VmqbXDwfa"
      }
    },
    {
      "cell_type": "markdown",
      "source": [
        "Extracting columns from a **DataFrame** is very similar to extracting data from a dictionary.\n",
        "\n",
        "---\n",
        "\n",
        "- Extracting a single column\n",
        "\n",
        "To extract a column, specify its name between square brackets:\n",
        "\n",
        "```python\n",
        "# Display the column 'cust_id'\n",
        "print(transactions['cust_id'])\n",
        "```\n",
        "\n",
        "- Extracting multiple columns\n",
        "\n",
        "To extract multiple columns, pass a list of column names inside the brackets (so you need double brackets):\n",
        "\n",
        "```python\n",
        "# Extract the columns 'cust_id' and 'Qty' from transactions\n",
        "cust_id_qty = transactions[[\"cust_id\", \"Qty\"]]\n",
        "```\n",
        "`cust_id_qty` is now a new DataFrame containing only the columns `'cust_id'` and `'Qty'`.\n",
        "\n",
        "Example output (first 3 rows):\n",
        "\n",
        "```python\n",
        "cust_id_qty.head(3)\n",
        ">>>\n",
        "```\n",
        "\n",
        "| transactions_id | cust_id | Qty |\n",
        "|-----------------|---------|-----|\n",
        "| 80712190438     | 270351  | -5  |\n",
        "| 29258453508     | 270384  | -5  |\n",
        "| 51750724947     | 273420  | -2  |\n",
        "\n",
        "**Categorical vs Quantitative variables**\n",
        "\n",
        "When preparing a dataset, it is important to separate categorical variables from quantitative variables.\n",
        "\n",
        "- Categorical variable → contains categories or labels, with no natural ordering.\n",
        "Example: favorite color, country, nationality.\n",
        "\n",
        "  👉 In our DataFrame transactions, the categorical variables are:\n",
        "  `['cust_id', 'tran_date', 'prod_subcat_code', 'prod_cat_code', 'Store_type']`\n",
        "\n",
        "  - `cust_id` → The customer ID (unique identifier for each customer).\n",
        "  - `tran_date` → The transaction date (when the purchase or return happened).\n",
        "  - `prod_subcat_code` → The product subcategory code (e.g., “Trousers” if the main category is “Clothing”).\n",
        "  - `prod_cat_code` → The product category code (e.g., “Clothing”).\n",
        "  - `Store_type` → The type of store where the transaction took place (e.g., Online Store, Supermarket, Specialized Store).\n",
        "\n",
        "- Quantitative variable → measures a numerical quantity, with an ordering relationship.\n",
        "Example: height, weight, age.\n",
        "\n",
        "  👉 In our DataFrame transactions, the quantitative variables are:\n",
        "  `['Qty', 'Rate', 'Tax', 'total_amt']`\n",
        "\n",
        "  - `Qty` → The quantity purchased (can be negative if the product was returned).\n",
        "  - `Rate` → The unit price of the product (before tax).\n",
        "  - `Tax` → The amount of tax applied to the transaction.\n",
        "  - `total_amt` → The total transaction amount (= quantity × rate + tax).\n",
        "\n",
        "⚠️ Why it matters?\n",
        "\n",
        "Some basic operations (like computing a mean) only make sense for quantitative variables."
      ],
      "metadata": {
        "id": "G4mWzwW3D14Z"
      }
    },
    {
      "cell_type": "markdown",
      "source": [
        "<center>\n",
        "\n",
        "### **🔍 Example: Splitting Categorical and Quantitative Variables**\n",
        "\n",
        "</center>\n",
        "\n",
        "---\n",
        "\n",
        "We will now practice splitting our dataset into categorical and quantitative variables.\n",
        "\n",
        "- (a) In a DataFrame named **`cat_vars`**, store the categorical variables of `transactions`.  \n",
        "- (b) In a DataFrame named **`num_vars`**, store the quantitative variables of `transactions`.  \n",
        "- (c) Display the first 5 rows of each DataFrame.\n"
      ],
      "metadata": {
        "id": "cGrv7VTzI_r4"
      }
    },
    {
      "cell_type": "code",
      "source": [
        "# TODO"
      ],
      "metadata": {
        "id": "ga8TLXnuG_SP"
      },
      "execution_count": 49,
      "outputs": []
    },
    {
      "cell_type": "markdown",
      "source": [
        "---\n",
        "\n",
        "<center>\n",
        "\n",
        "## **📖 Selecting Rows in a DataFrame: `loc` and `iloc`**\n",
        "\n",
        "</center>\n",
        "\n",
        "---"
      ],
      "metadata": {
        "id": "mvWophjIJ5VJ"
      }
    },
    {
      "cell_type": "markdown",
      "source": [
        "To extract one or several rows from a DataFrame, we use the **`loc`** method.\n",
        "\n",
        "This method is special because the arguments are placed **inside square brackets `[]`** instead of parentheses `()`.\n",
        "\n",
        "- **Example 1**: Selecting a single row with `loc`\n",
        "If we want to retrieve the row with index `80712190438`:\n",
        "\n",
        "  ```python\n",
        "  # Get row with index 80712190438 from num_vars DataFrame\n",
        "  num_vars.loc[80712190438]\n",
        "  >>>\n",
        "  ```\n",
        "  | transaction_id | Qty |  Rate  |   Tax  | total_amt |\n",
        "  |----------------|-----|--------|--------|-----------|\n",
        "  | 80712190438    | -5  | -772.0 | 405.3  | -4265.3   |\n",
        "  | 80712190438    |  5  |  772.0 | 405.3  |  4265.3   |\n",
        "\n",
        "- **Example 2**: Selecting multiple rows with loc\n",
        "We can pass:\n",
        "  - a list of indices\n",
        "  - or use slicing (`start:end`).\n",
        "\n",
        "  ```python\n",
        "  # Select multiple rows using their indices\n",
        "  num_vars.loc[[80712190438, 29258453508, 51750724947]]\n",
        "  >>>\n",
        "  ```\n",
        "\n",
        "- **Example 3**: Selecting both rows and columns with loc\n",
        "We can also specify which columns to extract.\n",
        "\n",
        "  ```python\n",
        "  # Select only 'Tax' and 'total_amt' for two transactions\n",
        "  transactions.loc[[80712190438, 29258453508], ['Tax', 'total_amt']]\n",
        "  >>>\n",
        "  ```\n",
        "  | transaction_id | Tax     | total_amt |\n",
        "  |----------------|---------|-----------|\n",
        "  |   80712190438  | 405.300 | -4265.300 |\n",
        "  |   80712190438  | 405.300 |  4265.300 |\n",
        "  |   29258453508  | 785.925 | -8270.925 |\n",
        "  |   29258453508  | 785.925 |\t8270.925 |\n",
        "\n",
        "- **Example 4**: Using iloc\n",
        "\n",
        "The iloc method works like NumPy arrays:\n",
        "we use only numeric indices for rows and columns.\n",
        "\n",
        "  ```python\n",
        "  # Extract the first 4 rows and the first 3 columns\n",
        "  transactions.iloc[0:4, 0:3]\n",
        "  >>>\n",
        "  ```\n",
        "  | transaction_id | cust_id |  tran_date  | prod_subcat_code |\n",
        "  |----------------|---------|-------------|------------------|\n",
        "  | 80712190438    | 270351  | 28/02/2014  | 1.0              |\n",
        "  | 29258453508    | 270384  | 27/02/2014  | 5.0              |\n",
        "  | 51750724947    | 273420  | 24/02/2014  | 6.0              |\n",
        "  | 93274880719    | 271509  | 24/02/2014  | 11.0             |\n",
        "\n",
        "- Summary\n",
        "  - loc → selection by labels (row/column names).\n",
        "  - iloc → selection by numeric positions (row/column indices).\n",
        "\n",
        "If the DataFrame uses the default integer index (0, 1, 2, ...), then loc and iloc often give the same result.\n"
      ],
      "metadata": {
        "id": "nqi9qQlXJ_Eg"
      }
    },
    {
      "cell_type": "markdown",
      "source": [
        "---\n",
        "\n",
        "<center>\n",
        "\n",
        "## **📖 Conditional Indexing of a DataFrame**\n",
        "\n",
        "</center>\n",
        "\n",
        "---"
      ],
      "metadata": {
        "id": "HSXIBgMsPa9O"
      }
    },
    {
      "cell_type": "markdown",
      "source": [
        "we can use **conditional indexing** to extract the rows of a DataFrame that satisfy a given condition.  \n",
        "\n",
        "In the following example, we select the rows of the DataFrame `df` where the column **col 2** is equal to `3`.\n",
        "\n",
        "There are two syntaxes for conditional indexing:\n",
        "\n",
        "```python\n",
        "# Select rows where column 'col 2' equals 3\n",
        "df[df['col 2'] == 3]\n",
        "\n",
        "# Alternative using loc\n",
        "df.loc[df['col 2'] == 3]\n",
        "```\n",
        "⚠️ Important:\n",
        "\n",
        "If we want to assign a new value to these entries, we must absolutely use the .loc method.\n",
        "Using the syntax `df[df['col 2'] == 3]` only returns a copy of the entries and does not give access to the original memory location of the data."
      ],
      "metadata": {
        "id": "nWdg8EX9P5-p"
      }
    },
    {
      "cell_type": "markdown",
      "source": [
        "<center>\n",
        "\n",
        "### **🔍 Example: Filtering Transactions by Store Type**\n",
        "\n",
        "</center>\n",
        "\n",
        "---\n",
        "The manager of the transactions recorded in the DataFrame `transactions` wants to access the **customer IDs** of clients who made a purchase online (i.e., in an `\"e-Shop\"`) and the corresponding **transaction date**.\n",
        "\n",
        "We are given the following information about the columns of `transactions`:\n",
        "\n",
        "| Column name   | Description                                      |\n",
        "|---------------|--------------------------------------------------|\n",
        "| `cust_id`     | Customer IDs                                     |\n",
        "| `Store_type`  | The type of store where the transaction occurred |\n",
        "| `tran_date`   | The date of the transactions                     |\n",
        "\n",
        "---\n",
        "\n",
        "- (a) Create a new DataFrame named `transactions_eshop` containing only the transactions that took place in an `\"e-Shop\"`.  \n",
        "\n",
        "- (b) Create another DataFrame named `transactions_id_date` that stores the **customer IDs** and the **transaction dates** from the DataFrame `transactions_eshop`.  \n",
        "\n",
        "- (c) Display the first 5 rows of `transactions_id_date`.\n"
      ],
      "metadata": {
        "id": "SPTQxYSVQeVE"
      }
    },
    {
      "cell_type": "code",
      "source": [
        "# TODO"
      ],
      "metadata": {
        "id": "UCF5la2EP5gr"
      },
      "execution_count": 50,
      "outputs": []
    },
    {
      "cell_type": "markdown",
      "source": [
        "<center>\n",
        "\n",
        "### **🔍 Example: Conditional Selection and Aggregation**\n",
        "\n",
        "</center>\n",
        "\n",
        "---\n",
        "The store manager now wants to focus on a specific client.\n",
        "\n",
        "- (a) Create a DataFrame named `transactions_client_268819` that contains all transactions where the client ID is `268819`.\n",
        "\n",
        "- (b) A column of a DataFrame can be iterated like a list in a for loop. Using a loop on the column `'total_amt'`, calculate and display the total transaction amount for client `268819`."
      ],
      "metadata": {
        "id": "iiPl8hjVSaFM"
      }
    },
    {
      "cell_type": "code",
      "source": [
        "# TODO"
      ],
      "metadata": {
        "id": "B1Cl8T-UQG7y"
      },
      "execution_count": 51,
      "outputs": []
    },
    {
      "cell_type": "markdown",
      "source": [
        "---\n",
        "\n",
        "<center>\n",
        "\n",
        "## **📖 Quick Statistical Study of a DataFrame**\n",
        "\n",
        "</center>\n",
        "\n",
        "---"
      ],
      "metadata": {
        "id": "I4TkSe18VFpk"
      }
    },
    {
      "cell_type": "markdown",
      "source": [
        "The `describe()` method of a DataFrame returns a summary of the descriptive statistics (minimum, maximum, mean, quantiles, etc.) for its numerical variables.\n",
        "\n",
        "It is a very useful tool to quickly visualize the type and distribution of these variables.\n",
        "\n",
        "```python\n",
        "# Display descriptive statistics of the numerical variables\n",
        "print(num_vars.describe())\n",
        "```\n",
        "or categorical variables, it is often better to start with the value_counts() method, which returns the number of occurrences of each category.\n",
        "\n",
        "⚠️ Note: the `value_counts()` method cannot be used directly on a whole DataFrame, but only on a single column, since it works on objects of type pd.Series.\n",
        "\n",
        "```python\n",
        "# Count the number of transactions per store type\n",
        "print(transactions[\"Store_type\"].value_counts())\n",
        "```"
      ],
      "metadata": {
        "id": "2u-2GrFmVQFX"
      }
    },
    {
      "cell_type": "markdown",
      "source": [
        "<center>\n",
        "\n",
        "### **🔍 Example: Quick Statistical Study of a DataFrame**\n",
        "\n",
        "</center>\n",
        "\n",
        "---\n",
        "- (a) Use the `describe()` method on the DataFrame transactions.\n",
        "- (b) The numerical variables are: `Qty`, `Rate`, `Tax`, and `total_amt`. By default, are the statistics produced by the describe() method computed only on numerical variables?\n",
        "- (c) Display the number of occurrences of each category taken by the variable `Store_type` using the method `value_counts`.\n"
      ],
      "metadata": {
        "id": "1x4e0ZycVy7U"
      }
    },
    {
      "cell_type": "code",
      "source": [
        "# TODO"
      ],
      "metadata": {
        "id": "o0tOPoINTHGi"
      },
      "execution_count": 52,
      "outputs": []
    },
    {
      "cell_type": "markdown",
      "source": [
        "Interpreting `describe()` on categorical variables\n",
        "\n",
        "The `describe()` method calculated statistics on the columns `cust_id`, `prod_subcat_code`, and `prod_cat_code` even though these are categorical variables.\n",
        "\n",
        "These statistics do not make sense for categorical data. The method treated them as quantitative because the values happen to be numeric.\n",
        "\n",
        "⚠️ Takeaway: Always be cautious when interpreting `describe()` results. Make sure you understand the type of each variable in your DataFrame before drawing conclusions."
      ],
      "metadata": {
        "id": "qHSh_6z1ZVhY"
      }
    },
    {
      "cell_type": "markdown",
      "source": [
        "<center>\n",
        "\n",
        "### **🔍 Example: Quick Transaction Summary**\n",
        "\n",
        "</center>\n",
        "\n",
        "---\n",
        "The manager wants to generate a quick report on the transactions. In particular, they are interested in the `average amount` spent and the `maximum quantity` purchased.\n",
        "\n",
        "(a) What is the `average total amount` spent? Focus on the `total_amt` column of the transactions DataFrame.\n",
        "\n",
        "(b) What is the `maximum quantity purchased`? Focus on the `Qty` column of the transactions DataFrame."
      ],
      "metadata": {
        "id": "0kL3YZoNZvUs"
      }
    },
    {
      "cell_type": "code",
      "source": [
        "# TODO"
      ],
      "metadata": {
        "id": "hdQ_EDDXXFEp"
      },
      "execution_count": 53,
      "outputs": []
    },
    {
      "cell_type": "markdown",
      "source": [
        "Some transactions have negative amounts.\n",
        "These correspond to canceled transactions that were refunded to the customer.\n",
        "\n",
        "These negative amounts can distort the distribution of the total_amt variable, leading to inaccurate estimates of the mean and quantiles.\n",
        "\n",
        "It is therefore important to filter or handle these cases before performing statistical analysis."
      ],
      "metadata": {
        "id": "XmUrh-05a7RM"
      }
    },
    {
      "cell_type": "markdown",
      "source": [
        "<center>\n",
        "\n",
        "### **🔍 Example: Average of Positive Transactions**\n",
        "\n",
        "</center>\n",
        "\n",
        "---\n",
        "- (a) Calculate the mean of the `total_amt` column for transactions where the amount is positive."
      ],
      "metadata": {
        "id": "_EkULstQbTHE"
      }
    },
    {
      "cell_type": "code",
      "source": [
        "# TODO"
      ],
      "metadata": {
        "id": "c1YlWYNuaQoY"
      },
      "execution_count": 54,
      "outputs": []
    },
    {
      "cell_type": "markdown",
      "source": [
        "---\n",
        "\n",
        "<center>\n",
        "\n",
        "## **📖 Conclusion and Summary**\n",
        "\n",
        "</center>\n",
        "\n",
        "---"
      ],
      "metadata": {
        "id": "haPfgDjdcQxE"
      }
    },
    {
      "cell_type": "markdown",
      "source": [
        "The pandas DataFrame class will be your go-to data structure for exploring, analyzing, and processing datasets.\n",
        "\n",
        "In this brief introduction, you have learned how to:\n",
        "\n",
        "- Create a DataFrame from a a dictionary using `pd.DataFrame`.\n",
        "- Create a DataFrame from a `.csv` file using `pd.read_csv`.\n",
        "- Preview the first and last rows of a DataFrame using the `head` and `tail` methods.\n",
        "- Select one or more columns from a DataFrame by specifying their names in brackets, similar to a dictionary.\n",
        "- Select one or more rows from a DataFrame by specifying their indices using `loc` and `iloc`.\n",
        "- Filter rows of a DataFrame that satisfy a specific condition using conditional indexing.\n",
        "- Perform a quick statistical overview of quantitative variables in a DataFrame using the `describe` method.\n",
        "\n",
        "In practice, datasets are rarely perfectly clean: missing values, duplicates, or inconsistent entries are common.  \n",
        "In the next section, we will learn how to clean and preprocess datasets using pandas, a crucial step before any meaningful analysis.\n"
      ],
      "metadata": {
        "id": "-2FIhAlWcMNw"
      }
    }
  ]
}