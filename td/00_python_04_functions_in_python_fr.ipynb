{
  "nbformat": 4,
  "nbformat_minor": 0,
  "metadata": {
    "colab": {
      "provenance": []
    },
    "kernelspec": {
      "name": "python3",
      "display_name": "Python 3"
    },
    "language_info": {
      "name": "python"
    }
  },
  "cells": [
    {
      "cell_type": "markdown",
      "source": [
        "---\n",
        "\n",
        "<center>\n",
        "\n",
        "# **Python pour la Data Science**\n",
        "\n",
        "### *Les fonctions en Python*\n",
        "\n",
        "</center>\n",
        "\n",
        "---"
      ],
      "metadata": {
        "id": "_HBssC4xaN8u"
      }
    },
    {
      "cell_type": "markdown",
      "source": [
        "---\n",
        "\n",
        "<center>\n",
        "\n",
        "## **📖 Les fonctions**\n",
        "\n",
        "</center>\n",
        "\n",
        "---"
      ],
      "metadata": {
        "id": "Nq7CUJw7adxE"
      }
    },
    {
      "cell_type": "markdown",
      "source": [
        "Une fonction en Python est un bloc de code réutilisable qui effectue une tâche spécifique.\n",
        "\n",
        "Python fournit des fonctions intégrées, telles que :\n",
        "\n",
        "- `print()` : Affiche une valeur ou un objet.  \n",
        "- `range()` : Crée une séquence d’entiers.\n",
        "\n",
        "Nous n’avons pas besoin de connaître le code interne de ces fonctions pour les utiliser.  \n",
        "Leur résultat dépend uniquement des valeurs d’entrée (paramètres) que nous fournissons.\n",
        "\n",
        "**Créer votre propre fonction**\n",
        "\n",
        "Vous pouvez définir des fonctions personnalisées réutilisables.  \n",
        "La structure générale est :\n",
        "\n",
        "```python\n",
        "def function_name(parameter):\n",
        "    # Block of instructions\n",
        "    ...\n",
        "    ...\n",
        "    ...\n",
        "    # The result of the function\n",
        "    return result\n",
        "```\n",
        "\n",
        "Le mot-clé `return` spécifie la valeur de sortie de la fonction et **met fin à l’exécution de la fonction**.  \n",
        "Tout code placé après `return` à l’intérieur de la fonction ne sera pas exécuté.\n",
        "\n",
        "**Vérifier si un nombre est pair**\n",
        "\n",
        "```python\n",
        "def is_even(number):\n",
        "    # Check if the number is divisible by 2\n",
        "    if number % 2 == 0:\n",
        "        return True\n",
        "    else:\n",
        "        return False\n",
        "```\n",
        "\n",
        "Cette fonction prend un `nombre` en entrée, stocké temporairement dans la variable `nombre`.  \n",
        "Après l’exécution de la fonction, la variable `nombre` est supprimée.\n",
        "\n",
        "**Appeler une fonction avec des arguments**\n",
        "\n",
        "```python\n",
        "print(is_even(number=3))\n",
        ">>> False\n",
        "\n",
        "print(is_even(number=100))\n",
        ">>> True\n",
        "\n",
        "print(is_even(number=-2))\n",
        ">>> True\n",
        "```\n",
        "\n",
        "Vous pouvez également appeler la fonction sans nommer les arguments :\n",
        "\n",
        "```python\n",
        "print(is_even(-4))\n",
        ">>> True\n",
        "```"
      ],
      "metadata": {
        "id": "XF5vgm5ra0np"
      }
    },
    {
      "cell_type": "markdown",
      "source": [
        "---\n",
        "\n",
        "<center>\n",
        "\n",
        "### **🔍 Exemple : doubler un nombre**\n",
        "\n",
        "</center>\n",
        "\n",
        "---\n",
        "\n",
        "- (a) : Implémentez une fonction nommée `double` qui prend un nombre en entrée et renvoie son double.  \n",
        "- (b) : Utilisez cette fonction pour calculer le double de `4` :"
      ],
      "metadata": {
        "id": "s7U4MEwlcN7y"
      }
    },
    {
      "cell_type": "code",
      "execution_count": null,
      "metadata": {
        "id": "1Fa0Hf9HZ1aG"
      },
      "outputs": [],
      "source": [
        "# TODO"
      ]
    },
    {
      "cell_type": "markdown",
      "source": [
        "---\n",
        "\n",
        "<center>\n",
        "\n",
        "### **🔍 Exemple : somme des nombres dans une liste**\n",
        "\n",
        "</center>\n",
        "\n",
        "---\n",
        "\n",
        "- (a) : Définissez une fonction nommée `sum_list` qui prend une liste de nombres en entrée et calcule la somme de tous les nombres à l’aide d’une boucle.  \n",
        "- (b) : Évaluez cette fonction sur la liste `[2, 3, 1]` :"
      ],
      "metadata": {
        "id": "Z5cpL_K5c94f"
      }
    },
    {
      "cell_type": "code",
      "source": [
        "# TODO"
      ],
      "metadata": {
        "id": "w30bOpq4cqk5"
      },
      "execution_count": null,
      "outputs": []
    },
    {
      "cell_type": "markdown",
      "source": [
        "---\n",
        "\n",
        "<center>\n",
        "\n",
        "### **🔍 Exemple : produit des nombres dans une liste**\n",
        "\n",
        "</center>\n",
        "\n",
        "---\n",
        "\n",
        "- (a) : Écrivez une fonction nommée `list_product` qui prend une liste de nombres en entrée et calcule le produit de tous les nombres à l’aide d’une boucle.  \n",
        "- (b) : Évaluez cette fonction sur la liste `[1, 0.12, -54, 12, 0.33, 12]` :\n"
      ],
      "metadata": {
        "id": "XWGEb4wVdkCm"
      }
    },
    {
      "cell_type": "code",
      "source": [
        "# TODO"
      ],
      "metadata": {
        "id": "DRvSjXmqdX8u"
      },
      "execution_count": null,
      "outputs": []
    },
    {
      "cell_type": "markdown",
      "source": [
        "---\n",
        "\n",
        "<center>\n",
        "\n",
        "### **🔍 Exemple : calcul de variation en pourcentage**\n",
        "\n",
        "</center>\n",
        "\n",
        "---\n",
        "\n",
        "- (a) : Écrivez une fonction nommée `variation` qui prend une valeur initiale et une valeur finale en entrée, et renvoie la variation en pourcentage entre les deux.  \n",
        "La variation en pourcentage se calcule ainsi :\n",
        "\n",
        "$$\n",
        "\\text{variation_pourcentage} = \\frac{\\text{valeur_finale} - \\text{valeur_initiale}}{\\text{valeur_initiale}} \\times 100\n",
        "$$\n",
        "\n",
        "- (b) : Évaluez cette fonction avec une valeur initiale de `2000` et une valeur finale de `1000` :"
      ],
      "metadata": {
        "id": "IWfGvPvmeXQE"
      }
    },
    {
      "cell_type": "code",
      "source": [
        "# TODO"
      ],
      "metadata": {
        "id": "_cKg1FakeMpx"
      },
      "execution_count": null,
      "outputs": []
    },
    {
      "cell_type": "markdown",
      "source": [
        "---\n",
        "\n",
        "<center>\n",
        "\n",
        "### **🔍 Exemple : mise au carré d’un nombre**\n",
        "\n",
        "</center>\n",
        "\n",
        "---\n",
        "\n",
        "- (a) : Définissez une fonction nommée `f` qui prend un entier `n` en entrée et renvoie le carré de `n` ($n^2$).  \n",
        "- (b) : Affichez le résultat de la fonction `f` pour `n = 2` et `n = 15` :"
      ],
      "metadata": {
        "id": "hLmcDVy2fTCp"
      }
    },
    {
      "cell_type": "code",
      "source": [
        "# TODO"
      ],
      "metadata": {
        "id": "6RVOo4VwfF36"
      },
      "execution_count": null,
      "outputs": []
    },
    {
      "cell_type": "markdown",
      "source": [
        "### **Utiliser les résultats d’une fonction dans d’autres parties du code**\n",
        "\n",
        "Le principal avantage d’une fonction est que vous pouvez stocker son résultat dans une **variable** et l’utiliser plus tard dans votre code — par exemple, **à l’intérieur d’une autre fonction**.\n",
        "\n",
        "```python\n",
        "# Function f defined previously\n",
        "def f(n):\n",
        "    calculation = n**2\n",
        "    return calculation\n",
        "```\n",
        "\n",
        "Vous pouvez maintenant stocker le résultat de `f` dans une variable :\n",
        "\n",
        "```python\n",
        "result = f(5)\n",
        "print(result)\n",
        ">>> 25\n",
        "```\n",
        "\n",
        "Et l’utiliser plus tard dans d’autres calculs ou fonctions :\n",
        "\n",
        "```python\n",
        "def add_five_squared(x):\n",
        "    # Use the result of f(x) in another function\n",
        "    return f(x) + 5\n",
        "\n",
        "print(add_five_squared(3))\n",
        ">>> 14  # because 3**2 + 5 = 9 + 5\n",
        "```\n"
      ],
      "metadata": {
        "id": "Y7nycL3Kgrcy"
      }
    },
    {
      "cell_type": "markdown",
      "source": [
        "---\n",
        "\n",
        "<center>\n",
        "\n",
        "### **🔍 Exemple : obtenir les valeurs uniques d’une liste**\n",
        "\n",
        "</center>\n",
        "\n",
        "---\n",
        "\n",
        "- (a) : Écrivez une fonction nommée `uniques` qui prend une liste en entrée et renvoie **une nouvelle liste contenant les valeurs distinctes** de la liste originale.\n",
        "\n",
        "`Remarque : \"valeurs uniques\" ici signifie valeurs distinctes, et non \"valeurs qui apparaissent une seule fois\".`\n",
        "\n",
        "Vous pouvez vérifier si un élément est dans une liste en utilisant l’opérateur `in` :\n",
        "\n",
        "```python\n",
        "3 in [3, 1, 2]\n",
        ">>> True\n",
        "\n",
        "-1 in [3, 1, 2]\n",
        ">>> False\n",
        "```"
      ],
      "metadata": {
        "id": "b3-ePp3YhoiS"
      }
    },
    {
      "cell_type": "code",
      "source": [
        "# TODO"
      ],
      "metadata": {
        "id": "Dto_aB-JgSP1"
      },
      "execution_count": null,
      "outputs": []
    },
    {
      "cell_type": "markdown",
      "source": [
        "---\n",
        "\n",
        "<center>\n",
        "\n",
        "### **🔍 Exemple : valeurs communes entre deux listes**\n",
        "\n",
        "</center>\n",
        "\n",
        "---\n",
        "\n",
        "- (a) : Écrivez une fonction nommée `common_list` qui prend deux listes `l1` et `l2` en entrée, et renvoie une nouvelle liste contenant les valeurs présentes dans les deux listes.  \n",
        "- (b) : Affichez le résultat de la fonction."
      ],
      "metadata": {
        "id": "TS5lPHTxiizm"
      }
    },
    {
      "cell_type": "code",
      "source": [
        "# TODO"
      ],
      "metadata": {
        "id": "Vx3oLTdOiL7x"
      },
      "execution_count": null,
      "outputs": []
    },
    {
      "cell_type": "markdown",
      "source": [
        "### **Fonctions avec plusieurs paramètres et plusieurs sorties**\n",
        "\n",
        "Une fonction peut avoir **plusieurs paramètres** et **plusieurs valeurs de sortie**.  \n",
        "La syntaxe générale est :\n",
        "\n",
        "```python\n",
        "def my_function(param1, param2, param3, ...):\n",
        "    # Block of instructions\n",
        "    ...\n",
        "    ...\n",
        "    ...\n",
        "    return output1, output2, output3, ...\n",
        "```\n",
        "\n",
        "Lorsqu’une fonction renvoie plusieurs valeurs, le résultat est en fait un **tuple**.  \n",
        "Nous pouvons utiliser le **tuple unpacking** pour stocker les sorties dans des variables séparées :\n",
        "\n",
        "```python\n",
        "# Define a function that returns the first and last element of a list\n",
        "def first_and_last(a_list):\n",
        "    return a_list[0], a_list[-1]\n",
        "\n",
        "# Use tuple unpacking to get the outputs of the function\n",
        "first, last = first_and_last([-2, 32, 31, 231, 4])\n",
        "\n",
        "# Display the results\n",
        "print(first)\n",
        ">>> -2\n",
        "\n",
        "print(last)\n",
        ">>> 4\n",
        "```"
      ],
      "metadata": {
        "id": "R_jVRyfmjdlz"
      }
    },
    {
      "cell_type": "markdown",
      "source": [
        "---\n",
        "\n",
        "<center>\n",
        "\n",
        "### **🔍 Exemple : puissances et différences**\n",
        "\n",
        "</center>\n",
        "\n",
        "---\n",
        "\n",
        "- (a) : Créez une fonction nommée `power4` qui prend un nombre `x` en entrée et renvoie les quatre premières puissances de ce nombre ($x^1$, $x^2$, $x^3$, $x^4$).  \n",
        "- (b) : Testez cette fonction avec `x = 8` et stockez les résultats dans `x_1`, `x_2`, `x_3`, `x_4`.  \n",
        "- (c) : Créez une fonction nommée `power_diff` qui prend quatre nombres `x_1`, `x_2`, `x_3`, `x_4` et renvoie :  \n",
        "  - la différence entre `x_2` et `x_1`,  \n",
        "  - la différence entre `x_3` et `x_2`,  \n",
        "  - la différence entre `x_4` et `x_3`.  \n",
        "- (d) : Testez cette fonction sur les valeurs précédemment obtenues `x_1`, `x_2`, `x_3`, `x_4`."
      ],
      "metadata": {
        "id": "X0CF9xIxkCI_"
      }
    },
    {
      "cell_type": "code",
      "source": [
        "# TODO"
      ],
      "metadata": {
        "id": "M4UGvnSbjH3k"
      },
      "execution_count": null,
      "outputs": []
    },
    {
      "cell_type": "markdown",
      "source": [
        "### **Valeurs par défaut des paramètres dans les fonctions**\n",
        "\n",
        "Lors de l’appel d’une fonction, vous n’avez pas besoin de fournir une valeur pour un paramètre s’il a une valeur par défaut.\n",
        "\n",
        "Pour attribuer une valeur par défaut à un paramètre, il suffit de lui donner une valeur dans la définition de la fonction :\n",
        "\n",
        "```python\n",
        "# Define a function that calculates the product of two numbers\n",
        "def product(a=0, b=1):\n",
        "    return a * b\n",
        "```\n",
        "\n",
        "Exemples d’appel de la fonction :\n",
        "\n",
        "```python\n",
        "product(a=4)  # b takes its default value of 1\n",
        ">>> 4\n",
        "\n",
        "product(b=3)  # a takes its default value of 0\n",
        ">>> 0\n",
        "\n",
        "product(a=4, b=3)\n",
        ">>> 12\n",
        "```\n",
        "Vous n’avez pas besoin d’écrire les noms des paramètres lors de l’appel d’une fonction, par exemple :\n",
        "\n",
        "```python\n",
        "product(3, 4)\n",
        ">>> 12\n",
        "```\n",
        "\n",
        "`Remarque : Si vous omettez les noms des paramètres, les arguments doivent suivre le même ordre que dans la définition de la fonction.`"
      ],
      "metadata": {
        "id": "mfoSFswNl5gE"
      }
    },
    {
      "cell_type": "markdown",
      "source": [
        "---\n",
        "\n",
        "<center>\n",
        "\n",
        "## **📖 Function Documentation**\n",
        "\n",
        "</center>\n",
        "\n",
        "---"
      ],
      "metadata": {
        "id": "23n4ULGUmwG9"
      }
    },
    {
      "cell_type": "markdown",
      "source": [
        "Pour partager une fonction avec d’autres utilisateurs, il est courant d’écrire une courte description expliquant comment utiliser la fonction.\n",
        "\n",
        "Cette description est appelée documentation de la fonction (ou docstring).\n",
        "\n",
        "La documentation est écrite au début de la définition d’une fonction en utilisant des guillemets triples `\"\"\"` :\n",
        "\n",
        "```python\n",
        "def sort_list(a_list, order=\"ascending\"):\n",
        "    \"\"\"\n",
        "    This function sorts a list according to the order specified by the 'order' argument.\n",
        "\n",
        "    Parameters:\n",
        "        a_list : the list to sort\n",
        "\n",
        "        order : must be \"ascending\" to sort the list in increasing order,\n",
        "                or \"descending\" to sort it in decreasing order\n",
        "\n",
        "    Returns:\n",
        "        The sorted list\n",
        "    \"\"\"\n",
        "    # Instructions to sort the list\n",
        "    if order == \"ascending\":\n",
        "        sorted_list = sorted(a_list)\n",
        "    else:\n",
        "        sorted_list = sorted(a_list, reverse=True)\n",
        "    \n",
        "    return sorted_list\n",
        "```\n",
        "\n",
        "Les guillemets triples `\"\"\"` marquent le début et la fin de la documentation.\n",
        "\n",
        "Vous pouvez afficher la documentation d’une fonction en utilisant la fonction intégrée `help` de Python :\n",
        "\n",
        "```python\n",
        "help(sort_list)\n",
        "```\n",
        "Cela affichera la description et expliquera comment utiliser la fonction."
      ],
      "metadata": {
        "id": "aPKlxEsTm1fZ"
      }
    },
    {
      "cell_type": "markdown",
      "source": [
        "---\n",
        "\n",
        "<center>\n",
        "\n",
        "### **🔍 Exemple : pratique de la documentation de fonction**\n",
        "\n",
        "</center>\n",
        "\n",
        "---\n",
        "\n",
        "- (a) : Affichez la documentation de la fonction intégrée `len` de Python.\n",
        "\n",
        "`Remarque : Un \"container\" désigne tout objet que vous pouvez parcourir, comme une liste, un tuple, une chaîne de caractères, etc.`  \n",
        "- (b) : Écrivez une fonction nommée `total_len` qui prend **une liste de listes** en entrée et renvoie **le nombre total d’éléments dans toutes les sous-listes**. Incluez une courte chaîne de documentation décrivant son utilisation.  \n",
        "- (c) : Testez la fonction sur la liste suivante :\n",
        "\n",
        "```python\n",
        "test_list = [\n",
        "    [1, 23, 1201, 21, 213, 2],\n",
        "    [2311, 12, 3, 4],\n",
        "    [11, 32, 1, 1, 2, 3, 3],\n",
        "    [1, 1, 1, 1, 1, 1, 1, 1, 1, 1, 1, 1, 1, 1]\n",
        "]\n",
        "```"
      ],
      "metadata": {
        "id": "2uR_lM4Kn5_g"
      }
    },
    {
      "cell_type": "code",
      "source": [
        "# TODO"
      ],
      "metadata": {
        "id": "rmUhp7__lrPC"
      },
      "execution_count": null,
      "outputs": []
    },
    {
      "cell_type": "markdown",
      "source": [
        "---\n",
        "\n",
        "<center>\n",
        "\n",
        "## **📖 Recursive Functions**\n",
        "\n",
        "</center>\n",
        "\n",
        "---"
      ],
      "metadata": {
        "id": "RZRN3xTKpMej"
      }
    },
    {
      "cell_type": "markdown",
      "source": [
        "La récursion est la propriété d’une fonction **qui s’appelle elle-même dans sa propre définition**.\n",
        "\n",
        "Ce type de syntaxe peut résoudre certains problèmes de manière très élégante, mais il est moins couramment utilisé en Python car il peut être difficile de prédire le résultat final d’une fonction récursive.\n",
        "\n",
        "L’idée de la récursion est de **simplifier un problème de manière répétée jusqu’à ce que la solution devienne triviale**.\n",
        "\n",
        "---\n",
        "\n",
        "**Exemple : compter les poignées de main**\n",
        "\n",
        "Supposons que N personnes se serrent la main entre elles. Combien de poignées de main ont lieu au total ?\n",
        "\n",
        "- Considérons qu’une personne serre la main des **N-1 autres personnes**.  \n",
        "- Ensuite, il suffit de compter les poignées de main parmi les **N-1 personnes restantes**.  \n",
        "- Continuez ce processus jusqu’à ce qu’il ne reste plus que **2 personnes**, ce qui donne **1 poignée de main**.\n",
        "\n",
        "Nous pouvons implémenter cela en Python en utilisant une fonction récursive :\n",
        "\n",
        "```python\n",
        "def count_handshakes(N):\n",
        "    # Base case: only 2 people\n",
        "    if N == 2:\n",
        "        # Only one handshake possible\n",
        "        return 1\n",
        "    # Recursive case: N > 2\n",
        "    else:\n",
        "        # Count N-1 handshakes for this person + handshakes among remaining N-1 people\n",
        "        return (N - 1) + count_handshakes(N - 1)\n",
        "```\n",
        "\n",
        "Exemples:\n",
        "\n",
        "```python\n",
        "count_handshakes(2)\n",
        ">>> 1\n",
        "\n",
        "count_handshakes(4)\n",
        ">>> 6\n",
        "```\n",
        "\n",
        "Cette fonction récursive fournit une solution simple au problème des poignées de main."
      ],
      "metadata": {
        "id": "6ndIleC4pQVM"
      }
    },
    {
      "cell_type": "markdown",
      "source": [
        "---\n",
        "\n",
        "<center>\n",
        "\n",
        "### **🔍 Exemple : fonction factorielle récursive**\n",
        "\n",
        "</center>\n",
        "\n",
        "---\n",
        "\n",
        "- (a) : Définissez une fonction récursive `factorial` qui calcule la factorielle d’un nombre n.\n",
        "\n",
        "$$n! = 1×2×⋯×n$$\n",
        "\n",
        "Remarquez la relation de récurrence :\n",
        "\n",
        "$$n! = n × (n−1)!$$\n",
        "\n",
        "On suppose que\n",
        "$$0! = 1.$$\n",
        "- (b) : Calculez $5!$ (doit renvoyer 120) :\n"
      ],
      "metadata": {
        "id": "XKTgeJu9qjZ-"
      }
    },
    {
      "cell_type": "code",
      "source": [
        "# TODO"
      ],
      "metadata": {
        "id": "mN7lWbTOo4qZ"
      },
      "execution_count": null,
      "outputs": []
    },
    {
      "cell_type": "markdown",
      "source": [
        "---\n",
        "\n",
        "<center>\n",
        "\n",
        "### **🔍 Exemple : fonction Fibonacci récursive**\n",
        "\n",
        "</center>\n",
        "\n",
        "---\n",
        "\n",
        "- (a) : Définissez une fonction récursive `fibonacci` qui renvoie le n-ième terme de la suite de Fibonacci.\n",
        "\n",
        "Conditions initiales :\n",
        "\n",
        "$$F(0)=0$$\n",
        "$$F(1)=1$$\n",
        "\n",
        "Relation de récurrence pour $n>1$ :\n",
        "\n",
        "$$F(n)=F(n−1)+F(n−2)$$\n",
        "- (b) : Calculez $F(10)$ (doit renvoyer 55) :"
      ],
      "metadata": {
        "id": "JZdwswdusUfg"
      }
    },
    {
      "cell_type": "code",
      "source": [
        "# TODO"
      ],
      "metadata": {
        "id": "uVoahbfrrvXg"
      },
      "execution_count": null,
      "outputs": []
    }
  ]
}