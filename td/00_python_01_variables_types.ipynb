{
  "nbformat": 4,
  "nbformat_minor": 0,
  "metadata": {
    "colab": {
      "provenance": []
    },
    "kernelspec": {
      "name": "python3",
      "display_name": "Python 3"
    },
    "language_info": {
      "name": "python"
    }
  },
  "cells": [
    {
      "cell_type": "markdown",
      "source": [
        "---\n",
        "\n",
        "<center>\n",
        "\n",
        "# **Python for Data Science**\n",
        "\n",
        "### *Introduction: Variables and Types*\n",
        "\n",
        "</center>\n"
      ],
      "metadata": {
        "id": "6UqIO5ZN7hD8"
      }
    },
    {
      "cell_type": "markdown",
      "source": [
        "---\n",
        "\n",
        "<center>\n",
        "\n",
        "## **📖 Introduction**\n",
        "\n",
        "</center>\n",
        "\n",
        "---\n"
      ],
      "metadata": {
        "id": "8QLZXk-K9WUm"
      }
    },
    {
      "cell_type": "markdown",
      "source": [
        "Python is a programming language known for its **readable**, **efficient**, and **easy-to-learn** syntax.  \n",
        "It has become one of the most widely used languages in **Data Science** thanks to powerful libraries such as:\n",
        "\n",
        "- [**Numpy**](https://numpy.org/) for scientific computing  \n",
        "- [**Pandas**](https://pandas.pydata.org/) for data processing and analysis  \n",
        "- [**Matplotlib**](https://matplotlib.org/) for creating plots and charts  \n",
        "- [**Scikit-learn**](https://scikit-learn.org/stable/) for training machine learning models  \n",
        "- *And many more!*\n",
        "\n",
        "---\n",
        "\n",
        "Python is not limited to data science: it also offers key features for enterprise integration, working seamlessly with **web services** and **databases**.\n",
        "\n",
        "---\n",
        "\n",
        "In this lesson, you will discover the basics of how to **store and structure data** in Python:\n",
        "\n",
        "- **Variables**\n",
        "- **Lists**\n",
        "- **Tuples**\n",
        "- **Dictionaries**\n",
        "\n",
        "---\n"
      ],
      "metadata": {
        "id": "PXA6UO-w8G2M"
      }
    },
    {
      "cell_type": "markdown",
      "source": [
        "---\n",
        "\n",
        "<center>\n",
        "\n",
        "## **📖 Variables**\n",
        "\n",
        "</center>\n",
        "\n",
        "---\n"
      ],
      "metadata": {
        "id": "Wx72rTsmSgJ8"
      }
    },
    {
      "cell_type": "markdown",
      "source": [
        "In Python, a variable is like a **named box** that holds information we want to use or change later in our program.\n",
        "\n",
        "To create a variable and store a value inside it, we simply write:\n",
        "\n",
        "```python\n",
        "my_variable = some_value\n",
        "```\n",
        "\n",
        "Here, my_variable is the name we chose, and it now holds the value some_value.\n",
        "\n",
        "Variables can store many different types of data, such as numbers and text:\n",
        "\n",
        "```python\n",
        "# Store an integer\n",
        "stars_count = 100\n",
        "\n",
        "# Create another variable based on the first one\n",
        "double_stars = stars_count * 2\n",
        "\n",
        "# Store a string instead\n",
        "stars_count = \"A hundred stars\"\n",
        "```\n",
        "Every time we use the = operator, the old value inside the variable is replaced by the new one.\n",
        "\n",
        "To see what value a variable currently holds, we can use the built-in print function:\n",
        "\n",
        "```python\n",
        "# Create some variables\n",
        "speed_of_light = 299_792_458  # in meters per second\n",
        "half_speed = speed_of_light / 2\n",
        "\n",
        "# Display them\n",
        "print(speed_of_light)\n",
        ">>> 299792458\n",
        "print(half_speed)\n",
        ">>> 149896229.0\n",
        "```\n"
      ],
      "metadata": {
        "id": "BVuC1fzDTLFl"
      }
    },
    {
      "cell_type": "markdown",
      "source": [
        "<center>\n",
        "\n",
        "### **🔍 Example: Working with Variables**\n",
        "\n",
        "</center>\n",
        "\n",
        "---\n",
        "\n",
        "A spacecraft is planning a mission to Mars. The distance from Earth to Mars is 225,000,000 km, and the journey is estimated to take 300 days.\n",
        "Write a Python program that:\n",
        "\n",
        "- (a) Stores the planet name, the distance, and the estimated travel time in variables.\n",
        "- (b) Calculates the average speed required in kilometers per day.\n",
        "- (c) Prints all the information in a clear format."
      ],
      "metadata": {
        "id": "R3nlEZbXU2Sr"
      }
    },
    {
      "cell_type": "code",
      "execution_count": null,
      "metadata": {
        "id": "Ok4kVHoa7Q-b"
      },
      "outputs": [],
      "source": [
        "# TODO"
      ]
    },
    {
      "cell_type": "markdown",
      "source": [
        "<center>\n",
        "\n",
        "### **Naming Variables in Python**\n",
        "\n",
        "</center>\n",
        "\n",
        "---"
      ],
      "metadata": {
        "id": "bcn76eKtWTBZ"
      }
    },
    {
      "cell_type": "markdown",
      "source": [
        "Variable names can be as simple as `x` or `y`, but they can also be more descriptive like `customer_orders_2023` or `total_revenue_q2`.\n",
        "\n",
        "When naming variables, Python requires you to follow some rules:\n",
        "\n",
        "- A variable name must start with a **letter** (a–z, A–Z) or an **underscore** (`_`).\n",
        "\n",
        "- It **cannot** start with a **number**.\n",
        "\n",
        "- Variable names can only include **letters**, **digits**, and **underscores**.\n",
        "\n",
        "- Variable names are **case-sensitive**. For example, `data_value`, `Data_Value`, and `DATA_VALUE` are considered three different variables.\n",
        "\n",
        "---\n",
        "\n",
        "Here are some valid and invalid variable names:\n",
        "\n",
        "```python\n",
        "_valid_name = 10          # valid\n",
        "speedOfLight = 299792458  # valid\n",
        "2fast2furious = \"Nope!\"   # invalid: starts with a digit\n",
        "total-sales = 1000        # invalid: contains a hyphen\n",
        "```"
      ],
      "metadata": {
        "id": "2wGo9fr-WVQv"
      }
    },
    {
      "cell_type": "markdown",
      "source": [
        "---\n",
        "\n",
        "<center>\n",
        "\n",
        "## **📖 Lists**\n",
        "\n",
        "</center>\n",
        "\n",
        "---\n"
      ],
      "metadata": {
        "id": "oNUj8PTAHotf"
      }
    },
    {
      "cell_type": "markdown",
      "source": [
        "<center>\n",
        "\n",
        "### **Lists - Indexing**\n",
        "\n",
        "</center>\n",
        "\n",
        "---"
      ],
      "metadata": {
        "id": "QED1cWDBw2kC"
      }
    },
    {
      "cell_type": "markdown",
      "source": [
        "In Python, a list is a special kind of variable because it can hold several values at once.\n",
        "To create a list, we use square brackets [ ] and separate each item with a comma:\n",
        "\n",
        "```python\n",
        "planets = [\"Mercury\", \"Venus\", \"Earth\", \"Mars\"]\n",
        "```\n",
        "\n",
        "This list now holds 4 elements: `\"Mercury\"`, `\"Venus\"`, `\"Earth\"` and `\"Mars\"`.\n",
        "- The square brackets tell Python where the list starts and ends.\n",
        "- Commas separate each element inside the list.\n",
        "\n",
        "\n",
        "#### **Accessing elements (Indexing)**\n",
        "\n",
        "To get an element from the list, we write its index inside square brackets:\n",
        "```python\n",
        "# Display the first planet\n",
        "print(planets[0])\n",
        ">>> Mercury\n",
        "```\n",
        "Remember: in Python, **the first element has index 0**, the second has index 1, and so on.\n",
        "\n",
        "#### **Changing an element**\n",
        "\n",
        "We can also change the value stored at a specific position:\n",
        "```python\n",
        "# Replace the second planet by another name\n",
        "planets[1] = \"New Venus\"\n",
        "```\n",
        "Now, if we print planets, the second element will be \"New Venus\".\n",
        "\n",
        "#### **Negative indexing**\n",
        "Python also lets us count from the end of the list using negative indices:\n",
        "\n",
        "- -1 means the last element,\n",
        "- -2 means the second-to-last, and so on.\n",
        "\n",
        "This is very handy when working with long lists where we don’t always know the exact length.\n",
        "```python\n",
        "# Replace the last planet\n",
        "planets[-1] = \"Red Planet\"\n",
        "```\n",
        "Now, the last element of the list will show \"Red Planet\" instead of \"Mars\".\n",
        "\n",
        "**Lists are powerful because they let us store, access and change many values easily — perfect for our data explorer missions!**\n"
      ],
      "metadata": {
        "id": "mDZZutPJV5an"
      }
    },
    {
      "cell_type": "markdown",
      "source": [
        "<center>\n",
        "\n",
        "#### **🔍 Example: Working with Lists**\n",
        "\n",
        "</center>\n",
        "\n",
        "---\n",
        "\n",
        "- (a) Sort the list `my_list = [4, 3, 1, 2, 5, 10]` into ascending order **by updating its elements one by one**, without using `sort()`.\n",
        "\n",
        "- (b) Print out `my_list` to see the result.\n"
      ],
      "metadata": {
        "id": "rcSrHmxMu7-l"
      }
    },
    {
      "cell_type": "code",
      "source": [
        "# TODO"
      ],
      "metadata": {
        "id": "U-XH3geeI6n-"
      },
      "execution_count": null,
      "outputs": []
    },
    {
      "cell_type": "markdown",
      "source": [
        "---\n",
        "\n",
        "<center>\n",
        "\n",
        "### **Lists - Slicing**\n",
        "\n",
        "</center>\n",
        "\n",
        "---"
      ],
      "metadata": {
        "id": "bF5TecrCxWwo"
      }
    },
    {
      "cell_type": "markdown",
      "source": [
        "In Python, we can also extract sub-lists using a technique called slicing.\n",
        "\n",
        "Slicing allows us to get a portion of a list by specifying the start index and end index, separated by a colon.\n",
        "\n",
        "```python\n",
        "galaxy_items = [42, \"Star\", -7.5, \"Nebula\", 108, \"Comet\", 0]\n",
        "\n",
        "# Get the first four elements from the list\n",
        "first_items = galaxy_items[0:4]\n",
        "\n",
        "# Display the sub-list\n",
        "print(first_items)\n",
        ">>> [42, \"Star\", -7.5, \"Nebula\"]\n",
        "```\n",
        "Notice that the element at the **end index** (index 4 in this case) is **not included** in the result.\n",
        "So `galaxy_items[0:4]` returns the elements at indices `0, 1, 2, 3`.\n",
        "\n",
        "If we omit the start index, Python assumes it starts from the beginning:\n",
        "```python\n",
        "# Same result as above\n",
        "first_items = galaxy_items[:4]\n",
        "```\n",
        "Likewise, if we omit the end index, the slice goes from the start index to the end of the list:\n",
        "```python\n",
        "# Get the last three items\n",
        "last_items = space_list[-3:]\n",
        "\n",
        "# Display them\n",
        "print(last_items)\n",
        ">>> [8, 'Galaxy', 77]\n",
        "```"
      ],
      "metadata": {
        "id": "5o6lIHDSxh2z"
      }
    },
    {
      "cell_type": "markdown",
      "source": [
        "<center>\n",
        "\n",
        "#### **🔍 Example: Working with Slicing**\n",
        "\n",
        "</center>\n",
        "\n",
        "---\n",
        "\n",
        "\n",
        "- (a) Display the first 10 items of the list `long_list = [0, 1, 2, ..., 99]`.\n",
        ".\n",
        "\n",
        "- (b) Display the last 10 items of `long_list`.\n"
      ],
      "metadata": {
        "id": "p9ieEejNy6aU"
      }
    },
    {
      "cell_type": "code",
      "source": [
        "# TODO"
      ],
      "metadata": {
        "id": "8dxB65HhwASk"
      },
      "execution_count": null,
      "outputs": []
    },
    {
      "cell_type": "markdown",
      "source": [
        "---\n",
        "\n",
        "<center>\n",
        "\n",
        "### **Lists - Methods**\n",
        "\n",
        "</center>\n",
        "\n",
        "---"
      ],
      "metadata": {
        "id": "pz11hXHS3Jq4"
      }
    },
    {
      "cell_type": "markdown",
      "source": [
        "So far, we've learned how to update elements in a list. Next, we'll explore how to add or remove items from a list.\n",
        "\n",
        "To do this, we'll use two methods: **insert** and **pop**. In Object-Oriented Programming (OOP), a method is a special function attached to an object’s class—in our case, lists.\n",
        "\n",
        "The **pop** method for lists allows you to **remove** an element at a specific index. It also **returns** the value of the removed element:\n",
        "\n",
        "```python\n",
        "my_items = [10, 42, \"Hello\", -2.5, \"world\", 88, \"Python\"]\n",
        "\n",
        "# Remove and return the element at index 3\n",
        "removed_element = my_items.pop(3)\n",
        "\n",
        "# Display the updated list\n",
        "print(my_items)\n",
        ">>> [10, 42, \"Hello\", \"world\", 88, \"Python\"]\n",
        "```\n",
        "\n",
        "The syntax for calling a method follows specific rules:\n",
        "\n",
        "- The object calling the method must already exist.\n",
        "- The method name is followed by parentheses containing any arguments needed to customize its behavior.\n",
        "- The object name and the method are separated by a dot (`.`).\n",
        "\n",
        "The pop method takes exactly one argument: the index of the element you want to remove."
      ],
      "metadata": {
        "id": "MXaqy73Y3Mx_"
      }
    },
    {
      "cell_type": "markdown",
      "source": [
        "<center>\n",
        "\n",
        "#### **🔍 Example: Using the pop Method with Lists**\n",
        "\n",
        "</center>\n",
        "\n",
        "---\n",
        "\n",
        "Your tasks:\n",
        "\n",
        "Use the pop() method without an argument to remove and return the last planet in the list.\n",
        "\n",
        "- (a) Print the name of the removed planet.\n",
        "\n",
        "- (b) Print the updated list of planets.\n",
        "\n",
        "Use the pop() method with an argument to remove and return the first planet in the list (index 0).\n",
        "\n",
        "- (c) Print the name of this removed planet.\n",
        "\n",
        "- (d) Print the updated list of planets.\n",
        "\n",
        "```python\n",
        "# Create a list of planets\n",
        "planet_list = [\"Mercury\", \"Venus\", \"Earth\", \"Mars\", \"Jupiter\"]\n",
        "```"
      ],
      "metadata": {
        "id": "nBU6ugjw5BLS"
      }
    },
    {
      "cell_type": "code",
      "source": [
        "# TODO"
      ],
      "metadata": {
        "id": "LP6oV9kB47Lc"
      },
      "execution_count": null,
      "outputs": []
    },
    {
      "cell_type": "markdown",
      "source": [
        "#### Lists method : insert\n",
        "\n",
        "---\n",
        "\n",
        "To add a new value into a list at a specific position, we use the `insert` method. This method requires **two arguments**:\n",
        "\n",
        "- The first argument is the **index** where you want to insert the new value.\n",
        "- The second argument is the **value** itself.\n",
        "\n",
        "For example:\n",
        "```python\n",
        "# Insert the string \"Hello\" at index 2\n",
        "my_list.insert(2, \"Hello\")\n",
        "```\n",
        "When a method takes multiple arguments, separate them with commas inside the parentheses."
      ],
      "metadata": {
        "id": "2IQkpGL13Cd5"
      }
    },
    {
      "cell_type": "markdown",
      "source": [
        "<center>\n",
        "\n",
        "#### **🔍 Example: Manipulating Lists with pop() and insert()**\n",
        "\n",
        "</center>\n",
        "\n",
        "---\n",
        "\n",
        "- (a) Remove all numbers from my_list by using the pop method repeatedly.\n",
        "```python\n",
        "my_list = [\"Bonjour\", 10, \"comment\", 5, \"ça\", 3, \"va\", 8]\n",
        "```\n",
        "\n",
        "- (d) Insert the elements \"Hello\", \"how\", \"are\", and \"you\" into my_list at the correct positions so that when printed, the list looks like this:\n",
        "```python\n",
        "[\"Bonjour\", \"Hello\", \"comment\", \"how\", \"ça\", \"are\", \"va\", \"you\"]\n",
        "```"
      ],
      "metadata": {
        "id": "kUpQKr9q6xzP"
      }
    },
    {
      "cell_type": "code",
      "source": [
        "# TODO"
      ],
      "metadata": {
        "id": "2lBjwnDv6tmL"
      },
      "execution_count": null,
      "outputs": []
    },
    {
      "cell_type": "markdown",
      "source": [
        "#### Lists methods : append and extend\n",
        "\n",
        "---\n",
        "\n",
        "Python, you can easily add an item to the end of a list using the append method.\n",
        "```python\n",
        "# Add the element \"Goodbye\" to the end of the list\n",
        "my_list.append(\"Goodbye\")\n",
        "```\n",
        "This method is very useful when you want to gradually build up a list, for example, to store values that a variable takes over time.\n",
        "\n",
        "To merge two lists, we can use the `extend` method.\n",
        "\n",
        "The argument to `extend` is another list whose elements will be added to the end of the original list.\n",
        "```python\n",
        "# Example: merge two lists\n",
        "planets = [\"Earth\", \"Mars\", \"Jupiter\"]\n",
        "new_planets = [\"Saturn\", \"Uranus\"]\n",
        "\n",
        "planets.extend(new_planets)\n",
        "print(planets)\n",
        ">>>['Earth', 'Mars', 'Jupiter', 'Saturn', 'Uranus']\n",
        "```\n",
        "It’s also possible to merge lists with the `+` operator, but it’s generally not recommended because it can make the code confusing, especially when you’re not sure whether you’re working with numbers or lists.\n",
        "\n",
        "<center>\n",
        "\n",
        "#### **List Methods Summary**\n",
        "\n",
        "</center>\n",
        "\n",
        "---\n",
        "\n",
        "All lists in Python come with built-in **methods** that let us easily add, remove, or combine elements.\n",
        "\n",
        "| Method    | Argument(s)      | Description                                                      |\n",
        "|----------|------------------|------------------------------------------------------------------|\n",
        "| `pop`    | index            | Removes and returns the element at the specified index           |\n",
        "| `insert` | index, value     | Inserts a new element at the given index                          |\n",
        "| `append` | value            | Adds the value to the end of the list                             |\n",
        "| `extend` | list             | Merges the calling list with another list                          |\n",
        "\n",
        "All object types in Python come with their own methods.  \n",
        "Later in this course, we’ll explore **object-oriented programming (OOP)** and see why methods are such a powerful tool in Python."
      ],
      "metadata": {
        "id": "FGkbT01r8PvQ"
      }
    },
    {
      "cell_type": "markdown",
      "source": [
        "<center>\n",
        "\n",
        "#### **🔍 Example: Manipulating a List of Planets**\n",
        "\n",
        "</center>\n",
        "\n",
        "---\n",
        "\n",
        "Let's practice what we've learned about lists by doing the following:\n",
        "\n",
        "- (a) Create a list called `planets` containing:  \n",
        "`[\"Mercury\", \"Venus\", \"Earth\", \"Mars\"]`\n",
        "\n",
        "- (b) Add two new planets at the end of the list: `\"Jupiter\"` and `\"Saturn\"`  \n",
        "(Hint: use `append`)\n",
        "\n",
        "- (c) Insert `\"Mars\"` right after `\"Earth\"`  \n",
        "(Hint: use `insert`)\n",
        "\n",
        "- (d) Remove `\"Mars\"` from the list  \n",
        "(Hint: use `pop`)\n",
        "\n",
        "- (e) Merge another list `[\"Uranus\", \"Neptune\"]` into `planets`  \n",
        "(Hint: use `extend`)\n",
        "\n",
        "- (f) Print the final `planets` list to see the result.\n"
      ],
      "metadata": {
        "id": "jb_MB7GC-7QO"
      }
    },
    {
      "cell_type": "code",
      "source": [
        "# TODO"
      ],
      "metadata": {
        "id": "69q5vRK4_UB6"
      },
      "execution_count": null,
      "outputs": []
    },
    {
      "cell_type": "markdown",
      "source": [
        "---\n",
        "\n",
        "<center>\n",
        "\n",
        "## **📖 Tuples**\n",
        "\n",
        "</center>\n",
        "\n",
        "---"
      ],
      "metadata": {
        "id": "obl-E9bH-18X"
      }
    },
    {
      "cell_type": "markdown",
      "source": [
        "Tuples are a data structure in Python that look similar to lists.  \n",
        "They can be created **with or without parentheses**, and their indexing works exactly like lists.\n",
        "\n",
        "One important difference:  \n",
        "✅ **Tuples are *immutable*** — you *cannot* change their elements once they are created.\n",
        "\n",
        "```python\n",
        "# Creating a tuple\n",
        "my_tuple = (\"Hello\", -1, 133)\n",
        "\n",
        "# Access the first element\n",
        "print(my_tuple[0])\n",
        ">>> Hello\n",
        "\n",
        "# Access the last element\n",
        "print(my_tuple[-1])\n",
        ">>> 133\n"
      ],
      "metadata": {
        "id": "l-vZ27KlBU2v"
      }
    },
    {
      "cell_type": "markdown",
      "source": [
        "<center>\n",
        "\n",
        "#### **🔍 Example: Working with Tuples**\n",
        "\n",
        "</center>\n",
        "\n",
        "---\n",
        "\n",
        "\n",
        "- (a) Create a tuple named `planet_data` containing:\n",
        "  - the name of the planet: `\"Earth\"`\n",
        "  - its average distance to the Sun in million km: `149.6`\n",
        "  - the number of moons: `1`\n",
        "\n",
        "- (b) Print each element of the tuple separately:\n",
        "  - The planet name\n",
        "  - Its distance to the Sun\n",
        "  - Number of moons\n",
        "\n",
        "- (c) Use tuple unpacking to assign these three values to the variables:\n",
        "  - `name`, `distance`, and `moons`,  \n",
        "  - then print them to check."
      ],
      "metadata": {
        "id": "j8R-Cx2VCf-O"
      }
    },
    {
      "cell_type": "code",
      "source": [
        "# TODO"
      ],
      "metadata": {
        "id": "tEpAID8ECZln"
      },
      "execution_count": null,
      "outputs": []
    },
    {
      "cell_type": "markdown",
      "source": [
        "---\n",
        "\n",
        "<center>\n",
        "\n",
        "## **📖 Dictionaries**\n",
        "\n",
        "</center>\n",
        "\n",
        "---"
      ],
      "metadata": {
        "id": "7D1kKpB5DDo5"
      }
    },
    {
      "cell_type": "markdown",
      "source": [
        "\n",
        "A **dictionary** in Python is like a real dictionary: it stores **pairs** of information.  \n",
        "Each piece of data has a **key** and a **value**.\n",
        "\n",
        "You create a dictionary using curly braces `{}` with keys and values separated by a colon `:`:\n",
        "\n",
        "```python\n",
        "planet_info = {\n",
        "    \"name\": \"Earth\",\n",
        "    \"distance\": 149.6,\n",
        "    \"moons\": 1\n",
        "}\n",
        "```\n",
        "- `\"name\"`, `\"distance\"`, and `\"moons\"` are the keys\n",
        "- `\"Earth\"`, `149.6`, and `1` are the corresponding values\n",
        "\n",
        "You can access values by their key:\n",
        "```python\n",
        "print(planet_info[\"name\"])     \n",
        ">>> Earth\n",
        "print(planet_info[\"distance\"])\n",
        ">>> 149.6\n",
        "```\n",
        "**Updating and adding values**\n",
        "- To change a value:\n",
        "```python\n",
        "planet_info[\"moons\"] = 2\n",
        "```\n",
        "- To add a value\n",
        "```python\n",
        "planet_info[\"has_rings\"] = False\n",
        "```"
      ],
      "metadata": {
        "id": "DRAU0hF6DgKs"
      }
    },
    {
      "cell_type": "markdown",
      "source": [
        "<center>\n",
        "\n",
        "#### **🔍 Example: Working with Dictionaries**\n",
        "\n",
        "</center>\n",
        "\n",
        "---\n",
        "\n",
        "- (a) Create a dictionary `mars_info` with the following data:\n",
        "  - `\"name\"` → `\"Mars\"`\n",
        "  - `\"distance\"` → `227.9` (million km)\n",
        "  - `\"moons\"` → `2`\n",
        "\n",
        "- (b) Print each value by accessing its key.\n",
        "\n",
        "- (c) Add a new key `\"has_rings\"` with the value `False`.\n",
        "\n",
        "- (d) Change the value of `\"moons\"` to `3`.\n",
        "\n",
        "- (e) Print the updated dictionary."
      ],
      "metadata": {
        "id": "jzOpnLBGEp2v"
      }
    },
    {
      "cell_type": "code",
      "source": [
        "# TODO"
      ],
      "metadata": {
        "id": "qHIvDRFjDfY9"
      },
      "execution_count": null,
      "outputs": []
    },
    {
      "cell_type": "markdown",
      "source": [
        "---\n",
        "\n",
        "<center>\n",
        "\n",
        "## **📖 Conclusion**\n",
        "\n",
        "</center>\n",
        "\n",
        "---"
      ],
      "metadata": {
        "id": "vw9_WmDtEXvh"
      }
    },
    {
      "cell_type": "markdown",
      "source": [
        "- Lists, tuples, and dictionaries are all **indexable variables** that can store multiple values of different types.\n",
        "\n",
        "- In this introductory notebook, we learned how to work with them.  \n",
        "  The syntax we practiced will also apply to other indexable objects we’ll explore later in this course, such as **databases**.\n",
        "\n",
        "- Accessing elements from an indexable type is done using square brackets `[ ]`:\n",
        "  - For **lists** and **tuples**: by using a **position index** (starting from 0).  \n",
        "    We can also access multiple elements at once using **slicing**.\n",
        "  - For **dictionaries**: by using a **key**.\n",
        "\n",
        "---\n",
        "\n",
        "### **Syntax recap**\n",
        "\n",
        "---\n",
        "\n",
        "| Type            | Symbol used to create it | Example                        |\n",
        "|-----------------|-------------------------:|-------------------------------:|\n",
        "| List            | `[ ]`                    | `my_list = [1, 2, 3]`          |\n",
        "| Tuple           | `( )`                    | `my_tuple = (1, 2, 3)`         |\n",
        "| Dictionary      | `{ }`                    | `my_dict = {\"a\": 1, \"b\": 2}`   |\n",
        "\n",
        "All of these are actually **object classes** in Python.  \n",
        "We can work with them in more advanced ways using their **methods**.\n",
        "\n",
        "For example, here are some methods we practiced with lists:\n",
        "\n",
        "| Method   | Argument           | Description                                           |\n",
        "|--------:|-------------------:|------------------------------------------------------:|\n",
        "| `pop`   | index              | Removes and returns the element at the given index    |\n",
        "| `insert`| index, value       | Inserts a new element at the given index              |\n",
        "| `append`| value              | Adds the value to the end of the list                 |\n",
        "| `extend`| list               | Merges the list with another list                      |\n",
        "\n",
        "---\n",
        "\n",
        "In the next section, we’ll discover **operators** in Python.\n"
      ],
      "metadata": {
        "id": "M0_Tfi1oGFkS"
      }
    }
  ]
}