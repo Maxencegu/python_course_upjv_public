{
  "nbformat": 4,
  "nbformat_minor": 0,
  "metadata": {
    "colab": {
      "provenance": [],
      "collapsed_sections": [
        "i-lcnJ3v59AF",
        "TzgKMM-87GR7",
        "A4qNr6uq83AE",
        "29x4k3fsA3pM",
        "CcQYHauq3ulT",
        "POlpSGB86vsn",
        "Nz_zUilP97L7",
        "8vKvBMNvAZ8y",
        "0BU-SqmnBkCh",
        "btNMfDgTBvC5"
      ],
      "authorship_tag": "ABX9TyMzGepERH8GO/ld2DXK/ZY+",
      "include_colab_link": true
    },
    "kernelspec": {
      "name": "python3",
      "display_name": "Python 3"
    },
    "language_info": {
      "name": "python"
    }
  },
  "cells": [
    {
      "cell_type": "markdown",
      "metadata": {
        "id": "view-in-github",
        "colab_type": "text"
      },
      "source": [
        "<a href=\"https://colab.research.google.com/github/Maxencegu/python_course_upjv/blob/main/corrections/00_python_02_operators_and_control_structures_correction.ipynb\" target=\"_parent\"><img src=\"https://colab.research.google.com/assets/colab-badge.svg\" alt=\"Open In Colab\"/></a>"
      ]
    },
    {
      "cell_type": "markdown",
      "source": [
        "---\n",
        "\n",
        "<center>\n",
        "\n",
        "# **Python for Data Science**\n",
        "\n",
        "### *Operators and control structures*\n",
        "\n",
        "</center>\n",
        "\n",
        "---"
      ],
      "metadata": {
        "id": "6RFxq2-E5sGr"
      }
    },
    {
      "cell_type": "markdown",
      "source": [
        "<center>\n",
        "\n",
        "## **📖 Introduction**\n",
        "\n",
        "</center>\n"
      ],
      "metadata": {
        "id": "i-lcnJ3v59AF"
      }
    },
    {
      "cell_type": "markdown",
      "source": [
        "---\n",
        "\n",
        "### **Python Operators and Control Flow**\n",
        "\n",
        "---\n",
        "\n",
        "In Python, operators like `+` or `=` allow us to perform operations on variables and their values.  \n",
        "These operators belong to several main families of Python operators.  \n",
        "In this notebook, we'll learn to use the following categories:\n",
        "\n",
        "- **Arithmetic operators**: Used to perform basic mathematical operations like addition, subtraction, multiplication, etc.\n",
        "- **Assignment operators**: Used to assign values to variables (e.g., `=`, `+=`).\n",
        "- **Comparison operators**: Used to compare two values and return a boolean (`==`, `!=`, `<`, `>`, etc.).\n",
        "- **Membership operators**: Used to check if a value exists within a sequence (`in`, `not in`).\n",
        "- **Logical operators**: Used to combine multiple conditions (`and`, `or`, `not`).\n",
        "\n",
        "Finally, we will see how to use these operators to control the flow of our code  \n",
        "with conditional statements such as `if`, `else`, and `elif`.\n",
        "\n",
        "**Example variable names** we might use:\n",
        "- `num_a`, `num_b` for numbers\n",
        "- `is_valid` for boolean checks\n",
        "- `result` for storing the output of operations\n",
        "\n",
        "By the end of this section, you’ll be able to combine these tools to write more dynamic and interactive programs."
      ],
      "metadata": {
        "id": "4tsSSTc86kbv"
      }
    },
    {
      "cell_type": "markdown",
      "source": [
        "---\n",
        "\n",
        "<center>\n",
        "\n",
        "## **📖 Arithmetic Operators**\n",
        "\n",
        "</center>\n",
        "\n",
        "---\n"
      ],
      "metadata": {
        "id": "TzgKMM-87GR7"
      }
    },
    {
      "cell_type": "markdown",
      "source": [
        "Arithmetic operators in Python allow you to perform mathematical operations on numeric variables.  \n",
        "Here’s a summary table of the most common ones:\n",
        "\n",
        "| Symbol | Operation        | Example               | Result     |\n",
        "|:-----:|:-----------------|:---------------------:|:---------:|\n",
        "| +     | Addition         | `6 + 4`               | `10`      |\n",
        "| -     | Subtraction      | `6 - 4`               | `2`       |\n",
        "| *     | Multiplication   | `6 * 4`               | `24`      |\n",
        "| /     | Division         | `6 / 4`               | `1.5`     |\n",
        "| //    | Floor division   | `6.0 // 4`            | `1`       |\n",
        "| **    | Power            | `6 ** 4`              | `1296`    |\n",
        "| %     | Modulo           | `6 % 4`               | `2`       |\n",
        "\n",
        "**Floor division `//`** counts how many times the right number fully fits into the left number.  \n",
        "Example: `7 // 2` is `3` because `2` fits three times into `7`.\n",
        "\n",
        "**Modulo `%`** gives the remainder of the division.  \n",
        "Example: `7 % 2` is `1` because `7` divided by `2` gives `3` with a remainder of `1`.\n",
        "\n",
        "The `%` operator is also useful to check if a number is even or odd:\n",
        "- If `n % 2` is `0`, the number `n` is even.\n",
        "- If `n % 2` is `1`, the number `n` is odd."
      ],
      "metadata": {
        "id": "40MxNQCc7KYz"
      }
    },
    {
      "cell_type": "markdown",
      "source": [
        "---\n",
        "\n",
        "<center>\n",
        "\n",
        "### **🔍 Example : working with operators**\n",
        "\n",
        "</center>\n",
        "\n",
        "---\n",
        "\n",
        "- (a) Create a variable `distance` and assign it the value `750` (the distance from Paris to Marseille in km).\n",
        "\n",
        "- (b) Create a variable `speed` and assign it the value `4.8` (average walking speed in km/h).\n",
        "\n",
        "- (c) Create a new variable `time` equal to `distance` divided by `speed`.\n",
        "\n",
        "  - The variable `time` represents the number of hours it would take a person walking non-stop.\n",
        "\n",
        "- (d) Calculate how many **days** and **hours** it would take.  \n",
        "Print the answer in the format:  \n",
        "> `\"It would take the walker 6.0 days and 12.25 hours.\"`\n",
        "\n",
        "**Tip:** Use floor division `//` to get the number of days and modulo `%` or subtraction to get the remaining hours."
      ],
      "metadata": {
        "id": "nP3CNMWl7nCS"
      }
    },
    {
      "cell_type": "code",
      "execution_count": null,
      "metadata": {
        "colab": {
          "base_uri": "https://localhost:8080/"
        },
        "id": "e2PdHI-p5NOA",
        "outputId": "d010e385-3f63-45d8-819c-57a1563e1e35"
      },
      "outputs": [
        {
          "output_type": "stream",
          "name": "stdout",
          "text": [
            "It would take the walker 6.0 days and 12.25 hours.\n"
          ]
        }
      ],
      "source": [
        "# Step (a): Create the distance variable (in km)\n",
        "distance = 750\n",
        "\n",
        "# Step (b): Create the speed variable (in km/h)\n",
        "speed = 4.8\n",
        "\n",
        "# Step (c): Calculate the time in hours\n",
        "time = distance / speed\n",
        "\n",
        "# Step (d): Calculate the number of days and remaining hours\n",
        "days = time // 24                        # floor division gives full days\n",
        "remaining_hours = time % 24              # modulo gives the remaining hours\n",
        "\n",
        "# Print the final message\n",
        "print(f\"It would take the walker {days} days and {remaining_hours} hours.\")\n"
      ]
    },
    {
      "cell_type": "markdown",
      "source": [
        "---\n",
        "\n",
        "<center>\n",
        "\n",
        "## **📖 Assignment Operators**\n",
        "\n",
        "</center>\n",
        "\n",
        "---"
      ],
      "metadata": {
        "id": "A4qNr6uq83AE"
      }
    },
    {
      "cell_type": "markdown",
      "source": [
        "For all arithmetic operations (like addition or multiplication), Python offers a quick way to apply the operation *and* assign the result in one single step.  \n",
        "These are called **assignment operators**:\n",
        "\n",
        "| Symbol | Operation        |\n",
        "|-------|------------------:|\n",
        "| +=    | Addition          |\n",
        "| -=    | Subtraction       |\n",
        "| *=    | Multiplication    |\n",
        "| /=    | Division          |\n",
        "| //=   | Floor division    |\n",
        "| **=   | Exponentiation    |\n",
        "| %=    | Modulo            |\n",
        "\n",
        "For instance, writing `x += 3` is the same as `x = x + 3`.  \n",
        "Similarly, `z **= 2` is the same as `z = z ** 2`."
      ],
      "metadata": {
        "id": "w1H2tJHe9ZPx"
      }
    },
    {
      "cell_type": "markdown",
      "source": [
        "---\n",
        "\n",
        "<center>\n",
        "\n",
        "### **🔍 Example : the magician's claim**\n",
        "\n",
        "</center>\n",
        "\n",
        "---\n",
        "\n",
        "A magician says:\n",
        "\n",
        "> - Choose a prime number (other than 2 and 3).\n",
        "> - Square it.\n",
        "> - Add 17.\n",
        "> - Divide by 12 and keep the remainder.\n",
        ">\n",
        "> The magician claims the remainder will *always* be 6.\n",
        "\n",
        "**Is the magician correct?**\n",
        "\n",
        "**Hint:**  \n",
        "The 10 smallest prime numbers other than 2 and 3 are:  \n",
        "5, 7, 11, 13, 17, 19, 23, 29, 31, 37.\n",
        "\n",
        "Your task:\n",
        "- (a) Write code to check if the magician's claim holds true for all these numbers.\n",
        "- (b) Print each number, its squared value + 17, and the remainder after dividing by 12.\n",
        "\n",
        "*Tip:* You can use a for loop and the modulo operator `%`.\n"
      ],
      "metadata": {
        "id": "NqDgQLlI91HF"
      }
    },
    {
      "cell_type": "code",
      "source": [
        "# List of the first 10 prime numbers greater than 3\n",
        "primes = [5, 7, 11, 13, 17, 19, 23, 29, 31, 37]\n",
        "\n",
        "# Check if for each prime number the expression (n^2 + 17) % 12 == 6\n",
        "for prime in primes:\n",
        "    result = (prime ** 2 + 17) % 12\n",
        "    print(f\"For prime number {prime}: (n^2 + 17) % 12 = {result}\")\n"
      ],
      "metadata": {
        "colab": {
          "base_uri": "https://localhost:8080/"
        },
        "id": "CdC4d4jO8jJK",
        "outputId": "7621d3bd-b3d1-4f9e-e42d-cad6810eac20"
      },
      "execution_count": null,
      "outputs": [
        {
          "output_type": "stream",
          "name": "stdout",
          "text": [
            "For prime number 5: (n^2 + 17) % 12 = 6\n",
            "For prime number 7: (n^2 + 17) % 12 = 6\n",
            "For prime number 11: (n^2 + 17) % 12 = 6\n",
            "For prime number 13: (n^2 + 17) % 12 = 6\n",
            "For prime number 17: (n^2 + 17) % 12 = 6\n",
            "For prime number 19: (n^2 + 17) % 12 = 6\n",
            "For prime number 23: (n^2 + 17) % 12 = 6\n",
            "For prime number 29: (n^2 + 17) % 12 = 6\n",
            "For prime number 31: (n^2 + 17) % 12 = 6\n",
            "For prime number 37: (n^2 + 17) % 12 = 6\n"
          ]
        }
      ]
    },
    {
      "cell_type": "markdown",
      "source": [
        "---\n",
        "\n",
        "<center>\n",
        "\n",
        "## **📖 Comparison Operators**\n",
        "\n",
        "</center>\n",
        "\n",
        "---"
      ],
      "metadata": {
        "id": "29x4k3fsA3pM"
      }
    },
    {
      "cell_type": "markdown",
      "source": [
        "Comparison operators allow us to compare the values of two variables. These comparisons return a boolean value: `True` if the expression is true, or `False` if it is false. For example:\n",
        "\n",
        "```python\n",
        "x, y = 3, 5\n",
        "\n",
        "# Is x less than y?\n",
        "print(x < y)\n",
        ">>> True\n",
        "```\n",
        "Python’s comparison operators are:\n",
        "\n",
        "| Expression | Example  | Meaning                        |\n",
        "|------------|----------|--------------------------------|\n",
        "| `<`        | x < y    | Is x strictly less than y?     |\n",
        "| `<=`       | x <= y   | Is x less than or equal to y?  |\n",
        "| `>`        | x > y    | Is x strictly greater than y?  |\n",
        "| `>=`       | x >= y   | Is x greater than or equal to y? |\n",
        "| `==`       | x == y   | Is x equal to y?               |\n",
        "| `!=`       | x != y   | Is x different from y?         |\n",
        "\n",
        "```python\n",
        "x, y = 3, 5\n",
        "\n",
        "# Is x equal to y?\n",
        "print(x == y)\n",
        ">>> False\n",
        "```\n",
        "**Note:** Do **NOT** confuse `x == y` (comparison) with `x = y` (assignment).\n",
        "\n",
        "---\n",
        "\n",
        "### 🔍 Example :\n",
        "\n",
        "- (a) In one line of code, determine with a boolean value if 7 divides 37 + 214.\n",
        "  - As on a calculator, you can use parentheses to specify operation priorities.\n",
        "- (b) Now determine if 7 divides the expression `32*n + 1 + 24*n + 2` for `n = 4`, `5`, and `10`."
      ],
      "metadata": {
        "id": "1WxcNdmRBKSD"
      }
    },
    {
      "cell_type": "code",
      "source": [
        "# (a) Check if 7 divides 37 + 214\n",
        "result_a = ((37 + 214) % 7) == 0\n",
        "print(f\"(a) Does 7 divide 37 + 214? {result_a}\")\n",
        "\n",
        "# (b) Check if 7 divides 32*n + 1 + 24*n + 2 for n = 4, 5, 10\n",
        "for n in [4, 5, 10]:\n",
        "    expression = (32 * n + 1) + (24 * n + 2)\n",
        "    divides = (expression % 7) == 0\n",
        "    print(f\"(b) For n={n}, does 7 divide 32*n + 1 + 24*n + 2? {divides}\")"
      ],
      "metadata": {
        "colab": {
          "base_uri": "https://localhost:8080/"
        },
        "id": "U4NCeqOwAair",
        "outputId": "9c93e1f9-dac4-45b7-87d5-afd58a2a68a7"
      },
      "execution_count": null,
      "outputs": [
        {
          "output_type": "stream",
          "name": "stdout",
          "text": [
            "(a) Does 7 divide 37 + 214? False\n",
            "(b) For n=4, does 7 divide 32*n + 1 + 24*n + 2? False\n",
            "(b) For n=5, does 7 divide 32*n + 1 + 24*n + 2? False\n",
            "(b) For n=10, does 7 divide 32*n + 1 + 24*n + 2? False\n"
          ]
        }
      ]
    },
    {
      "cell_type": "markdown",
      "source": [
        "---\n",
        "\n",
        "<center>\n",
        "\n",
        "## **📖 Membership Operators**\n",
        "\n",
        "</center>\n",
        "\n",
        "---"
      ],
      "metadata": {
        "id": "CcQYHauq3ulT"
      }
    },
    {
      "cell_type": "markdown",
      "source": [
        "Membership operators let you check if a value exists (or does not exist) inside a sequence, such as a list or a tuple.\n",
        "The operator `in` returns `True` if the value is present, and `not in` returns `False` if the value is not present.\n",
        "\n",
        "````python\n",
        "numbers_list = [1, 3, 102, 32, 11, -12, 33]\n",
        "num = 14\n",
        "\n",
        "# Is the value of num inside numbers_list?\n",
        "print(num in numbers_list)\n",
        ">>> False\n",
        "\n",
        "# Is the value of num NOT inside numbers_list?\n",
        "print(num not in numbers_list)\n",
        ">>> True\n",
        "````\n",
        "\n",
        "---\n",
        "\n",
        "### 🔍 Example:\n",
        "\n",
        "The variable `excerpt` below contains a list of words taken from the English Wikipedia article about the FIFA World Cup.\n",
        "\n",
        "- (a) Run the following cell to create the variable `excerpt`:\n",
        "- (b) In one line of code, check if \"`France`\" appears in the `excerpt`.\n",
        "- (c) Check that \"Croatie\" (`Croatia`) is not mentioned in the `excerpt`.\n",
        "\n",
        "````python\n",
        "excerpt = [...]\n",
        "````\n"
      ],
      "metadata": {
        "id": "ChRaho984S-u"
      }
    },
    {
      "cell_type": "code",
      "source": [
        "excerpt = ['Le', 'Brésil,', 'seule', 'équipe', 'à', 'avoir', 'disputé', 'toutes',\n",
        "           'les', 'phases', 'finales', 'de', 'la', 'compétition,', 'détient', 'le', 'record',\n",
        "           'avec', 'cinq', 'titres', 'mondiaux', 'et', \"s'est\", 'acquis', 'le', 'droit', 'de',\n",
        "           'conserver', 'la', 'Coupe', 'Jules-Rimet', 'en', '1970', 'après', 'sa', '3e',\n",
        "           'victoire', 'finale', 'dans', 'la', 'compétition,', 'avec', 'Pelé', 'seul',\n",
        "           'joueur', 'triple', 'champion', 'du', 'monde.', \"l'\", \"Italie\", 'et',\n",
        "           \"l'\", \"Allemagne\", 'comptent', 'quatre', 'trophées.', \"l'\", \"Uruguay,\", 'vainqueur',\n",
        "           'à', 'domicile', 'de', 'la', 'première', 'édition,', \"l'\", \"Argentine\", 'et',\n",
        "           'la', 'France', 'ont', 'gagné', 'chacune', 'deux', 'fois', 'la', 'Coupe,',\n",
        "           \"l'\", \"Angleterre\", 'et', \"l'\", \"Espagne\", 'une', 'fois.', 'La', 'dernière', 'édition',\n",
        "           \"s'est\", 'déroulée', 'en', 'Russie', 'en', '2018,', 'la', 'prochaine', 'doit',\n",
        "           'avoir', 'lieu', 'au', 'Qatar', 'en', '2022.', 'Celle', 'de', '2026,', 'aux',\n",
        "           'États-Unis,', 'au', 'Canada', 'et', 'au', 'Mexique)', 'sera', 'la', 'première',\n",
        "           'édition', 'à', '48', 'équipes', 'participantes.', 'La', 'Coupe', 'du', 'monde',\n",
        "           'de', 'football', 'est', \"l'\", \"événement\", 'sportif', 'le', 'plus', 'regardé', 'à',\n",
        "           'la', 'télévision', 'dans', 'le', 'monde', 'avec', 'les', 'Jeux', 'olympiques',\n",
        "           'et', 'la', 'Coupe', 'du', 'monde', 'de', 'cricket.']\n",
        "\n",
        "# (b) Check if \"France\" is mentioned\n",
        "print(\"France\" in excerpt)\n",
        "\n",
        "# (c) Check that \"Croatie\" is NOT mentioned\n",
        "print(\"Croatie\" not in excerpt)\n"
      ],
      "metadata": {
        "id": "8CJAiPseCWht",
        "colab": {
          "base_uri": "https://localhost:8080/"
        },
        "outputId": "3c96e23f-caf1-4993-f8fe-361eaba89530"
      },
      "execution_count": null,
      "outputs": [
        {
          "output_type": "stream",
          "name": "stdout",
          "text": [
            "True\n",
            "True\n"
          ]
        }
      ]
    },
    {
      "cell_type": "markdown",
      "source": [
        "---\n",
        "\n",
        "<center>\n",
        "\n",
        "## **📖 Logical Operators**\n",
        "\n",
        "</center>\n",
        "\n",
        "---"
      ],
      "metadata": {
        "id": "POlpSGB86vsn"
      }
    },
    {
      "cell_type": "markdown",
      "source": [
        "Logical operators allow us to do what's called boolean arithmetic.\n",
        "When we have multiple boolean expressions, logical operators let us check if:\n",
        "\n",
        "- **All expressions are true**.\n",
        "- **At least one expression is true**.\n",
        "\n",
        "````python\n",
        "a, b = 3, 5\n",
        "\n",
        "# Is a less than b?\n",
        "expr1 = (a < b)\n",
        "\n",
        "# Is b divisible by a?\n",
        "expr2 = (b % a == 0)\n",
        "\n",
        "# Are both expressions true?\n",
        "print(expr1 and expr2)\n",
        "# >>> False\n",
        "\n",
        "# Is at least one of them true?\n",
        "print(expr1 or expr2)\n",
        "# >>> True\n",
        "````\n",
        "\n",
        "The `not` operator gives the opposite (negation) of an expression:\n",
        "\n",
        "````python\n",
        "a, b = 3, 5\n",
        "\n",
        "expr = (b % a == 0)\n",
        "\n",
        "# Is b divisible by a?\n",
        "print(expr)\n",
        "# >>> False\n",
        "\n",
        "# Is b NOT divisible by a?\n",
        "print(not expr)\n",
        "# >>> True\n",
        "````\n",
        "| Operator | Example | Meaning |\n",
        "|:-------:|:-------:|:-------:|\n",
        "| and     | P and Q | Are both P and Q true? |\n",
        "| or      | P or Q  | Is at least one of P or Q true? |\n",
        "| not     | not P   | The opposite (negation) of expression P |\n",
        "\n",
        "---\n",
        "\n",
        "### 🔍 Example: Government bonus exercise\n",
        "\n",
        "The government decided to give a €300 bonus to some employees, depending on their salary and years of experience.\n",
        "Like many government measures, it's not so clear who qualifies.\n",
        "\n",
        "From what you understood, a person can get the bonus if:\n",
        "\n",
        "- Criterion 1: Less than 5 years of experience and salary strictly below €1500.\n",
        "- Criterion 2: Between 5 and 10 years of experience and salary between €1500 and €2300.\n",
        "- Criterion 3: More than 10 years of experience and salary strictly below €1500 or above €2300.\n",
        "\n",
        "(So if someone has more than 10 years and a salary between €1500 and €2300, they don't get the bonus.)\n",
        "\n",
        "`Bernadette has 12 years of experience and a salary of €2400.\n",
        "Marc has 6 years of experience and a salary of €1490.`\n",
        "\n",
        "- (a) Use logical expressions to decide who qualifies for the bonus.\n",
        "  - Create two variables: experience and salary\n",
        "  - Evaluate the 3 criteria\n",
        "  - Check if at least one of them is true\n",
        "\n",
        "Tip:\n",
        "To check if a value x is between two values a and b, you can either:\n",
        "````python\n",
        "a < x and x < b\n",
        "````\n",
        "or\n",
        "````python\n",
        "a < x < b\n",
        "````"
      ],
      "metadata": {
        "id": "zszrvumI6z8R"
      }
    },
    {
      "cell_type": "code",
      "source": [
        "def gets_bonus(seniority, salary):\n",
        "    criterion1 = (seniority < 5) and (salary < 1500)\n",
        "    criterion2 = (5 <= seniority <= 10) and (1500 <= salary <= 2300)\n",
        "    criterion3 = (seniority > 10) and (salary < 1500 or salary > 2300)\n",
        "    return criterion1 or criterion2 or criterion3\n",
        "\n",
        "# Bernadette\n",
        "print(\"Bernadette gets the bonus?\", gets_bonus(12, 2400))\n",
        "\n",
        "# Marc\n",
        "print(\"Marc gets the bonus?\", gets_bonus(6, 1490))\n"
      ],
      "metadata": {
        "colab": {
          "base_uri": "https://localhost:8080/"
        },
        "id": "fVibyYRP6G9z",
        "outputId": "e04eacf2-d030-416e-d6a6-403742345b57"
      },
      "execution_count": null,
      "outputs": [
        {
          "output_type": "stream",
          "name": "stdout",
          "text": [
            "Bernadette gets the bonus? True\n",
            "Marc gets the bonus? False\n"
          ]
        }
      ]
    },
    {
      "cell_type": "markdown",
      "source": [
        "---\n",
        "\n",
        "<center>\n",
        "\n",
        "## **📖 Control Structures**\n",
        "\n",
        "</center>\n",
        "\n",
        "---"
      ],
      "metadata": {
        "id": "Nz_zUilP97L7"
      }
    },
    {
      "cell_type": "markdown",
      "source": [
        "Sometimes we only want a block of code to run if a certain condition is true.\n",
        "For example, to automatically credit government workers eligible for a bonus, we only want to update their account balances if they are eligible.\n",
        "\n",
        "Python uses these keywords to handle conditional execution:\n",
        "- `if` – if a condition is true\n",
        "- `elif` – else if another condition is true\n",
        "- `else` – if none of the previous conditions are true\n",
        "\n",
        "````python\n",
        "eligible = True\n",
        "balance = 1200\n",
        "\n",
        "# Is the person eligible for the €300 bonus?\n",
        "if eligible == True:\n",
        "    balance += 300\n",
        "else:\n",
        "    balance += 50\n",
        "````\n",
        "\n",
        "**The colon `:` starts an indented block that belongs to the condition**.\n",
        "\n",
        "### **Generating automatic feedback based on grades**\n",
        "\n",
        "A teacher wants to print comments based on a student's grade:\n",
        "````python\n",
        "grade = 14\n",
        "\n",
        "if grade < 5:\n",
        "    print(\"Very insufficient work.\")\n",
        "elif grade < 10:\n",
        "    print(\"Needs improvement.\")\n",
        "elif grade < 15:\n",
        "    print(\"Good work, keep it up!\")\n",
        "else:\n",
        "    print(\"Excellent work, congratulations!\")\n",
        "````\n",
        "\n",
        "---\n",
        "\n",
        "### 🔍 Example:\n",
        "\n",
        "- (a) Rewrite this nested code using `if`, `elif` and `else`:\n",
        "````python\n",
        "if number >= 0:\n",
        "    if number == 0:\n",
        "        print(\"The number is zero.\")\n",
        "    else:\n",
        "        print(\"The number is strictly positive.\")\n",
        "else:\n",
        "    print(\"The number is strictly negative.\")\n",
        "````\n"
      ],
      "metadata": {
        "id": "2bUUVL7X-GAQ"
      }
    },
    {
      "cell_type": "code",
      "source": [
        "number = 20\n",
        "\n",
        "if number > 0:\n",
        "    print(\"The number is strictly positive.\")\n",
        "elif number == 0:\n",
        "    print(\"The number is zero.\")\n",
        "else:\n",
        "    print(\"The number is strictly negative.\")\n"
      ],
      "metadata": {
        "colab": {
          "base_uri": "https://localhost:8080/"
        },
        "id": "TrxitwI69VvN",
        "outputId": "31fddbb3-b1e3-4e53-be27-9bd6e978fdde"
      },
      "execution_count": null,
      "outputs": [
        {
          "output_type": "stream",
          "name": "stdout",
          "text": [
            "The number is strictly positive.\n"
          ]
        }
      ]
    },
    {
      "cell_type": "markdown",
      "source": [
        "---\n",
        "\n",
        "### 🔍 Example:\n",
        "\n",
        "- (b) Is this code syntactically correct ?\n",
        "\n",
        "If not, suggest a correction:\n",
        "````python\n",
        "if height < 160:\n",
        "    print(\"This person is short.\")\n",
        "else if 160 <= height < 180:\n",
        "    print(\"This person is of average height.\")\n",
        "else 180 <= height < 200:\n",
        "    print(\"This person is very tall.\")\n",
        "else:\n",
        "    print(\"This person is extremely tall.\")\n",
        "````"
      ],
      "metadata": {
        "id": "XZffq4SM_nEN"
      }
    },
    {
      "cell_type": "code",
      "source": [
        "height = 185\n",
        "\n",
        "if height < 160:\n",
        "    print(\"This person is short.\")\n",
        "elif height < 180:\n",
        "    print(\"This person is of average height.\")\n",
        "elif height < 200:\n",
        "    print(\"This person is very tall.\")\n",
        "else:\n",
        "    print(\"This person is extremely tall.\")\n"
      ],
      "metadata": {
        "colab": {
          "base_uri": "https://localhost:8080/"
        },
        "id": "NLnj3msD_l2n",
        "outputId": "19270add-0bde-48a6-a87c-cc78cc82b401"
      },
      "execution_count": null,
      "outputs": [
        {
          "output_type": "stream",
          "name": "stdout",
          "text": [
            "This person is very tall.\n"
          ]
        }
      ]
    },
    {
      "cell_type": "markdown",
      "source": [
        "---\n",
        "\n",
        "<center>\n",
        "\n",
        "## **📖 Bonus: Conditional Assignment**\n",
        "\n",
        "</center>\n",
        "\n",
        "---"
      ],
      "metadata": {
        "id": "8vKvBMNvAZ8y"
      }
    },
    {
      "cell_type": "markdown",
      "source": [
        "Our teacher now wants to automatically decide if a student repeats the year based on their average grade.\n",
        "We use a boolean variable `repeat` that should be `True` if the student’s average is below 10, and `False` otherwise.\n",
        "\n",
        "The classic way, using `if` and `else`:\n",
        "````python\n",
        "average = 9.5\n",
        "\n",
        "if average < 10:\n",
        "    repeat = True\n",
        "else:\n",
        "    repeat = False\n",
        "\n",
        "print(repeat)\n",
        ">>> True\n",
        "````\n",
        "\n",
        "Python offers a shorter, elegant one-liner using conditional assignment:\n",
        "\n",
        "````python\n",
        "average = 9.5\n",
        "\n",
        "repeat = True if average < 10 else False\n",
        "\n",
        "print(repeat)\n",
        ">>> True\n",
        "````\n",
        "\n",
        "This compact syntax `is exactly equivalent` to the previous version, but can make code clearer when the logic is simple."
      ],
      "metadata": {
        "id": "9-SDmJLgAiB9"
      }
    },
    {
      "cell_type": "markdown",
      "source": [
        "---\n",
        "\n",
        "<center>\n",
        "\n",
        "## **📖 Conclusion & Recap**\n",
        "\n",
        "</center>\n",
        "\n",
        "---"
      ],
      "metadata": {
        "id": "0BU-SqmnBkCh"
      }
    },
    {
      "cell_type": "markdown",
      "source": [
        "### **Arithmetic operators**\n",
        "\n",
        "These operators can be used on numeric variables to perform basic operations:\n",
        "\n",
        "| Symbol | Operation        | Example      | Result |\n",
        "|:-----:|------------------:|-------------:|------:|\n",
        "| +     | Addition         | `6 + 4`      | 10    |\n",
        "| -     | Subtraction      | `6 - 4`      | 2     |\n",
        "| *     | Multiplication   | `6 * 4`      | 24    |\n",
        "| /     | Real division    | `6 / 4`      | 1.5   |\n",
        "| //    | Integer division | `6.0 // 4`   | 1     |\n",
        "| **    | Power            | `6 ** 4`     | 1296  |\n",
        "| %     | Modulo           | `6 % 4`      | 2     |\n",
        "\n",
        "For all these arithmetic operations, Python also has **assignment operators**  \n",
        "that let you apply the operation and update the variable in a single step:\n",
        "\n",
        "| Symbol | Operation     |\n",
        "|:-----:|--------------:|\n",
        "| +=    | Addition      |\n",
        "| -=    | Subtraction   |\n",
        "| *=    | Multiplication|\n",
        "| /=    | Real division |\n",
        "| //=   | Integer division |\n",
        "| **=   | Power         |\n",
        "| %=    | Modulo        |\n",
        "\n",
        "Example:  \n",
        "```python\n",
        "x += 10   # same as x = x + 10\n",
        "````\n",
        "\n",
        "### **Comparison Operators**\n",
        "\n",
        "| Expression | Example  | Meaning                          |\n",
        "|------------|----------|---------------------------------|\n",
        "| <          | x < y    | Is x strictly less than y?       |\n",
        "| <=         | x <= y   | Is x less than or equal to y?    |\n",
        "| >          | x > y    | Is x strictly greater than y?    |\n",
        "| >=         | x >= y   | Is x greater than or equal to y? |\n",
        "| ==         | x == y   | Is x equal to y?                 |\n",
        "| !=         | x != y   | Is x different from y?           |\n",
        "\n",
        "These operators are mainly used to build control structures with:\n",
        "\n",
        "- `if` → execute a block if a condition is true  \n",
        "- `elif` → check another condition if the previous one was false  \n",
        "- `else` → execute a block if all previous conditions were false  \n",
        "\n",
        "They make your code dynamic and reactive to the values it processes.\n",
        "\n",
        "```python\n",
        "if height < 160:\n",
        "    print(\"This person is short.\")\n",
        "elif 160 <= height < 180:\n",
        "    print(\"This person is of average height.\")\n",
        "elif 180 <= height < 200:\n",
        "    print(\"This person is tall.\")\n",
        "else:\n",
        "    print(\"This person is very tall.\")\n",
        "````\n",
        "\n",
        "Logical operators allow you to build more complex conditions:\n",
        "\n",
        "| Operator | Example    | Meaning                                     |\n",
        "|----------|------------|---------------------------------------------|\n",
        "| and      | P and Q    | Are both P and Q true?                      |\n",
        "| or       | P or Q     | Is at least one of P or Q true?             |\n",
        "| not      | not P      | The negation (opposite) of expression P    |\n",
        "\n",
        "````python\n",
        "if (years_of_service > 10) and (salary < 1500 or salary > 2300):\n",
        "    print(\"This person is eligible for the bonus.\")\n",
        "````"
      ],
      "metadata": {
        "id": "btNMfDgTBvC5"
      }
    },
    {
      "cell_type": "code",
      "source": [],
      "metadata": {
        "id": "UTP3KAx2_-em"
      },
      "execution_count": null,
      "outputs": []
    }
  ]
}