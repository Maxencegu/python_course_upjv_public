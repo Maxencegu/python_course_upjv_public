{
  "nbformat": 4,
  "nbformat_minor": 0,
  "metadata": {
    "colab": {
      "provenance": []
    },
    "kernelspec": {
      "name": "python3",
      "display_name": "Python 3"
    },
    "language_info": {
      "name": "python"
    }
  },
  "cells": [
    {
      "cell_type": "markdown",
      "source": [
        "<center>\n",
        "\n",
        "# **Python pour la science des données**\n",
        "\n",
        "### *Exercices introductifs en Python*\n",
        "\n",
        "</center>"
      ],
      "metadata": {
        "id": "ba1Yh1H0Nwsg"
      }
    },
    {
      "cell_type": "markdown",
      "source": [
        "<center>\n",
        "\n",
        "## **Exercice 1 : Opérations de base sur les variables en Python**\n",
        "\n",
        "</center>\n",
        "\n",
        "---\n",
        "\n",
        "- (a) Attribuez les valeurs suivantes à des variables et affichez-les dans une seule phrase :\n",
        "  - nom : \"Alice\"\n",
        "  - âge : 25\n",
        "  - ville : \"New York\"\n",
        "- (b) Étant données deux variables :\n",
        "``` python\n",
        "x = 10\n",
        "y = 20\n",
        "```\n",
        "- (b) Échangez les valeurs de `x` et `y` sans utiliser de troisième variable. Puis affichez les valeurs de `x` et `y`.  \n",
        "\n",
        "- (c) Créez trois variables :  \n",
        "  - `a` avec la valeur 15  \n",
        "  - `b` avec la valeur 10  \n",
        "  - `c` avec la valeur 5  \n",
        "\n",
        "  En utilisant ces variables, calculez et affichez :  \n",
        "  - La somme des trois variables.  \n",
        "  - Le produit des trois variables.  \n",
        "  - Le résultat de `a - b + c`.  "
      ],
      "metadata": {
        "id": "nz-5DcY9qVb3"
      }
    },
    {
      "cell_type": "code",
      "source": [
        "# TODO"
      ],
      "metadata": {
        "id": "2zrUAIBQrlvx"
      },
      "execution_count": null,
      "outputs": []
    },
    {
      "cell_type": "markdown",
      "source": [
        "---\n",
        "\n",
        "<center>\n",
        "\n",
        "## **Exercice 2 : Indexation de listes et de chaînes en Python**\n",
        "\n",
        "</center>\n",
        "\n",
        "---\n",
        "\n",
        "- (a) Étant donnée la liste :\n",
        "```python\n",
        "fruits = [\"apple\", \"banana\", \"cherry\", \"date\", \"elderberry\"]\n",
        "Imprimez le deuxième et le dernier élément de la liste en utilisant l’indexation.  \n",
        "\n",
        "- (b) Étant donnée la chaîne de caractères :\n",
        "```python\n",
        "word = \"programming\"\n",
        "```\n",
        "Imprimez le premier, le caractère du milieu et le dernier caractère de la chaîne en utilisant l’indexation.  \n",
        "Astuce : utilisez `len()` pour trouver l’index du milieu si nécessaire.  \n",
        "\n",
        "- (c) Étant donnée la liste :\n",
        "```python\n",
        "numbers = [0, 1, 2, 3, 4, 5, 6, 7, 8, 9]\n",
        "```\n",
        "Créez et affichez une nouvelle liste qui contient :  \n",
        "  - Les cinq premiers éléments.  \n",
        "  - Les éléments des indices 3 à 7 (inclus).  \n",
        "  - La liste en ordre inversé.  "
      ],
      "metadata": {
        "id": "M6pYMVmxr1eP"
      }
    },
    {
      "cell_type": "code",
      "source": [
        "# TODO"
      ],
      "metadata": {
        "id": "uYFmuVSVt25m"
      },
      "execution_count": null,
      "outputs": []
    },
    {
      "cell_type": "markdown",
      "source": [
        "---\n",
        "\n",
        "<center>\n",
        "\n",
        "## **Exercice 3 : Méthodes de listes en Python**\n",
        "\n",
        "</center>\n",
        "\n",
        "---\n",
        "\n",
        "- (a) Étant donnée la liste :\n",
        "```python\n",
        "numbers = [10, 20, 30, 40, 50]\n",
        "```\n",
        "Supprimez le dernier élément de la liste en utilisant la méthode `pop` et affichez la liste mise à jour ainsi que l’élément supprimé.  \n",
        "\n",
        "- (b) Étant donnée la chaîne de caractères :\n",
        "```python\n",
        "fruits = [\"apple\", \"banana\", \"cherry\", \"banana\", \"date\"]\n",
        "```\n",
        "Supprimez la première occurrence de `\"banana\"` de la liste en utilisant la méthode `remove` et affichez la liste mise à jour.  \n",
        "\n",
        "- (c) Commencez avec une liste vide :\n",
        "```python\n",
        "colors = []\n",
        "```\n",
        "Ajoutez les couleurs suivantes à la liste une par une en utilisant la méthode `append` : `\"red\"`, `\"green\"`, `\"blue\"`. Puis affichez la liste finale.  \n",
        "\n",
        "- (d) Étant donnée la liste :\n",
        "```python\n",
        "animals = [\"cat\", \"dog\", \"rabbit\"]\n",
        "```\n",
        "Insérez `\"hamster\"` à l’indice 1 en utilisant la méthode `insert`. Affichez la liste mise à jour.  \n",
        "\n",
        "- (e) Étant donnée la liste :\n",
        "```\n",
        "numbers = [5, 2, 9, 1, 5, 6]\n",
        "```\n",
        "Triez la liste par ordre croissant en utilisant la méthode `sort` et affichez la liste triée.  "
      ],
      "metadata": {
        "id": "Nunjhxd6uRf-"
      }
    },
    {
      "cell_type": "code",
      "source": [
        "# TODO"
      ],
      "metadata": {
        "id": "GV1iXNGHuQtH"
      },
      "execution_count": null,
      "outputs": []
    },
    {
      "cell_type": "markdown",
      "source": [
        "---\n",
        "\n",
        "<center>\n",
        "\n",
        "## **Exercice 4 : Tuples en Python**\n",
        "\n",
        "</center>\n",
        "\n",
        "---\n",
        "\n",
        "- (a) Étant donné le tuple :\n",
        "```python\n",
        "colors = (\"red\", \"green\", \"blue\", \"yellow\")\n",
        "```\n",
        "Accédez au premier et au dernier élément du tuple et affichez-les en utilisant l’indexation.  \n",
        "\n",
        "- (b) Étant donné le tuple :\n",
        "```python\n",
        "numbers = (10, 20, 30, 40, 50)\n",
        "```\n",
        "Calculez la somme de tous les éléments du tuple.  \n",
        "\n",
        "- (c) Étant donné le tuple :\n",
        "```python\n",
        "my_tuple = (\"apple\", \"banana\", \"cherry\", \"date\")\n",
        "```\n",
        "Utilisez une méthode pour trouver l’index de l’élément `\"cherry\"`."
      ],
      "metadata": {
        "id": "Kn3kSgK_wF_3"
      }
    },
    {
      "cell_type": "code",
      "source": [
        "# TODO"
      ],
      "metadata": {
        "id": "76GQp2KXw3xo"
      },
      "execution_count": null,
      "outputs": []
    },
    {
      "cell_type": "markdown",
      "source": [
        "---\n",
        "\n",
        "<center>\n",
        "\n",
        "## **Exercice 5 : Dictionnaires en Python**\n",
        "\n",
        "</center>\n",
        "\n",
        "---\n",
        "\n",
        "- (a) Étant donné le dictionnaire :\n",
        "```python\n",
        "person = {\"name\": \"Alice\", \"age\": 25, \"city\": \"New York\"}\n",
        "```\n",
        "Accédez aux valeurs associées aux clés `\"name\"` et `\"city\"` et affichez-les.  \n",
        "\n",
        "- (b) Commencez avec le dictionnaire :\n",
        "```python\n",
        "inventory = {\"apples\": 10, \"bananas\": 5}\n",
        "```\n",
        "  - Ajoutez une nouvelle clé `\"oranges\"` avec la valeur `8`.  \n",
        "  - Mettez à jour la valeur de `\"apples\"` à `15`. Affichez le dictionnaire mis à jour.  \n",
        "\n",
        "- (c) Étant donné le dictionnaire :\n",
        "```python\n",
        "student = {\"name\": \"John\", \"grade\": \"A\", \"age\": 20, \"major\": \"Physics\"}\n",
        "```\n",
        "Supprimez la clé `\"age\"` en utilisant la méthode `pop` et affichez le dictionnaire mis à jour ainsi que la valeur supprimée.  \n",
        "\n",
        "- (d) Étant donné le dictionnaire :\n",
        "```python\n",
        "scores = {\"Alice\": 90, \"Bob\": 85, \"Charlie\": 92}\n",
        "```\n",
        "Utilisez une boucle pour afficher chaque clé et sa valeur correspondante au format : `\"Alice: 90\"`.  "
      ],
      "metadata": {
        "id": "FyH1gmDJxMWs"
      }
    },
    {
      "cell_type": "code",
      "source": [
        "# TODO"
      ],
      "metadata": {
        "id": "rATy6ftEyRI9"
      },
      "execution_count": null,
      "outputs": []
    },
    {
      "cell_type": "markdown",
      "source": [
        "---\n",
        "\n",
        "<center>\n",
        "\n",
        "## **Exercice 6 : Opérateurs logiques en Python**\n",
        "\n",
        "</center>\n",
        "\n",
        "---\n",
        "\n",
        "- (a) Étant données les variables :\n",
        "```python\n",
        "x = 10\n",
        "y = 20\n",
        "```\n",
        "  - Vérifiez si `x` est supérieur à `5` et si `y` est inférieur à `30`. Affichez le résultat.  \n",
        "  - Vérifiez si `x` est égal à `10` ou si `y` est supérieur à `3`. Affichez le résultat.  \n",
        "\n",
        "- (b) Étant données les variables :\n",
        "```python\n",
        "age = 25\n",
        "has_permission = True\n",
        "```\n",
        "Vérifiez si la personne a plus de 18 ans et a la permission. Affichez le résultat.  \n",
        "\n",
        "- (c) Étant données les variables :\n",
        "```python\n",
        "x = 50\n",
        "y = 100\n",
        "z = 75\n",
        "```\n",
        "Vérifiez si `z` se situe entre `x` et `y`. Affichez le résultat.  "
      ],
      "metadata": {
        "id": "l_FCHHVjyXk8"
      }
    },
    {
      "cell_type": "code",
      "source": [
        "# TODO"
      ],
      "metadata": {
        "id": "ypLZW8uhyS8q"
      },
      "execution_count": null,
      "outputs": []
    },
    {
      "cell_type": "markdown",
      "source": [
        "---\n",
        "\n",
        "<center>\n",
        "\n",
        "## **Exercice 7 : Structures de contrôle (IF/ELSE) en Python**\n",
        "\n",
        "</center>\n",
        "\n",
        "---\n",
        "\n",
        "- (a) Écrivez un code pour vérifier si un nombre est positif, négatif ou nul. Testez-le avec la variable suivante :\n",
        "```python\n",
        "number = 1.618\n",
        "```\n",
        "\n",
        "- (b) Étant données les variables :\n",
        "```python\n",
        "age = 20\n",
        "has_ticket = True\n",
        "```\n",
        "Écrivez une instruction `if` imbriquée pour :  \n",
        "  - Vérifier si la personne a un billet :  \n",
        "    - Si oui, vérifiez si elle a `18` ans ou plus et affichez `\"Entrée autorisée\"`.  \n",
        "    - Sinon, affichez `\"Entrée refusée. Vous devez avoir 18 ans ou plus\"`.  \n",
        "  - Si elle n’a pas de billet, affichez `\"Pas de billet, entrée refusée\"`.  \n",
        "\n",
        "- (c) Écrivez un programme Python pour vérifier si un nombre donné est pair ou impair. Testez-le avec la variable suivante :\n",
        "```python\n",
        "number = 42\n",
        "```"
      ],
      "metadata": {
        "id": "1XBxUI_7zXMm"
      }
    },
    {
      "cell_type": "code",
      "source": [
        "# TODO"
      ],
      "metadata": {
        "id": "TqiI6CFzzUhL"
      },
      "execution_count": null,
      "outputs": []
    },
    {
      "cell_type": "markdown",
      "source": [
        "---\n",
        "\n",
        "<center>\n",
        "\n",
        "## **Exercice 8 : Boucles en Python**\n",
        "\n",
        "</center>\n",
        "\n",
        "---\n",
        "\n",
        "- (a) Écrivez un programme Python qui affiche la table de multiplication de 3 en utilisant une boucle `for`. Résultat attendu :\n",
        "```python\n",
        "3 x 1 = 3\n",
        "3 x 2 = 6\n",
        "3 x 3 = 9\n",
        "3 x 4 = 12\n",
        "3 x 5 = 15\n",
        "3 x 6 = 18\n",
        "3 x 7 = 21\n",
        "3 x 8 = 24\n",
        "3 x 9 = 27\n",
        "3 x 10 = 30\n",
        "```\n",
        "- (b) En utilisant `range`, affichez les nombres de `1` à `10`.  \n",
        "\n",
        "- (c) Étant données deux listes :\n",
        "```python\n",
        "colors = [\"red\", \"green\", \"blue\"]\n",
        "shapes = [\"circle\", \"square\", \"triangle\"]\n",
        "```\n",
        "  - Utilisez des boucles `for` imbriquées pour afficher chaque combinaison de couleur et de forme (par exemple, `\"red circle\"`, `\"green square\"`).  \n",
        "  - Utilisez la méthode `zip` pour obtenir le même résultat.  \n",
        "\n",
        "- (d) Étant donnée la liste suivante :\n",
        "```python\n",
        "numbers = [70, 71, 72, 73, 74, 75, 76, 77, 78, 79, 80, 81, 82, 83, 84, 85, 86, 87, 88, 89, 90, 91, 92, 93, 94, 95, 96, 97, 98, 99]\n",
        "```\n",
        "Trouvez les nombres qui sont multiples de `3` et de `5`. Affichez la `somme` totale."
      ],
      "metadata": {
        "id": "yte2ZPqi0WwR"
      }
    },
    {
      "cell_type": "code",
      "source": [
        "# TODO"
      ],
      "metadata": {
        "id": "D74NSAMp0Uio"
      },
      "execution_count": null,
      "outputs": []
    },
    {
      "cell_type": "markdown",
      "source": [
        "---\n",
        "\n",
        "<center>\n",
        "\n",
        "## **Exercice 9 : Fonctions en Python**\n",
        "\n",
        "</center>\n",
        "\n",
        "---\n",
        "\n",
        "- (a) Écrivez une fonction `add_numbers(a, b)` qui prend deux paramètres et renvoie leur somme. Testez la fonction en l’appelant avec différentes paires de nombres.  \n",
        "\n",
        "- (b) Écrivez une fonction `max_of_three(x, y, z)` qui prend trois nombres en arguments et renvoie le plus grand des trois. Testez la fonction avec différentes valeurs.  \n",
        "\n",
        "- (c) Écrivez une fonction `is_palindrome(word)` qui vérifie si la chaîne donnée est un palindrome. Un palindrome est un mot qui se lit de la même façon dans les deux sens. Testez la fonction avec des mots comme `\"madam\"` et `\"hello\"`.  \n",
        "\n",
        "- (d) Écrivez une fonction `convert_temperature(celsius)` qui prend une température en Celsius et la convertit en Fahrenheit en utilisant la formule :\n",
        "```python\n",
        "Fahrenheit = (Celsius * 9/5) + 32\n",
        "```\n",
        "Testez la fonction avec une valeur de 25 degrés Celsius.  \n",
        "\n",
        "- (e) Écrivez une fonction `count_vowels(s)` qui prend une chaîne `s` en entrée et renvoie le nombre de voyelles (a, e, i, o, u) dans la chaîne. Testez la fonction avec une chaîne comme `\"hello world\"`."
      ],
      "metadata": {
        "id": "Et9k_9s41xRX"
      }
    },
    {
      "cell_type": "code",
      "source": [
        "# TODO"
      ],
      "metadata": {
        "id": "aAD8zBRC1uQG"
      },
      "execution_count": null,
      "outputs": []
    },
    {
      "cell_type": "markdown",
      "source": [
        "---\n",
        "\n",
        "<center>\n",
        "\n",
        "## **Exercice 10 : Résolution de problèmes en Python**\n",
        "\n",
        "</center>\n",
        "\n",
        "---\n",
        "**Ces 5 questions nécessitent l’application d’un ou plusieurs concepts des exercices précédents.**\n",
        "\n",
        "- (a) Écrivez une fonction `calculate_average(numbers)` qui prend une liste de nombres en entrée. À l’intérieur de la fonction :  \n",
        "  - Utilisez une `boucle` pour calculer la `somme` des nombres dans la liste.  \n",
        "  - Retournez la `moyenne` des valeurs de la liste.  \n",
        "\n",
        "  Testez la fonction avec la liste :\n",
        "  ```python\n",
        "  numbers = [10, 20, 30, 40, 50]\n",
        "  ```\n",
        "\n",
        "- (b) Écrivez une fonction `get_even_numbers(numbers)` qui :  \n",
        "  - Prend une liste d’entiers en entrée.  \n",
        "  - Utilise le `slicing` et une `boucle` pour trouver tous les nombres `pairs`.  \n",
        "  - Renvoie une nouvelle liste ne contenant que les nombres `pairs`.  \n",
        "\n",
        "  Testez la fonction avec la liste :\n",
        "\n",
        "  ```python\n",
        "  numbers = [1, 2, 3, 4, 5, 6, 7, 8]\n",
        "  ```\n",
        "\n",
        "- (c) Écrivez une fonction `word_count(sentence)` qui :  \n",
        "  - Prend une chaîne de caractères en entrée.  \n",
        "  - `Divise` la chaîne en mots et compte la fréquence de chaque mot à l’aide d’un dictionnaire.  \n",
        "  - Renvoie le dictionnaire des `mots comptés`.  \n",
        "\n",
        "  Testez la fonction avec la phrase :\n",
        "\n",
        "  ```python\n",
        "  sentence = \"this is a test this is only a test\"\n",
        "  ```\n",
        "\n",
        "- (d) Écrivez une fonction `reverse_nested_lists(nested_list)` qui :  \n",
        "  - Prend une liste de listes en entrée.  \n",
        "  - Inverse chaque sous-liste en utilisant le `slicing`.  \n",
        "  - Renvoie la liste modifiée contenant les sous-listes `inversées`.  \n",
        "\n",
        "  Testez la fonction avec :\n",
        "\n",
        "  ```python\n",
        "  nested_list = [[1, 2, 3], [4, 5, 6], [7, 8, 9]]\n",
        "  ```\n",
        "\n",
        "- (e) Écrivez une fonction `create_grades_dict(students, grades)` qui :  \n",
        "  - Prend deux listes : `students` (une liste de noms d’étudiants) et `grades` (une liste de leurs notes correspondantes).  \n",
        "  - Crée et renvoie un `dictionnaire` où les clés sont les noms des étudiants et les valeurs sont leurs notes.  \n",
        "\n",
        "  Testez la fonction avec :\n",
        "\n",
        "  ```python\n",
        "  students = [\"Alice\", \"Bob\", \"Charlie\"]\n",
        "  grades = [85, 90, 78]\n",
        "  ```"
      ],
      "metadata": {
        "id": "eIbqE6703LCd"
      }
    },
    {
      "cell_type": "code",
      "source": [
        "# TODO"
      ],
      "metadata": {
        "id": "WOFOxmCX3Ift"
      },
      "execution_count": null,
      "outputs": []
    },
    {
      "cell_type": "markdown",
      "source": [
        "---\n",
        "\n",
        "<center>\n",
        "\n",
        "## **Exercice 11 : Résolution de problèmes II (difficulté accrue) en Python**\n",
        "\n",
        "</center>\n",
        "\n",
        "---\n",
        "\n",
        "- (a) Écrivez une fonction `merge_dictionaries(dict1, dict2)` qui :  \n",
        "  - Prend deux dictionnaires en entrée.  \n",
        "  - Les fusionne en un seul dictionnaire. Si une même clé existe dans les deux dictionnaires, la valeur de `dict2` doit écraser la valeur de `dict1`.  \n",
        "  - Renvoie le dictionnaire fusionné.  \n",
        "\n",
        "  Testez la fonction avec :\n",
        "\n",
        "  ```python\n",
        "  dict1 = {\"a\": 1, \"b\": 2, \"c\": 3}\n",
        "  dict2 = {\"b\": 4, \"d\": 5}\n",
        "  ```\n",
        "\n",
        "- (b) Écrivez une fonction `second_largest(numbers)` qui :  \n",
        "  - Prend une liste d’`entiers` en entrée.  \n",
        "  - Trouve et renvoie le deuxième `plus grand nombre` de la liste.  \n",
        "  - Supposons que la liste contient au moins deux nombres distincts.  \n",
        "\n",
        "  Testez la fonction avec :\n",
        "\n",
        "  ```python\n",
        "  numbers = [5, 1, 9, 6, 7, 3]\n",
        "  ```\n",
        "\n",
        "- (b) Écrivez une fonction `second_largest(numbers)` qui :  \n",
        "  - Prend une liste d’`entiers` en entrée.  \n",
        "  - Trouve et renvoie le deuxième `plus grand nombre` de la liste.  \n",
        "  - Supposons que la liste contient au moins deux nombres distincts.  \n",
        "\n",
        "  Testez la fonction avec :\n",
        "\n",
        "  ```python\n",
        "  lst = [\"apple\", \"banana\", \"apple\", \"orange\", \"banana\", \"apple\"]\n",
        "  ```\n",
        "\n",
        "- (d) Écrivez une fonction `reverse_vowels(s)` qui :  \n",
        "  - Prend une chaîne `s` en entrée.  \n",
        "  - Inverse uniquement les voyelles de la chaîne tout en gardant les autres caractères à leur place. Par exemple, `\"hello world\"` devient `\"hollo werld\"`.  \n",
        "  - Renvoie la chaîne modifiée.  \n",
        "\n",
        "  Testez la fonction avec :\n",
        "\n",
        "  ```python\n",
        "  s = \"hello world\"\n",
        "  ```\n",
        "\n",
        "- (e) Écrivez une fonction `group_by_parity(numbers)` qui :  \n",
        "  - Prend une liste d’entiers en entrée.  \n",
        "  - Renvoie un dictionnaire avec deux clés : `\"even\"` et `\"odd\"`, où les valeurs sont respectivement les listes des nombres pairs et impairs.  \n",
        "\n",
        "  Testez la fonction avec :\n",
        "\n",
        "  ```python\n",
        "  numbers = [1, 2, 3, 4, 5, 6, 7, 8]\n",
        "  ```"
      ],
      "metadata": {
        "id": "6kTSbmFl6DLQ"
      }
    },
    {
      "cell_type": "code",
      "source": [
        "#TODO"
      ],
      "metadata": {
        "id": "9bD0R0tP6BLn"
      },
      "execution_count": null,
      "outputs": []
    }
  ]
}